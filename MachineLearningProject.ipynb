{
  "nbformat": 4,
  "nbformat_minor": 0,
  "metadata": {
    "colab": {
      "provenance": []
    },
    "kernelspec": {
      "name": "python3",
      "display_name": "Python 3"
    },
    "language_info": {
      "name": "python"
    }
  },
  "cells": [
    {
      "cell_type": "markdown",
      "source": [
        "**Title of Project** :\n",
        "Movie Recommendation System"
      ],
      "metadata": {
        "id": "A8K0z9yKrjTg"
      }
    },
    {
      "cell_type": "markdown",
      "source": [
        "**Objective** : Movie Recommender System is a system that predicts movie preferences according to the user's choices. This Movie Recommender system produce a list of recommendations in any of the two ways-\n",
        "\n",
        "Collaborative filtering: Collaborative filtering approaches build a model from the user's past behavior (i.e items purchased or searched by the user) as well as similar decisions made by other users. This model is then used to predict items (or ratings for items) that users may have an interest in\n",
        "\n",
        " Content-based filtering: Content-based filtering approaches uses a series of discrete characteristics of an item in order to recommend additional items with similar properties Content-based filtering methods are totally based on a description of the item and a profile of the user's preferences. It recommends items based on the user's past preferences (what movies/items are most similar to the user's movie choice)\n"
      ],
      "metadata": {
        "id": "g8rYkvk3sPcv"
      }
    },
    {
      "cell_type": "markdown",
      "source": [
        "**Import Library**"
      ],
      "metadata": {
        "id": "yrhzC45lttBK"
      }
    },
    {
      "cell_type": "code",
      "execution_count": null,
      "metadata": {
        "id": "YKXgz9EVq_Lh"
      },
      "outputs": [],
      "source": [
        "import pandas as pd\n"
      ]
    },
    {
      "cell_type": "code",
      "source": [
        "import numpy as np"
      ],
      "metadata": {
        "id": "bihyMHW-uRql"
      },
      "execution_count": null,
      "outputs": []
    },
    {
      "cell_type": "markdown",
      "source": [
        "**Import Data**"
      ],
      "metadata": {
        "id": "Q9ehSVb8uY8l"
      }
    },
    {
      "cell_type": "code",
      "source": [
        "df = pd.read_csv('https://github.com/YBIFoundation/Dataset/raw/main/Movies%20Recommendation.csv')"
      ],
      "metadata": {
        "id": "iljCQ8zEuatC"
      },
      "execution_count": null,
      "outputs": []
    },
    {
      "cell_type": "code",
      "source": [
        "df.head()"
      ],
      "metadata": {
        "colab": {
          "base_uri": "https://localhost:8080/",
          "height": 768
        },
        "id": "9JHrpa0fZg5P",
        "outputId": "d87d980d-7fa3-4ed8-e195-1b6f277370dc"
      },
      "execution_count": null,
      "outputs": [
        {
          "output_type": "execute_result",
          "data": {
            "text/plain": [
              "   Movie_ID      Movie_Title                       Movie_Genre Movie_Language  \\\n",
              "0         1       Four Rooms                      Crime Comedy             en   \n",
              "1         2        Star Wars  Adventure Action Science Fiction             en   \n",
              "2         3     Finding Nemo                  Animation Family             en   \n",
              "3         4     Forrest Gump              Comedy Drama Romance             en   \n",
              "4         5  American Beauty                             Drama             en   \n",
              "\n",
              "   Movie_Budget  Movie_Popularity Movie_Release_Date  Movie_Revenue  \\\n",
              "0       4000000         22.876230         09-12-1995        4300000   \n",
              "1      11000000        126.393695         25-05-1977      775398007   \n",
              "2      94000000         85.688789         30-05-2003      940335536   \n",
              "3      55000000        138.133331         06-07-1994      677945399   \n",
              "4      15000000         80.878605         15-09-1999      356296601   \n",
              "\n",
              "   Movie_Runtime  Movie_Vote  ...  \\\n",
              "0           98.0         6.5  ...   \n",
              "1          121.0         8.1  ...   \n",
              "2          100.0         7.6  ...   \n",
              "3          142.0         8.2  ...   \n",
              "4          122.0         7.9  ...   \n",
              "\n",
              "                                      Movie_Homepage  \\\n",
              "0                                                NaN   \n",
              "1  http://www.starwars.com/films/star-wars-episod...   \n",
              "2              http://movies.disney.com/finding-nemo   \n",
              "3                                                NaN   \n",
              "4                      http://www.dreamworks.com/ab/   \n",
              "\n",
              "                                      Movie_Keywords  \\\n",
              "0          hotel new year's eve witch bet hotel room   \n",
              "1        android galaxy hermit death star lightsaber   \n",
              "2  father son relationship harbor underwater fish...   \n",
              "3  vietnam veteran hippie mentally disabled runni...   \n",
              "4  male nudity female nudity adultery midlife cri...   \n",
              "\n",
              "                                      Movie_Overview  \\\n",
              "0  It's Ted the Bellhop's first night on the job....   \n",
              "1  Princess Leia is captured and held hostage by ...   \n",
              "2  Nemo, an adventurous young clownfish, is unexp...   \n",
              "3  A man with a low IQ has accomplished great thi...   \n",
              "4  Lester Burnham, a depressed suburban father in...   \n",
              "\n",
              "                              Movie_Production_House  \\\n",
              "0  [{\"name\": \"Miramax Films\", \"id\": 14}, {\"name\":...   \n",
              "1  [{\"name\": \"Lucasfilm\", \"id\": 1}, {\"name\": \"Twe...   \n",
              "2     [{\"name\": \"Pixar Animation Studios\", \"id\": 3}]   \n",
              "3          [{\"name\": \"Paramount Pictures\", \"id\": 4}]   \n",
              "4  [{\"name\": \"DreamWorks SKG\", \"id\": 27}, {\"name\"...   \n",
              "\n",
              "                            Movie_Production_Country  \\\n",
              "0  [{\"iso_3166_1\": \"US\", \"name\": \"United States o...   \n",
              "1  [{\"iso_3166_1\": \"US\", \"name\": \"United States o...   \n",
              "2  [{\"iso_3166_1\": \"US\", \"name\": \"United States o...   \n",
              "3  [{\"iso_3166_1\": \"US\", \"name\": \"United States o...   \n",
              "4  [{\"iso_3166_1\": \"US\", \"name\": \"United States o...   \n",
              "\n",
              "                      Movie_Spoken_Language  \\\n",
              "0  [{\"iso_639_1\": \"en\", \"name\": \"English\"}]   \n",
              "1  [{\"iso_639_1\": \"en\", \"name\": \"English\"}]   \n",
              "2  [{\"iso_639_1\": \"en\", \"name\": \"English\"}]   \n",
              "3  [{\"iso_639_1\": \"en\", \"name\": \"English\"}]   \n",
              "4  [{\"iso_639_1\": \"en\", \"name\": \"English\"}]   \n",
              "\n",
              "                                       Movie_Tagline  \\\n",
              "0  Twelve outrageous guests. Four scandalous requ...   \n",
              "1       A long time ago in a galaxy far, far away...   \n",
              "2  There are 3.7 trillion fish in the ocean, they...   \n",
              "3  The world will never be the same, once you've ...   \n",
              "4                                       Look closer.   \n",
              "\n",
              "                                          Movie_Cast  \\\n",
              "0  Tim Roth Antonio Banderas Jennifer Beals Madon...   \n",
              "1  Mark Hamill Harrison Ford Carrie Fisher Peter ...   \n",
              "2  Albert Brooks Ellen DeGeneres Alexander Gould ...   \n",
              "3  Tom Hanks Robin Wright Gary Sinise Mykelti Wil...   \n",
              "4  Kevin Spacey Annette Bening Thora Birch Wes Be...   \n",
              "\n",
              "                                          Movie_Crew   Movie_Director  \n",
              "0  [{'name': 'Allison Anders', 'gender': 1, 'depa...   Allison Anders  \n",
              "1  [{'name': 'George Lucas', 'gender': 2, 'depart...     George Lucas  \n",
              "2  [{'name': 'Andrew Stanton', 'gender': 2, 'depa...   Andrew Stanton  \n",
              "3  [{'name': 'Alan Silvestri', 'gender': 2, 'depa...  Robert Zemeckis  \n",
              "4  [{'name': 'Thomas Newman', 'gender': 2, 'depar...       Sam Mendes  \n",
              "\n",
              "[5 rows x 21 columns]"
            ],
            "text/html": [
              "\n",
              "\n",
              "  <div id=\"df-18e9d647-34b0-4d3b-9848-ec6355f254f1\">\n",
              "    <div class=\"colab-df-container\">\n",
              "      <div>\n",
              "<style scoped>\n",
              "    .dataframe tbody tr th:only-of-type {\n",
              "        vertical-align: middle;\n",
              "    }\n",
              "\n",
              "    .dataframe tbody tr th {\n",
              "        vertical-align: top;\n",
              "    }\n",
              "\n",
              "    .dataframe thead th {\n",
              "        text-align: right;\n",
              "    }\n",
              "</style>\n",
              "<table border=\"1\" class=\"dataframe\">\n",
              "  <thead>\n",
              "    <tr style=\"text-align: right;\">\n",
              "      <th></th>\n",
              "      <th>Movie_ID</th>\n",
              "      <th>Movie_Title</th>\n",
              "      <th>Movie_Genre</th>\n",
              "      <th>Movie_Language</th>\n",
              "      <th>Movie_Budget</th>\n",
              "      <th>Movie_Popularity</th>\n",
              "      <th>Movie_Release_Date</th>\n",
              "      <th>Movie_Revenue</th>\n",
              "      <th>Movie_Runtime</th>\n",
              "      <th>Movie_Vote</th>\n",
              "      <th>...</th>\n",
              "      <th>Movie_Homepage</th>\n",
              "      <th>Movie_Keywords</th>\n",
              "      <th>Movie_Overview</th>\n",
              "      <th>Movie_Production_House</th>\n",
              "      <th>Movie_Production_Country</th>\n",
              "      <th>Movie_Spoken_Language</th>\n",
              "      <th>Movie_Tagline</th>\n",
              "      <th>Movie_Cast</th>\n",
              "      <th>Movie_Crew</th>\n",
              "      <th>Movie_Director</th>\n",
              "    </tr>\n",
              "  </thead>\n",
              "  <tbody>\n",
              "    <tr>\n",
              "      <th>0</th>\n",
              "      <td>1</td>\n",
              "      <td>Four Rooms</td>\n",
              "      <td>Crime Comedy</td>\n",
              "      <td>en</td>\n",
              "      <td>4000000</td>\n",
              "      <td>22.876230</td>\n",
              "      <td>09-12-1995</td>\n",
              "      <td>4300000</td>\n",
              "      <td>98.0</td>\n",
              "      <td>6.5</td>\n",
              "      <td>...</td>\n",
              "      <td>NaN</td>\n",
              "      <td>hotel new year's eve witch bet hotel room</td>\n",
              "      <td>It's Ted the Bellhop's first night on the job....</td>\n",
              "      <td>[{\"name\": \"Miramax Films\", \"id\": 14}, {\"name\":...</td>\n",
              "      <td>[{\"iso_3166_1\": \"US\", \"name\": \"United States o...</td>\n",
              "      <td>[{\"iso_639_1\": \"en\", \"name\": \"English\"}]</td>\n",
              "      <td>Twelve outrageous guests. Four scandalous requ...</td>\n",
              "      <td>Tim Roth Antonio Banderas Jennifer Beals Madon...</td>\n",
              "      <td>[{'name': 'Allison Anders', 'gender': 1, 'depa...</td>\n",
              "      <td>Allison Anders</td>\n",
              "    </tr>\n",
              "    <tr>\n",
              "      <th>1</th>\n",
              "      <td>2</td>\n",
              "      <td>Star Wars</td>\n",
              "      <td>Adventure Action Science Fiction</td>\n",
              "      <td>en</td>\n",
              "      <td>11000000</td>\n",
              "      <td>126.393695</td>\n",
              "      <td>25-05-1977</td>\n",
              "      <td>775398007</td>\n",
              "      <td>121.0</td>\n",
              "      <td>8.1</td>\n",
              "      <td>...</td>\n",
              "      <td>http://www.starwars.com/films/star-wars-episod...</td>\n",
              "      <td>android galaxy hermit death star lightsaber</td>\n",
              "      <td>Princess Leia is captured and held hostage by ...</td>\n",
              "      <td>[{\"name\": \"Lucasfilm\", \"id\": 1}, {\"name\": \"Twe...</td>\n",
              "      <td>[{\"iso_3166_1\": \"US\", \"name\": \"United States o...</td>\n",
              "      <td>[{\"iso_639_1\": \"en\", \"name\": \"English\"}]</td>\n",
              "      <td>A long time ago in a galaxy far, far away...</td>\n",
              "      <td>Mark Hamill Harrison Ford Carrie Fisher Peter ...</td>\n",
              "      <td>[{'name': 'George Lucas', 'gender': 2, 'depart...</td>\n",
              "      <td>George Lucas</td>\n",
              "    </tr>\n",
              "    <tr>\n",
              "      <th>2</th>\n",
              "      <td>3</td>\n",
              "      <td>Finding Nemo</td>\n",
              "      <td>Animation Family</td>\n",
              "      <td>en</td>\n",
              "      <td>94000000</td>\n",
              "      <td>85.688789</td>\n",
              "      <td>30-05-2003</td>\n",
              "      <td>940335536</td>\n",
              "      <td>100.0</td>\n",
              "      <td>7.6</td>\n",
              "      <td>...</td>\n",
              "      <td>http://movies.disney.com/finding-nemo</td>\n",
              "      <td>father son relationship harbor underwater fish...</td>\n",
              "      <td>Nemo, an adventurous young clownfish, is unexp...</td>\n",
              "      <td>[{\"name\": \"Pixar Animation Studios\", \"id\": 3}]</td>\n",
              "      <td>[{\"iso_3166_1\": \"US\", \"name\": \"United States o...</td>\n",
              "      <td>[{\"iso_639_1\": \"en\", \"name\": \"English\"}]</td>\n",
              "      <td>There are 3.7 trillion fish in the ocean, they...</td>\n",
              "      <td>Albert Brooks Ellen DeGeneres Alexander Gould ...</td>\n",
              "      <td>[{'name': 'Andrew Stanton', 'gender': 2, 'depa...</td>\n",
              "      <td>Andrew Stanton</td>\n",
              "    </tr>\n",
              "    <tr>\n",
              "      <th>3</th>\n",
              "      <td>4</td>\n",
              "      <td>Forrest Gump</td>\n",
              "      <td>Comedy Drama Romance</td>\n",
              "      <td>en</td>\n",
              "      <td>55000000</td>\n",
              "      <td>138.133331</td>\n",
              "      <td>06-07-1994</td>\n",
              "      <td>677945399</td>\n",
              "      <td>142.0</td>\n",
              "      <td>8.2</td>\n",
              "      <td>...</td>\n",
              "      <td>NaN</td>\n",
              "      <td>vietnam veteran hippie mentally disabled runni...</td>\n",
              "      <td>A man with a low IQ has accomplished great thi...</td>\n",
              "      <td>[{\"name\": \"Paramount Pictures\", \"id\": 4}]</td>\n",
              "      <td>[{\"iso_3166_1\": \"US\", \"name\": \"United States o...</td>\n",
              "      <td>[{\"iso_639_1\": \"en\", \"name\": \"English\"}]</td>\n",
              "      <td>The world will never be the same, once you've ...</td>\n",
              "      <td>Tom Hanks Robin Wright Gary Sinise Mykelti Wil...</td>\n",
              "      <td>[{'name': 'Alan Silvestri', 'gender': 2, 'depa...</td>\n",
              "      <td>Robert Zemeckis</td>\n",
              "    </tr>\n",
              "    <tr>\n",
              "      <th>4</th>\n",
              "      <td>5</td>\n",
              "      <td>American Beauty</td>\n",
              "      <td>Drama</td>\n",
              "      <td>en</td>\n",
              "      <td>15000000</td>\n",
              "      <td>80.878605</td>\n",
              "      <td>15-09-1999</td>\n",
              "      <td>356296601</td>\n",
              "      <td>122.0</td>\n",
              "      <td>7.9</td>\n",
              "      <td>...</td>\n",
              "      <td>http://www.dreamworks.com/ab/</td>\n",
              "      <td>male nudity female nudity adultery midlife cri...</td>\n",
              "      <td>Lester Burnham, a depressed suburban father in...</td>\n",
              "      <td>[{\"name\": \"DreamWorks SKG\", \"id\": 27}, {\"name\"...</td>\n",
              "      <td>[{\"iso_3166_1\": \"US\", \"name\": \"United States o...</td>\n",
              "      <td>[{\"iso_639_1\": \"en\", \"name\": \"English\"}]</td>\n",
              "      <td>Look closer.</td>\n",
              "      <td>Kevin Spacey Annette Bening Thora Birch Wes Be...</td>\n",
              "      <td>[{'name': 'Thomas Newman', 'gender': 2, 'depar...</td>\n",
              "      <td>Sam Mendes</td>\n",
              "    </tr>\n",
              "  </tbody>\n",
              "</table>\n",
              "<p>5 rows × 21 columns</p>\n",
              "</div>\n",
              "      <button class=\"colab-df-convert\" onclick=\"convertToInteractive('df-18e9d647-34b0-4d3b-9848-ec6355f254f1')\"\n",
              "              title=\"Convert this dataframe to an interactive table.\"\n",
              "              style=\"display:none;\">\n",
              "\n",
              "  <svg xmlns=\"http://www.w3.org/2000/svg\" height=\"24px\"viewBox=\"0 0 24 24\"\n",
              "       width=\"24px\">\n",
              "    <path d=\"M0 0h24v24H0V0z\" fill=\"none\"/>\n",
              "    <path d=\"M18.56 5.44l.94 2.06.94-2.06 2.06-.94-2.06-.94-.94-2.06-.94 2.06-2.06.94zm-11 1L8.5 8.5l.94-2.06 2.06-.94-2.06-.94L8.5 2.5l-.94 2.06-2.06.94zm10 10l.94 2.06.94-2.06 2.06-.94-2.06-.94-.94-2.06-.94 2.06-2.06.94z\"/><path d=\"M17.41 7.96l-1.37-1.37c-.4-.4-.92-.59-1.43-.59-.52 0-1.04.2-1.43.59L10.3 9.45l-7.72 7.72c-.78.78-.78 2.05 0 2.83L4 21.41c.39.39.9.59 1.41.59.51 0 1.02-.2 1.41-.59l7.78-7.78 2.81-2.81c.8-.78.8-2.07 0-2.86zM5.41 20L4 18.59l7.72-7.72 1.47 1.35L5.41 20z\"/>\n",
              "  </svg>\n",
              "      </button>\n",
              "\n",
              "\n",
              "\n",
              "    <div id=\"df-bb5d992f-f73b-4c3e-92da-fb3deae56ef7\">\n",
              "      <button class=\"colab-df-quickchart\" onclick=\"quickchart('df-bb5d992f-f73b-4c3e-92da-fb3deae56ef7')\"\n",
              "              title=\"Suggest charts.\"\n",
              "              style=\"display:none;\">\n",
              "\n",
              "<svg xmlns=\"http://www.w3.org/2000/svg\" height=\"24px\"viewBox=\"0 0 24 24\"\n",
              "     width=\"24px\">\n",
              "    <g>\n",
              "        <path d=\"M19 3H5c-1.1 0-2 .9-2 2v14c0 1.1.9 2 2 2h14c1.1 0 2-.9 2-2V5c0-1.1-.9-2-2-2zM9 17H7v-7h2v7zm4 0h-2V7h2v10zm4 0h-2v-4h2v4z\"/>\n",
              "    </g>\n",
              "</svg>\n",
              "      </button>\n",
              "    </div>\n",
              "\n",
              "<style>\n",
              "  .colab-df-quickchart {\n",
              "    background-color: #E8F0FE;\n",
              "    border: none;\n",
              "    border-radius: 50%;\n",
              "    cursor: pointer;\n",
              "    display: none;\n",
              "    fill: #1967D2;\n",
              "    height: 32px;\n",
              "    padding: 0 0 0 0;\n",
              "    width: 32px;\n",
              "  }\n",
              "\n",
              "  .colab-df-quickchart:hover {\n",
              "    background-color: #E2EBFA;\n",
              "    box-shadow: 0px 1px 2px rgba(60, 64, 67, 0.3), 0px 1px 3px 1px rgba(60, 64, 67, 0.15);\n",
              "    fill: #174EA6;\n",
              "  }\n",
              "\n",
              "  [theme=dark] .colab-df-quickchart {\n",
              "    background-color: #3B4455;\n",
              "    fill: #D2E3FC;\n",
              "  }\n",
              "\n",
              "  [theme=dark] .colab-df-quickchart:hover {\n",
              "    background-color: #434B5C;\n",
              "    box-shadow: 0px 1px 3px 1px rgba(0, 0, 0, 0.15);\n",
              "    filter: drop-shadow(0px 1px 2px rgba(0, 0, 0, 0.3));\n",
              "    fill: #FFFFFF;\n",
              "  }\n",
              "</style>\n",
              "\n",
              "    <script>\n",
              "      async function quickchart(key) {\n",
              "        const containerElement = document.querySelector('#' + key);\n",
              "        const charts = await google.colab.kernel.invokeFunction(\n",
              "            'suggestCharts', [key], {});\n",
              "      }\n",
              "    </script>\n",
              "\n",
              "      <script>\n",
              "\n",
              "function displayQuickchartButton(domScope) {\n",
              "  let quickchartButtonEl =\n",
              "    domScope.querySelector('#df-bb5d992f-f73b-4c3e-92da-fb3deae56ef7 button.colab-df-quickchart');\n",
              "  quickchartButtonEl.style.display =\n",
              "    google.colab.kernel.accessAllowed ? 'block' : 'none';\n",
              "}\n",
              "\n",
              "        displayQuickchartButton(document);\n",
              "      </script>\n",
              "      <style>\n",
              "    .colab-df-container {\n",
              "      display:flex;\n",
              "      flex-wrap:wrap;\n",
              "      gap: 12px;\n",
              "    }\n",
              "\n",
              "    .colab-df-convert {\n",
              "      background-color: #E8F0FE;\n",
              "      border: none;\n",
              "      border-radius: 50%;\n",
              "      cursor: pointer;\n",
              "      display: none;\n",
              "      fill: #1967D2;\n",
              "      height: 32px;\n",
              "      padding: 0 0 0 0;\n",
              "      width: 32px;\n",
              "    }\n",
              "\n",
              "    .colab-df-convert:hover {\n",
              "      background-color: #E2EBFA;\n",
              "      box-shadow: 0px 1px 2px rgba(60, 64, 67, 0.3), 0px 1px 3px 1px rgba(60, 64, 67, 0.15);\n",
              "      fill: #174EA6;\n",
              "    }\n",
              "\n",
              "    [theme=dark] .colab-df-convert {\n",
              "      background-color: #3B4455;\n",
              "      fill: #D2E3FC;\n",
              "    }\n",
              "\n",
              "    [theme=dark] .colab-df-convert:hover {\n",
              "      background-color: #434B5C;\n",
              "      box-shadow: 0px 1px 3px 1px rgba(0, 0, 0, 0.15);\n",
              "      filter: drop-shadow(0px 1px 2px rgba(0, 0, 0, 0.3));\n",
              "      fill: #FFFFFF;\n",
              "    }\n",
              "  </style>\n",
              "\n",
              "      <script>\n",
              "        const buttonEl =\n",
              "          document.querySelector('#df-18e9d647-34b0-4d3b-9848-ec6355f254f1 button.colab-df-convert');\n",
              "        buttonEl.style.display =\n",
              "          google.colab.kernel.accessAllowed ? 'block' : 'none';\n",
              "\n",
              "        async function convertToInteractive(key) {\n",
              "          const element = document.querySelector('#df-18e9d647-34b0-4d3b-9848-ec6355f254f1');\n",
              "          const dataTable =\n",
              "            await google.colab.kernel.invokeFunction('convertToInteractive',\n",
              "                                                     [key], {});\n",
              "          if (!dataTable) return;\n",
              "\n",
              "          const docLinkHtml = 'Like what you see? Visit the ' +\n",
              "            '<a target=\"_blank\" href=https://colab.research.google.com/notebooks/data_table.ipynb>data table notebook</a>'\n",
              "            + ' to learn more about interactive tables.';\n",
              "          element.innerHTML = '';\n",
              "          dataTable['output_type'] = 'display_data';\n",
              "          await google.colab.output.renderOutput(dataTable, element);\n",
              "          const docLink = document.createElement('div');\n",
              "          docLink.innerHTML = docLinkHtml;\n",
              "          element.appendChild(docLink);\n",
              "        }\n",
              "      </script>\n",
              "    </div>\n",
              "  </div>\n"
            ]
          },
          "metadata": {},
          "execution_count": 4
        }
      ]
    },
    {
      "cell_type": "code",
      "source": [
        "df.info()"
      ],
      "metadata": {
        "colab": {
          "base_uri": "https://localhost:8080/"
        },
        "id": "uZs4JmM6o7PN",
        "outputId": "fbcc82d4-7d4c-4736-875e-62bf833764cf"
      },
      "execution_count": null,
      "outputs": [
        {
          "output_type": "stream",
          "name": "stdout",
          "text": [
            "<class 'pandas.core.frame.DataFrame'>\n",
            "RangeIndex: 4760 entries, 0 to 4759\n",
            "Data columns (total 21 columns):\n",
            " #   Column                    Non-Null Count  Dtype  \n",
            "---  ------                    --------------  -----  \n",
            " 0   Movie_ID                  4760 non-null   int64  \n",
            " 1   Movie_Title               4760 non-null   object \n",
            " 2   Movie_Genre               4760 non-null   object \n",
            " 3   Movie_Language            4760 non-null   object \n",
            " 4   Movie_Budget              4760 non-null   int64  \n",
            " 5   Movie_Popularity          4760 non-null   float64\n",
            " 6   Movie_Release_Date        4760 non-null   object \n",
            " 7   Movie_Revenue             4760 non-null   int64  \n",
            " 8   Movie_Runtime             4758 non-null   float64\n",
            " 9   Movie_Vote                4760 non-null   float64\n",
            " 10  Movie_Vote_Count          4760 non-null   int64  \n",
            " 11  Movie_Homepage            1699 non-null   object \n",
            " 12  Movie_Keywords            4373 non-null   object \n",
            " 13  Movie_Overview            4757 non-null   object \n",
            " 14  Movie_Production_House    4760 non-null   object \n",
            " 15  Movie_Production_Country  4760 non-null   object \n",
            " 16  Movie_Spoken_Language     4760 non-null   object \n",
            " 17  Movie_Tagline             3942 non-null   object \n",
            " 18  Movie_Cast                4733 non-null   object \n",
            " 19  Movie_Crew                4760 non-null   object \n",
            " 20  Movie_Director            4738 non-null   object \n",
            "dtypes: float64(3), int64(4), object(14)\n",
            "memory usage: 781.1+ KB\n"
          ]
        }
      ]
    },
    {
      "cell_type": "code",
      "source": [
        "df.shape"
      ],
      "metadata": {
        "colab": {
          "base_uri": "https://localhost:8080/"
        },
        "id": "fs9b13MCpA_V",
        "outputId": "099e5dc9-97ac-414c-ca80-ebce1180bf39"
      },
      "execution_count": null,
      "outputs": [
        {
          "output_type": "execute_result",
          "data": {
            "text/plain": [
              "(4760, 21)"
            ]
          },
          "metadata": {},
          "execution_count": 6
        }
      ]
    },
    {
      "cell_type": "code",
      "source": [
        "df.columns"
      ],
      "metadata": {
        "colab": {
          "base_uri": "https://localhost:8080/"
        },
        "id": "sZha1vghpL6k",
        "outputId": "087e9b3b-7758-4cde-b399-d39630c29feb"
      },
      "execution_count": null,
      "outputs": [
        {
          "output_type": "execute_result",
          "data": {
            "text/plain": [
              "Index(['Movie_ID', 'Movie_Title', 'Movie_Genre', 'Movie_Language',\n",
              "       'Movie_Budget', 'Movie_Popularity', 'Movie_Release_Date',\n",
              "       'Movie_Revenue', 'Movie_Runtime', 'Movie_Vote', 'Movie_Vote_Count',\n",
              "       'Movie_Homepage', 'Movie_Keywords', 'Movie_Overview',\n",
              "       'Movie_Production_House', 'Movie_Production_Country',\n",
              "       'Movie_Spoken_Language', 'Movie_Tagline', 'Movie_Cast', 'Movie_Crew',\n",
              "       'Movie_Director'],\n",
              "      dtype='object')"
            ]
          },
          "metadata": {},
          "execution_count": 7
        }
      ]
    },
    {
      "cell_type": "markdown",
      "source": [
        "**Get Features Selection**"
      ],
      "metadata": {
        "id": "dTTTmXRJpSEc"
      }
    },
    {
      "cell_type": "code",
      "source": [
        "df_features = df[['Movie_Genre', 'Movie_Keywords', 'Movie_Tagline','Movie_Cast','Movie_Director']].fillna(' ')"
      ],
      "metadata": {
        "id": "B87MnAzUpWu-"
      },
      "execution_count": null,
      "outputs": []
    },
    {
      "cell_type": "code",
      "source": [
        "df_features.shape"
      ],
      "metadata": {
        "colab": {
          "base_uri": "https://localhost:8080/"
        },
        "id": "RVh1hpRTrLHO",
        "outputId": "98dd0de1-6bb8-4f23-e7ef-c112fcf94980"
      },
      "execution_count": null,
      "outputs": [
        {
          "output_type": "execute_result",
          "data": {
            "text/plain": [
              "(4760, 5)"
            ]
          },
          "metadata": {},
          "execution_count": 9
        }
      ]
    },
    {
      "cell_type": "code",
      "source": [
        "df_features"
      ],
      "metadata": {
        "colab": {
          "base_uri": "https://localhost:8080/",
          "height": 624
        },
        "id": "WDzghKjJrXfr",
        "outputId": "f9d0ef44-7c15-4d8a-fe1e-484295a79cc1"
      },
      "execution_count": null,
      "outputs": [
        {
          "output_type": "execute_result",
          "data": {
            "text/plain": [
              "                           Movie_Genre  \\\n",
              "0                         Crime Comedy   \n",
              "1     Adventure Action Science Fiction   \n",
              "2                     Animation Family   \n",
              "3                 Comedy Drama Romance   \n",
              "4                                Drama   \n",
              "...                                ...   \n",
              "4755                            Horror   \n",
              "4756               Comedy Family Drama   \n",
              "4757                    Thriller Drama   \n",
              "4758                            Family   \n",
              "4759                       Documentary   \n",
              "\n",
              "                                         Movie_Keywords  \\\n",
              "0             hotel new year's eve witch bet hotel room   \n",
              "1           android galaxy hermit death star lightsaber   \n",
              "2     father son relationship harbor underwater fish...   \n",
              "3     vietnam veteran hippie mentally disabled runni...   \n",
              "4     male nudity female nudity adultery midlife cri...   \n",
              "...                                                 ...   \n",
              "4755                                                      \n",
              "4756                                                      \n",
              "4757                     christian film sex trafficking   \n",
              "4758                                                      \n",
              "4759  music actors legendary perfomer classic hollyw...   \n",
              "\n",
              "                                          Movie_Tagline  \\\n",
              "0     Twelve outrageous guests. Four scandalous requ...   \n",
              "1          A long time ago in a galaxy far, far away...   \n",
              "2     There are 3.7 trillion fish in the ocean, they...   \n",
              "3     The world will never be the same, once you've ...   \n",
              "4                                          Look closer.   \n",
              "...                                                 ...   \n",
              "4755                The hot spot where Satan's waitin'.   \n",
              "4756           It’s better to stand out than to fit in.   \n",
              "4757           She never knew it could happen to her...   \n",
              "4758                                                      \n",
              "4759                                                      \n",
              "\n",
              "                                             Movie_Cast     Movie_Director  \n",
              "0     Tim Roth Antonio Banderas Jennifer Beals Madon...     Allison Anders  \n",
              "1     Mark Hamill Harrison Ford Carrie Fisher Peter ...       George Lucas  \n",
              "2     Albert Brooks Ellen DeGeneres Alexander Gould ...     Andrew Stanton  \n",
              "3     Tom Hanks Robin Wright Gary Sinise Mykelti Wil...    Robert Zemeckis  \n",
              "4     Kevin Spacey Annette Bening Thora Birch Wes Be...         Sam Mendes  \n",
              "...                                                 ...                ...  \n",
              "4755  Lisa Hart Carroll Michael Des Barres Paul Drak...         Pece Dingo  \n",
              "4756  Roni Akurati Brighton Sharbino Jason Lee Anjul...       Frank Lotito  \n",
              "4757  Nicole Smolen Kim Baldwin Ariana Stephens Brys...       Jaco Booyens  \n",
              "4758                                                                        \n",
              "4759                                    Tony Oppedisano  Simon Napier-Bell  \n",
              "\n",
              "[4760 rows x 5 columns]"
            ],
            "text/html": [
              "\n",
              "\n",
              "  <div id=\"df-7564b3b8-a158-4ed7-88d7-0b8916705d05\">\n",
              "    <div class=\"colab-df-container\">\n",
              "      <div>\n",
              "<style scoped>\n",
              "    .dataframe tbody tr th:only-of-type {\n",
              "        vertical-align: middle;\n",
              "    }\n",
              "\n",
              "    .dataframe tbody tr th {\n",
              "        vertical-align: top;\n",
              "    }\n",
              "\n",
              "    .dataframe thead th {\n",
              "        text-align: right;\n",
              "    }\n",
              "</style>\n",
              "<table border=\"1\" class=\"dataframe\">\n",
              "  <thead>\n",
              "    <tr style=\"text-align: right;\">\n",
              "      <th></th>\n",
              "      <th>Movie_Genre</th>\n",
              "      <th>Movie_Keywords</th>\n",
              "      <th>Movie_Tagline</th>\n",
              "      <th>Movie_Cast</th>\n",
              "      <th>Movie_Director</th>\n",
              "    </tr>\n",
              "  </thead>\n",
              "  <tbody>\n",
              "    <tr>\n",
              "      <th>0</th>\n",
              "      <td>Crime Comedy</td>\n",
              "      <td>hotel new year's eve witch bet hotel room</td>\n",
              "      <td>Twelve outrageous guests. Four scandalous requ...</td>\n",
              "      <td>Tim Roth Antonio Banderas Jennifer Beals Madon...</td>\n",
              "      <td>Allison Anders</td>\n",
              "    </tr>\n",
              "    <tr>\n",
              "      <th>1</th>\n",
              "      <td>Adventure Action Science Fiction</td>\n",
              "      <td>android galaxy hermit death star lightsaber</td>\n",
              "      <td>A long time ago in a galaxy far, far away...</td>\n",
              "      <td>Mark Hamill Harrison Ford Carrie Fisher Peter ...</td>\n",
              "      <td>George Lucas</td>\n",
              "    </tr>\n",
              "    <tr>\n",
              "      <th>2</th>\n",
              "      <td>Animation Family</td>\n",
              "      <td>father son relationship harbor underwater fish...</td>\n",
              "      <td>There are 3.7 trillion fish in the ocean, they...</td>\n",
              "      <td>Albert Brooks Ellen DeGeneres Alexander Gould ...</td>\n",
              "      <td>Andrew Stanton</td>\n",
              "    </tr>\n",
              "    <tr>\n",
              "      <th>3</th>\n",
              "      <td>Comedy Drama Romance</td>\n",
              "      <td>vietnam veteran hippie mentally disabled runni...</td>\n",
              "      <td>The world will never be the same, once you've ...</td>\n",
              "      <td>Tom Hanks Robin Wright Gary Sinise Mykelti Wil...</td>\n",
              "      <td>Robert Zemeckis</td>\n",
              "    </tr>\n",
              "    <tr>\n",
              "      <th>4</th>\n",
              "      <td>Drama</td>\n",
              "      <td>male nudity female nudity adultery midlife cri...</td>\n",
              "      <td>Look closer.</td>\n",
              "      <td>Kevin Spacey Annette Bening Thora Birch Wes Be...</td>\n",
              "      <td>Sam Mendes</td>\n",
              "    </tr>\n",
              "    <tr>\n",
              "      <th>...</th>\n",
              "      <td>...</td>\n",
              "      <td>...</td>\n",
              "      <td>...</td>\n",
              "      <td>...</td>\n",
              "      <td>...</td>\n",
              "    </tr>\n",
              "    <tr>\n",
              "      <th>4755</th>\n",
              "      <td>Horror</td>\n",
              "      <td></td>\n",
              "      <td>The hot spot where Satan's waitin'.</td>\n",
              "      <td>Lisa Hart Carroll Michael Des Barres Paul Drak...</td>\n",
              "      <td>Pece Dingo</td>\n",
              "    </tr>\n",
              "    <tr>\n",
              "      <th>4756</th>\n",
              "      <td>Comedy Family Drama</td>\n",
              "      <td></td>\n",
              "      <td>It’s better to stand out than to fit in.</td>\n",
              "      <td>Roni Akurati Brighton Sharbino Jason Lee Anjul...</td>\n",
              "      <td>Frank Lotito</td>\n",
              "    </tr>\n",
              "    <tr>\n",
              "      <th>4757</th>\n",
              "      <td>Thriller Drama</td>\n",
              "      <td>christian film sex trafficking</td>\n",
              "      <td>She never knew it could happen to her...</td>\n",
              "      <td>Nicole Smolen Kim Baldwin Ariana Stephens Brys...</td>\n",
              "      <td>Jaco Booyens</td>\n",
              "    </tr>\n",
              "    <tr>\n",
              "      <th>4758</th>\n",
              "      <td>Family</td>\n",
              "      <td></td>\n",
              "      <td></td>\n",
              "      <td></td>\n",
              "      <td></td>\n",
              "    </tr>\n",
              "    <tr>\n",
              "      <th>4759</th>\n",
              "      <td>Documentary</td>\n",
              "      <td>music actors legendary perfomer classic hollyw...</td>\n",
              "      <td></td>\n",
              "      <td>Tony Oppedisano</td>\n",
              "      <td>Simon Napier-Bell</td>\n",
              "    </tr>\n",
              "  </tbody>\n",
              "</table>\n",
              "<p>4760 rows × 5 columns</p>\n",
              "</div>\n",
              "      <button class=\"colab-df-convert\" onclick=\"convertToInteractive('df-7564b3b8-a158-4ed7-88d7-0b8916705d05')\"\n",
              "              title=\"Convert this dataframe to an interactive table.\"\n",
              "              style=\"display:none;\">\n",
              "\n",
              "  <svg xmlns=\"http://www.w3.org/2000/svg\" height=\"24px\"viewBox=\"0 0 24 24\"\n",
              "       width=\"24px\">\n",
              "    <path d=\"M0 0h24v24H0V0z\" fill=\"none\"/>\n",
              "    <path d=\"M18.56 5.44l.94 2.06.94-2.06 2.06-.94-2.06-.94-.94-2.06-.94 2.06-2.06.94zm-11 1L8.5 8.5l.94-2.06 2.06-.94-2.06-.94L8.5 2.5l-.94 2.06-2.06.94zm10 10l.94 2.06.94-2.06 2.06-.94-2.06-.94-.94-2.06-.94 2.06-2.06.94z\"/><path d=\"M17.41 7.96l-1.37-1.37c-.4-.4-.92-.59-1.43-.59-.52 0-1.04.2-1.43.59L10.3 9.45l-7.72 7.72c-.78.78-.78 2.05 0 2.83L4 21.41c.39.39.9.59 1.41.59.51 0 1.02-.2 1.41-.59l7.78-7.78 2.81-2.81c.8-.78.8-2.07 0-2.86zM5.41 20L4 18.59l7.72-7.72 1.47 1.35L5.41 20z\"/>\n",
              "  </svg>\n",
              "      </button>\n",
              "\n",
              "\n",
              "\n",
              "    <div id=\"df-65475032-ff7d-4d60-85c0-7ecf5d6c3c0f\">\n",
              "      <button class=\"colab-df-quickchart\" onclick=\"quickchart('df-65475032-ff7d-4d60-85c0-7ecf5d6c3c0f')\"\n",
              "              title=\"Suggest charts.\"\n",
              "              style=\"display:none;\">\n",
              "\n",
              "<svg xmlns=\"http://www.w3.org/2000/svg\" height=\"24px\"viewBox=\"0 0 24 24\"\n",
              "     width=\"24px\">\n",
              "    <g>\n",
              "        <path d=\"M19 3H5c-1.1 0-2 .9-2 2v14c0 1.1.9 2 2 2h14c1.1 0 2-.9 2-2V5c0-1.1-.9-2-2-2zM9 17H7v-7h2v7zm4 0h-2V7h2v10zm4 0h-2v-4h2v4z\"/>\n",
              "    </g>\n",
              "</svg>\n",
              "      </button>\n",
              "    </div>\n",
              "\n",
              "<style>\n",
              "  .colab-df-quickchart {\n",
              "    background-color: #E8F0FE;\n",
              "    border: none;\n",
              "    border-radius: 50%;\n",
              "    cursor: pointer;\n",
              "    display: none;\n",
              "    fill: #1967D2;\n",
              "    height: 32px;\n",
              "    padding: 0 0 0 0;\n",
              "    width: 32px;\n",
              "  }\n",
              "\n",
              "  .colab-df-quickchart:hover {\n",
              "    background-color: #E2EBFA;\n",
              "    box-shadow: 0px 1px 2px rgba(60, 64, 67, 0.3), 0px 1px 3px 1px rgba(60, 64, 67, 0.15);\n",
              "    fill: #174EA6;\n",
              "  }\n",
              "\n",
              "  [theme=dark] .colab-df-quickchart {\n",
              "    background-color: #3B4455;\n",
              "    fill: #D2E3FC;\n",
              "  }\n",
              "\n",
              "  [theme=dark] .colab-df-quickchart:hover {\n",
              "    background-color: #434B5C;\n",
              "    box-shadow: 0px 1px 3px 1px rgba(0, 0, 0, 0.15);\n",
              "    filter: drop-shadow(0px 1px 2px rgba(0, 0, 0, 0.3));\n",
              "    fill: #FFFFFF;\n",
              "  }\n",
              "</style>\n",
              "\n",
              "    <script>\n",
              "      async function quickchart(key) {\n",
              "        const containerElement = document.querySelector('#' + key);\n",
              "        const charts = await google.colab.kernel.invokeFunction(\n",
              "            'suggestCharts', [key], {});\n",
              "      }\n",
              "    </script>\n",
              "\n",
              "      <script>\n",
              "\n",
              "function displayQuickchartButton(domScope) {\n",
              "  let quickchartButtonEl =\n",
              "    domScope.querySelector('#df-65475032-ff7d-4d60-85c0-7ecf5d6c3c0f button.colab-df-quickchart');\n",
              "  quickchartButtonEl.style.display =\n",
              "    google.colab.kernel.accessAllowed ? 'block' : 'none';\n",
              "}\n",
              "\n",
              "        displayQuickchartButton(document);\n",
              "      </script>\n",
              "      <style>\n",
              "    .colab-df-container {\n",
              "      display:flex;\n",
              "      flex-wrap:wrap;\n",
              "      gap: 12px;\n",
              "    }\n",
              "\n",
              "    .colab-df-convert {\n",
              "      background-color: #E8F0FE;\n",
              "      border: none;\n",
              "      border-radius: 50%;\n",
              "      cursor: pointer;\n",
              "      display: none;\n",
              "      fill: #1967D2;\n",
              "      height: 32px;\n",
              "      padding: 0 0 0 0;\n",
              "      width: 32px;\n",
              "    }\n",
              "\n",
              "    .colab-df-convert:hover {\n",
              "      background-color: #E2EBFA;\n",
              "      box-shadow: 0px 1px 2px rgba(60, 64, 67, 0.3), 0px 1px 3px 1px rgba(60, 64, 67, 0.15);\n",
              "      fill: #174EA6;\n",
              "    }\n",
              "\n",
              "    [theme=dark] .colab-df-convert {\n",
              "      background-color: #3B4455;\n",
              "      fill: #D2E3FC;\n",
              "    }\n",
              "\n",
              "    [theme=dark] .colab-df-convert:hover {\n",
              "      background-color: #434B5C;\n",
              "      box-shadow: 0px 1px 3px 1px rgba(0, 0, 0, 0.15);\n",
              "      filter: drop-shadow(0px 1px 2px rgba(0, 0, 0, 0.3));\n",
              "      fill: #FFFFFF;\n",
              "    }\n",
              "  </style>\n",
              "\n",
              "      <script>\n",
              "        const buttonEl =\n",
              "          document.querySelector('#df-7564b3b8-a158-4ed7-88d7-0b8916705d05 button.colab-df-convert');\n",
              "        buttonEl.style.display =\n",
              "          google.colab.kernel.accessAllowed ? 'block' : 'none';\n",
              "\n",
              "        async function convertToInteractive(key) {\n",
              "          const element = document.querySelector('#df-7564b3b8-a158-4ed7-88d7-0b8916705d05');\n",
              "          const dataTable =\n",
              "            await google.colab.kernel.invokeFunction('convertToInteractive',\n",
              "                                                     [key], {});\n",
              "          if (!dataTable) return;\n",
              "\n",
              "          const docLinkHtml = 'Like what you see? Visit the ' +\n",
              "            '<a target=\"_blank\" href=https://colab.research.google.com/notebooks/data_table.ipynb>data table notebook</a>'\n",
              "            + ' to learn more about interactive tables.';\n",
              "          element.innerHTML = '';\n",
              "          dataTable['output_type'] = 'display_data';\n",
              "          await google.colab.output.renderOutput(dataTable, element);\n",
              "          const docLink = document.createElement('div');\n",
              "          docLink.innerHTML = docLinkHtml;\n",
              "          element.appendChild(docLink);\n",
              "        }\n",
              "      </script>\n",
              "    </div>\n",
              "  </div>\n"
            ]
          },
          "metadata": {},
          "execution_count": 10
        }
      ]
    },
    {
      "cell_type": "code",
      "source": [
        "x = df_features['Movie_Genre'] + '  ' +df_features['Movie_Genre'] + '  ' +df_features['Movie_Keywords'] + '  ' +df_features['Movie_Tagline'] + '  ' +df_features['Movie_Cast'] + '  ' +df_features['Movie_Director']"
      ],
      "metadata": {
        "id": "8jdziSYLre75"
      },
      "execution_count": null,
      "outputs": []
    },
    {
      "cell_type": "code",
      "source": [
        "x.shape"
      ],
      "metadata": {
        "colab": {
          "base_uri": "https://localhost:8080/"
        },
        "id": "M1maX01fr6bH",
        "outputId": "38081a3c-c5a5-4da3-c5c8-9d176e7ebdea"
      },
      "execution_count": null,
      "outputs": [
        {
          "output_type": "execute_result",
          "data": {
            "text/plain": [
              "(4760,)"
            ]
          },
          "metadata": {},
          "execution_count": 12
        }
      ]
    },
    {
      "cell_type": "markdown",
      "source": [
        "***Get Feature Text Conversion to Tokens ***"
      ],
      "metadata": {
        "id": "R1Jk9TEbu3n0"
      }
    },
    {
      "cell_type": "code",
      "source": [
        "from sklearn.feature_extraction.text import TfidfVectorizer"
      ],
      "metadata": {
        "id": "PNbrLolRuv0x"
      },
      "execution_count": null,
      "outputs": []
    },
    {
      "cell_type": "code",
      "source": [
        "tfidf = TfidfVectorizer()"
      ],
      "metadata": {
        "id": "wqZdgXRyvWRw"
      },
      "execution_count": null,
      "outputs": []
    },
    {
      "cell_type": "code",
      "source": [
        "x = tfidf.fit_transform(x)"
      ],
      "metadata": {
        "id": "J3RLAilPvdXU"
      },
      "execution_count": null,
      "outputs": []
    },
    {
      "cell_type": "code",
      "source": [
        "x.shape"
      ],
      "metadata": {
        "colab": {
          "base_uri": "https://localhost:8080/"
        },
        "id": "7mWVROGXv5qp",
        "outputId": "04a988dd-c783-4dab-cf9c-e1211b08c966"
      },
      "execution_count": null,
      "outputs": [
        {
          "output_type": "execute_result",
          "data": {
            "text/plain": [
              "(4760, 17258)"
            ]
          },
          "metadata": {},
          "execution_count": 16
        }
      ]
    },
    {
      "cell_type": "code",
      "source": [
        "print(x)"
      ],
      "metadata": {
        "colab": {
          "base_uri": "https://localhost:8080/"
        },
        "id": "dKp4RbznwAsg",
        "outputId": "cdbbc54a-7496-4b3c-e1e2-8d4da8394c44"
      },
      "execution_count": null,
      "outputs": [
        {
          "output_type": "stream",
          "name": "stdout",
          "text": [
            "  (0, 617)\t0.161826393429642\n",
            "  (0, 492)\t0.14193318020077278\n",
            "  (0, 15413)\t0.14519605315333822\n",
            "  (0, 9675)\t0.14094384175169614\n",
            "  (0, 9465)\t0.16444782572128935\n",
            "  (0, 1390)\t0.1674197605387597\n",
            "  (0, 7825)\t0.09708859105300652\n",
            "  (0, 1214)\t0.1373751835124771\n",
            "  (0, 729)\t0.1329089661311687\n",
            "  (0, 13093)\t0.14193318020077278\n",
            "  (0, 15355)\t0.10380835713685437\n",
            "  (0, 9048)\t0.08588188245568301\n",
            "  (0, 11161)\t0.061925280680212545\n",
            "  (0, 16773)\t0.17490843818580967\n",
            "  (0, 5612)\t0.08523905219963407\n",
            "  (0, 16735)\t0.10591138790718732\n",
            "  (0, 7904)\t0.13224454513738282\n",
            "  (0, 15219)\t0.09709761959563507\n",
            "  (0, 11242)\t0.07210426701498333\n",
            "  (0, 3878)\t0.11887345150807149\n",
            "  (0, 5499)\t0.11348041383790974\n",
            "  (0, 7071)\t0.19638945852257925\n",
            "  (0, 7454)\t0.14609153566117292\n",
            "  (0, 1495)\t0.195301817416411\n",
            "  (0, 9206)\t0.15045722826864474\n",
            "  :\t:\n",
            "  (4757, 5455)\t0.123247486784848\n",
            "  (4757, 2967)\t0.160562631689583\n",
            "  (4757, 8464)\t0.23208594571923136\n",
            "  (4757, 6938)\t0.16860086709458563\n",
            "  (4757, 8379)\t0.17247278867203397\n",
            "  (4757, 15303)\t0.15104376678880208\n",
            "  (4757, 15384)\t0.09624125210695764\n",
            "  (4757, 7649)\t0.11326198189138661\n",
            "  (4757, 10896)\t0.14352311817793192\n",
            "  (4757, 4494)\t0.1119909309792518\n",
            "  (4758, 5238)\t1.0\n",
            "  (4759, 11264)\t0.32359957755489094\n",
            "  (4759, 11708)\t0.32359957755489094\n",
            "  (4759, 205)\t0.30864717260894803\n",
            "  (4759, 8902)\t0.2898093702171442\n",
            "  (4759, 14062)\t0.30864717260894803\n",
            "  (4759, 3058)\t0.2681334625750564\n",
            "  (4759, 7130)\t0.251839921902022\n",
            "  (4759, 10761)\t0.2980382724669422\n",
            "  (4759, 4358)\t0.3490065927167526\n",
            "  (4759, 14051)\t0.19144954731121017\n",
            "  (4759, 5690)\t0.1862065547904777\n",
            "  (4759, 15431)\t0.18710604250727308\n",
            "  (4759, 1490)\t0.20205844745321602\n",
            "  (4759, 10666)\t0.15145161027355492\n"
          ]
        }
      ]
    },
    {
      "cell_type": "markdown",
      "source": [
        "***Get Similarity Score using Cosine Similarity ***"
      ],
      "metadata": {
        "id": "0T-6Gl1MwPZ3"
      }
    },
    {
      "cell_type": "code",
      "source": [
        "from sklearn.metrics.pairwise import cosine_similarity"
      ],
      "metadata": {
        "id": "94JtBagTwOay"
      },
      "execution_count": null,
      "outputs": []
    },
    {
      "cell_type": "code",
      "source": [
        "Similarity_Score = cosine_similarity(x)"
      ],
      "metadata": {
        "id": "ptwYhPzXwoPU"
      },
      "execution_count": null,
      "outputs": []
    },
    {
      "cell_type": "code",
      "source": [
        "Similarity_Score"
      ],
      "metadata": {
        "colab": {
          "base_uri": "https://localhost:8080/"
        },
        "id": "PeXzR0gKxC5j",
        "outputId": "be35bd0f-b024-41b3-f1c2-de24456a3fbd"
      },
      "execution_count": null,
      "outputs": [
        {
          "output_type": "execute_result",
          "data": {
            "text/plain": [
              "array([[1.        , 0.01288687, 0.03445809, ..., 0.        , 0.        ,\n",
              "        0.        ],\n",
              "       [0.01288687, 1.        , 0.00756411, ..., 0.        , 0.        ,\n",
              "        0.        ],\n",
              "       [0.03445809, 0.00756411, 1.        , ..., 0.        , 0.15614617,\n",
              "        0.        ],\n",
              "       ...,\n",
              "       [0.        , 0.        , 0.        , ..., 1.        , 0.        ,\n",
              "        0.        ],\n",
              "       [0.        , 0.        , 0.15614617, ..., 0.        , 1.        ,\n",
              "        0.        ],\n",
              "       [0.        , 0.        , 0.        , ..., 0.        , 0.        ,\n",
              "        1.        ]])"
            ]
          },
          "metadata": {},
          "execution_count": 20
        }
      ]
    },
    {
      "cell_type": "code",
      "source": [
        "Similarity_Score .shape"
      ],
      "metadata": {
        "colab": {
          "base_uri": "https://localhost:8080/"
        },
        "id": "f0irqdGdxMSZ",
        "outputId": "d40e3d90-f28a-4e43-a437-90ce792e5b3d"
      },
      "execution_count": null,
      "outputs": [
        {
          "output_type": "execute_result",
          "data": {
            "text/plain": [
              "(4760, 4760)"
            ]
          },
          "metadata": {},
          "execution_count": 21
        }
      ]
    },
    {
      "cell_type": "markdown",
      "source": [
        "***Get Movie Name as a input from user and Validate for Closest Spelling ***"
      ],
      "metadata": {
        "id": "SxmEcrgdxQOO"
      }
    },
    {
      "cell_type": "code",
      "source": [
        "Favourite_Movie_Name = input('Enter your Favourite Movie Name :  ')"
      ],
      "metadata": {
        "colab": {
          "base_uri": "https://localhost:8080/"
        },
        "id": "4LCB9dnSxjbw",
        "outputId": "99e1fffb-761c-408c-ed1a-88ae4d2765ec"
      },
      "execution_count": null,
      "outputs": [
        {
          "name": "stdout",
          "output_type": "stream",
          "text": [
            "Enter your Favourite Movie Name :  avtar\n"
          ]
        }
      ]
    },
    {
      "cell_type": "code",
      "source": [
        "All_Movie_Title_List = df[ 'Movie_Title'].tolist()"
      ],
      "metadata": {
        "id": "aaX4j_Xyxjms"
      },
      "execution_count": null,
      "outputs": []
    },
    {
      "cell_type": "code",
      "source": [
        "import difflib"
      ],
      "metadata": {
        "id": "y6X7-yGeyDlE"
      },
      "execution_count": null,
      "outputs": []
    },
    {
      "cell_type": "code",
      "source": [
        "Movie_Recommendation = difflib.get_close_matches(Favourite_Movie_Name , All_Movie_Title_List)\n",
        "print(Movie_Recommendation)"
      ],
      "metadata": {
        "colab": {
          "base_uri": "https://localhost:8080/"
        },
        "id": "1-rRzMuwyKlS",
        "outputId": "836754a8-4212-435a-a175-8f941f19b53b"
      },
      "execution_count": null,
      "outputs": [
        {
          "output_type": "stream",
          "name": "stdout",
          "text": [
            "['Avatar', 'Salvador', 'Water']\n"
          ]
        }
      ]
    },
    {
      "cell_type": "code",
      "source": [
        "Close_Match = Movie_Recommendation[0]\n",
        "print(Close_Match)"
      ],
      "metadata": {
        "colab": {
          "base_uri": "https://localhost:8080/"
        },
        "id": "fWwMuwThy54w",
        "outputId": "0fd187b5-301e-4a0b-9f6e-c675125f7307"
      },
      "execution_count": null,
      "outputs": [
        {
          "output_type": "stream",
          "name": "stdout",
          "text": [
            "Avatar\n"
          ]
        }
      ]
    },
    {
      "cell_type": "code",
      "source": [
        "Index_of_Close_Match_Movie = df[df.Movie_Title == Close_Match]['Movie_ID'].values[0]"
      ],
      "metadata": {
        "id": "HJ0F_DPAzEdB"
      },
      "execution_count": null,
      "outputs": []
    },
    {
      "cell_type": "code",
      "source": [
        "#getting a list of similar movies\n",
        "Recommendation_Score = list(enumerate(Similarity_Score[Index_of_Close_Match_Movie]))\n",
        "print(Recommendation_Score)"
      ],
      "metadata": {
        "colab": {
          "base_uri": "https://localhost:8080/"
        },
        "id": "gZpkYwKykFAZ",
        "outputId": "6c866032-2859-4171-f32b-0bfe6e1ff1bc"
      },
      "execution_count": null,
      "outputs": [
        {
          "output_type": "stream",
          "name": "stdout",
          "text": [
            "[(0, 0.02437890616146278), (1, 0.0), (2, 0.0), (3, 0.014202086211659772), (4, 0.010459997774888223), (5, 0.03638193909735661), (6, 0.018002612273676326), (7, 0.01767534982056678), (8, 0.010634591946963572), (9, 0.00578905225349276), (10, 0.028940295904860032), (11, 0.00989123385542334), (12, 0.010332793606582), (13, 0.012351548840470102), (14, 0.0), (15, 0.02799839182348624), (16, 0.023208306472046934), (17, 0.0), (18, 0.05240478672235247), (19, 0.010396291127312348), (20, 0.010370140062752192), (21, 0.05813814921467712), (22, 0.006190311678960567), (23, 0.009649232762760186), (24, 0.0064942134024123495), (25, 0.030594156594066033), (26, 0.009706499805235224), (27, 0.01790017766227181), (28, 0.0), (29, 0.02940870651886477), (30, 0.017782982461700837), (31, 0.025478395058812203), (32, 0.013888833432144587), (33, 0.02459675716595456), (34, 0.02883888014966885), (35, 0.005853950557521999), (36, 0.0), (37, 0.0), (38, 0.030704980970973496), (39, 0.017222738667275098), (40, 0.037179284370283755), (41, 0.01076670598835486), (42, 0.027899867571363854), (43, 0.04001629961385589), (44, 0.05563610017043934), (45, 0.083942896529762), (46, 0.029423221806989093), (47, 0.04011770611289532), (48, 0.059227622620413284), (49, 0.0), (50, 0.02697023984718448), (51, 0.056631700200367195), (52, 0.05120567902562012), (53, 0.0), (54, 0.0), (55, 0.0), (56, 0.006329704837199853), (57, 0.010283118699856337), (58, 0.0), (59, 0.0), (60, 0.013666157174898389), (61, 0.0238002216511177), (62, 0.10605676052799777), (63, 0.01278450041903502), (64, 0.0), (65, 0.02923273543310805), (66, 0.00989929142491005), (67, 0.054074937665645514), (68, 0.07077955350318751), (69, 0.018644390966081673), (70, 0.049044632016080295), (71, 0.00988025626704908), (72, 0.043703561692695056), (73, 0.0), (74, 0.010207577984738488), (75, 0.012308741594067356), (76, 0.014349827602301045), (77, 0.013264656500957185), (78, 0.019765021672096775), (79, 0.015668690837366057), (80, 0.015854754148006328), (81, 0.02636597864311408), (82, 0.017247056125665385), (83, 0.05199345427213107), (84, 0.06978749213299443), (85, 0.039611319584937105), (86, 0.028843244842217126), (87, 0.05188011040835715), (88, 0.04934375393072621), (89, 0.07631397679357846), (90, 0.016817943441139002), (91, 0.0), (92, 0.008393833464243128), (93, 0.016505893094768267), (94, 0.015887153288173306), (95, 0.017598653435843575), (96, 0.03445371424232424), (97, 0.008423257288056386), (98, 0.009713828799472005), (99, 0.038697368600750105), (100, 0.0), (101, 0.0), (102, 0.018786079908562316), (103, 0.008497062095294378), (104, 0.016141161052439887), (105, 0.03684415734894467), (106, 0.03861361016856008), (107, 0.03135614409759195), (108, 0.05767578136458082), (109, 0.0712179751321758), (110, 0.08074072193181794), (111, 0.034577482107177905), (112, 0.06679787830911642), (113, 0.0129320005336826), (114, 0.009770173608664305), (115, 0.010077883843523039), (116, 0.04155535389632846), (117, 0.0), (118, 0.018071830717797662), (119, 0.01573930374400724), (120, 0.03776031154137176), (121, 0.009043356724847084), (122, 0.0125301553514597), (123, 0.05437948527646275), (124, 0.06154966860539711), (125, 0.026966928270733156), (126, 0.06313642198793477), (127, 0.009246986877012881), (128, 0.019046482963718348), (129, 0.00688697904259572), (130, 0.01130521261298249), (131, 0.006299099750086156), (132, 0.008730842329076557), (133, 0.0), (134, 0.0), (135, 0.017322158367470676), (136, 0.008898798991660318), (137, 0.08518820924013001), (138, 0.06350662276342459), (139, 0.030180905077250707), (140, 0.009295867188128117), (141, 0.0), (142, 0.047273064050945335), (143, 0.028507863502226782), (144, 0.04780838740543858), (145, 0.05818373635269746), (146, 0.0), (147, 0.05224975475487455), (148, 0.04023490369675096), (149, 0.04538472310359438), (150, 0.0), (151, 0.0), (152, 0.01671327623783647), (153, 0.0), (154, 0.009314876536245515), (155, 0.022649093085470817), (156, 0.013153614749896448), (157, 0.00939987283891367), (158, 0.008773614439941436), (159, 0.012744469710476774), (160, 0.028967602225585285), (161, 0.04862490383550047), (162, 0.014810301793685924), (163, 0.0), (164, 0.015555316179488198), (165, 0.008194088715303745), (166, 0.07308591169101616), (167, 0.03317977040375775), (168, 0.004885924559747544), (169, 0.009597023570566753), (170, 0.04064984125798916), (171, 0.0), (172, 0.06821215371613337), (173, 0.04550384498112729), (174, 0.03666303078391207), (175, 0.029005838001981685), (176, 0.034212967332719085), (177, 0.005296154522642342), (178, 0.009930656600785279), (179, 0.02906198103561843), (180, 0.028490457350506117), (181, 0.03964698221755282), (182, 0.01619142856914406), (183, 0.01455944883221303), (184, 0.00836269195583601), (185, 0.03734356125891239), (186, 0.0), (187, 0.015245031107159997), (188, 0.0), (189, 0.01770347887662173), (190, 0.04684869713102488), (191, 0.015243335243021128), (192, 0.010592509443385497), (193, 0.035994345720215516), (194, 0.007917511598191717), (195, 0.00825307595128017), (196, 0.008341602818058133), (197, 0.014904051563455586), (198, 0.009956832514586839), (199, 0.055700657735035984), (200, 0.024231575410740794), (201, 0.04594078746478112), (202, 0.0064790260173849), (203, 0.023595810177266162), (204, 0.02540577316603864), (205, 0.0), (206, 0.038609811558048684), (207, 0.05057077239859224), (208, 0.03540103475388236), (209, 0.04386726831437218), (210, 0.08030193626661641), (211, 0.01014221183769076), (212, 0.023014408371160915), (213, 0.05519111926980826), (214, 0.0), (215, 0.009479393396108144), (216, 0.03845844643531445), (217, 0.02549137481302489), (218, 0.022075569293742624), (219, 0.0), (220, 0.018237046107815267), (221, 0.009150227753268977), (222, 0.03532839181412369), (223, 0.0), (224, 0.018096667606494338), (225, 0.0), (226, 0.009917123186589506), (227, 0.05543943198520572), (228, 0.007360903153387233), (229, 0.009252182854538667), (230, 0.006134359808921729), (231, 0.01301037266380738), (232, 0.006665641866429833), (233, 0.017603609085058744), (234, 0.014970209425588975), (235, 0.011181743921736348), (236, 0.05058184916228288), (237, 0.0), (238, 0.02764294243788263), (239, 0.018518342064519636), (240, 0.03777346189646989), (241, 0.040733681903584056), (242, 0.01367820488178727), (243, 0.02416487978855617), (244, 0.04372649199500367), (245, 0.0), (246, 0.010426836169309589), (247, 0.009483599733809682), (248, 0.005801325813001034), (249, 0.008707183984927938), (250, 0.042865363933293626), (251, 0.036937167620208544), (252, 0.019301625394182037), (253, 0.010759392069217558), (254, 0.09174499776709949), (255, 0.028699236681169846), (256, 0.027946105525853672), (257, 0.02033570746394375), (258, 0.0), (259, 0.0), (260, 0.016360761276008495), (261, 0.03329428638640969), (262, 0.010414971503820435), (263, 0.005821350957486568), (264, 0.0), (265, 0.0), (266, 0.02589433533299905), (267, 0.008153827984245268), (268, 0.008854169045809771), (269, 0.029155244543940556), (270, 0.038036638453883734), (271, 0.025635007993722207), (272, 0.0), (273, 0.022955924195084573), (274, 0.04242801728798068), (275, 0.0), (276, 0.05156730789501902), (277, 0.04099094768016601), (278, 0.008450622043496957), (279, 0.023021821421160694), (280, 0.04337610775628745), (281, 0.04174391406233267), (282, 0.07982524074833373), (283, 0.011728446535453102), (284, 0.03871462066180159), (285, 0.033734663930785454), (286, 0.008237823477018439), (287, 0.04088249461674906), (288, 0.020460728991222477), (289, 0.014290176561637467), (290, 0.014520598528215387), (291, 0.0406723078387633), (292, 0.05616643207988813), (293, 0.007067492649768819), (294, 0.01418050179608932), (295, 0.014511964074592536), (296, 0.03005321807311749), (297, 0.0), (298, 0.0), (299, 0.0), (300, 0.005926419866634894), (301, 0.0064051195327751755), (302, 0.0), (303, 0.018379291795782984), (304, 0.04161915036578288), (305, 0.01762101817915664), (306, 0.016315230564219355), (307, 0.014723579016661315), (308, 0.011079109541225257), (309, 0.012933256521952919), (310, 0.016979950458244367), (311, 0.025351249411847094), (312, 0.0), (313, 0.024603538356002302), (314, 0.014610493568961899), (315, 0.017688610345459224), (316, 0.01640716139731686), (317, 0.019952142859290603), (318, 0.010543303210870061), (319, 0.0), (320, 0.018442035845646146), (321, 0.023248031479993436), (322, 0.023568717530259534), (323, 0.01586029301784021), (324, 0.009147672132807191), (325, 0.0092438085622984), (326, 0.011937569943577265), (327, 0.02156474073142572), (328, 0.041429776511217174), (329, 0.03864034965647996), (330, 0.024385105617911743), (331, 0.0), (332, 0.022802385537057823), (333, 0.03906769430884594), (334, 0.06134357426101169), (335, 0.0), (336, 0.0045466036080255585), (337, 0.0), (338, 0.0), (339, 0.0), (340, 0.006621001857726651), (341, 0.025258600699955842), (342, 0.04723062405229315), (343, 0.021783404351906135), (344, 0.0), (345, 0.04288338537002433), (346, 0.01614437003517363), (347, 0.01706749549155087), (348, 0.009599771126006322), (349, 0.009407604097341373), (350, 0.029643593150176527), (351, 0.007498718964610938), (352, 0.0), (353, 0.015665781245515896), (354, 0.022063533306748696), (355, 0.008946396948965442), (356, 0.03227754896991511), (357, 0.008311384356049022), (358, 0.02193050784595757), (359, 0.008860711113098631), (360, 0.07088446116048551), (361, 0.0), (362, 0.0), (363, 0.006518251970223847), (364, 0.023443935579842975), (365, 0.0), (366, 0.0), (367, 0.02552245088004603), (368, 0.030829653715040317), (369, 0.020694939386578452), (370, 0.05446422107763498), (371, 0.04882589257272392), (372, 0.009062755025953882), (373, 0.008999172764603136), (374, 0.021257732856725813), (375, 0.01689305977764152), (376, 0.0), (377, 0.010153312705407137), (378, 0.009676555391144469), (379, 0.0), (380, 0.019418112269417222), (381, 0.02533570821058878), (382, 0.0), (383, 0.018834117845494616), (384, 0.04583863771344612), (385, 0.029173904993847633), (386, 0.006265110238341677), (387, 0.03568926991481959), (388, 0.009282478384385978), (389, 0.01740088964692939), (390, 0.0), (391, 0.0), (392, 0.0), (393, 0.0), (394, 0.0), (395, 0.010634536487628413), (396, 0.03573450876570696), (397, 0.01582403531818676), (398, 0.0207514714761203), (399, 0.009196151107590382), (400, 0.00960807031194088), (401, 0.0), (402, 0.019878497553281284), (403, 0.01354032093029297), (404, 0.0), (405, 0.0), (406, 0.03442624554496775), (407, 0.017766612882575014), (408, 0.06709311167847057), (409, 0.01603199716836957), (410, 0.008972877018472538), (411, 0.0), (412, 0.05020539270069657), (413, 0.0065072743717498735), (414, 0.004742970641961605), (415, 0.0), (416, 0.008762500185551365), (417, 0.04104820118756479), (418, 0.04597700761158374), (419, 0.010273178717237931), (420, 0.018985400783784835), (421, 0.026166932820164298), (422, 0.013059292122390005), (423, 0.0), (424, 0.07029934337187324), (425, 0.019859025913495466), (426, 0.016551425299088183), (427, 0.0), (428, 0.03313393528219909), (429, 0.05595093571686906), (430, 0.033518053133067854), (431, 0.011423061786312295), (432, 0.00844795761448051), (433, 0.03284646380249608), (434, 0.022148329664340955), (435, 0.03654363746246818), (436, 0.030261606441504878), (437, 0.02136014987563984), (438, 0.051494898545373285), (439, 0.0), (440, 0.0), (441, 0.013000263199268853), (442, 0.03782878113818279), (443, 0.031206685037112852), (444, 0.01103976710833102), (445, 0.01400511757002124), (446, 0.015943923616405477), (447, 0.05653804443295993), (448, 0.01127809192809961), (449, 0.014790500432875657), (450, 0.059571380573371614), (451, 0.017365905337860157), (452, 0.016655271623085798), (453, 0.007407045202629881), (454, 0.0), (455, 0.04633190250640613), (456, 0.010091446791856465), (457, 0.00892940833029829), (458, 0.059920947102092344), (459, 0.025117013193015198), (460, 0.017397554448242192), (461, 0.015337746106445508), (462, 0.030072165919128334), (463, 0.05657755344020263), (464, 0.015992981489341564), (465, 0.03421413348218496), (466, 0.009806816587204949), (467, 0.01705787247458891), (468, 0.021798119933243314), (469, 0.014491474907095429), (470, 0.03560312157436428), (471, 0.009138936966464147), (472, 0.015976803445918137), (473, 0.008937273841293463), (474, 0.028319825760389317), (475, 0.0057271915069296315), (476, 0.010877892953056908), (477, 0.00505806377329096), (478, 0.011211508307258755), (479, 0.07568351825193362), (480, 0.008463415834667967), (481, 0.05906967081062521), (482, 0.03488008196435513), (483, 0.038442292184644525), (484, 0.0), (485, 0.0397067935682395), (486, 0.0), (487, 0.009226878994694617), (488, 0.009305303975433298), (489, 0.011672103406303936), (490, 0.009724340268880357), (491, 0.0), (492, 0.0), (493, 0.02856091020104962), (494, 0.02719375088439663), (495, 0.008610999347809008), (496, 0.01859428031650674), (497, 0.011743016644363368), (498, 0.0), (499, 0.01078531684277026), (500, 0.04359049646863772), (501, 0.03995755240496447), (502, 0.0569782250501201), (503, 0.026579922118508754), (504, 0.00981787940000551), (505, 0.009376507191960379), (506, 0.0), (507, 0.009269805145529032), (508, 0.011301047638981945), (509, 0.02720780207654745), (510, 0.01975133079710117), (511, 0.026883983288474717), (512, 0.021051936519763833), (513, 0.019324792490980198), (514, 0.019280270088209102), (515, 0.045592729108794854), (516, 0.0), (517, 0.0), (518, 0.01160885839045982), (519, 0.06523028946774057), (520, 0.0), (521, 0.005955568287230683), (522, 0.03243590761786606), (523, 0.025097399184925012), (524, 0.009026942866713005), (525, 0.0), (526, 0.01244094705433384), (527, 0.01805004887081319), (528, 0.0), (529, 0.0), (530, 0.061900635504150814), (531, 0.0), (532, 0.04141118575241691), (533, 0.06036419668428382), (534, 0.053482400320674736), (535, 0.0), (536, 0.0), (537, 0.02609010446151483), (538, 0.010407484933759516), (539, 0.02639592309638696), (540, 0.045321049891906676), (541, 0.009596345684209662), (542, 0.03821674474759495), (543, 0.0567005051696839), (544, 0.037671567195695796), (545, 0.012785610500360763), (546, 0.0), (547, 0.0543181239775881), (548, 0.0), (549, 0.0), (550, 0.019369279444424143), (551, 0.022656037477229073), (552, 0.0), (553, 0.01781730098709572), (554, 0.0), (555, 0.010216403776421452), (556, 0.0), (557, 0.0), (558, 0.0339093432368098), (559, 0.015856131997857438), (560, 0.04477323842203221), (561, 0.00466037906713981), (562, 0.021155095223521107), (563, 0.025072237445549095), (564, 0.01002047309679263), (565, 0.0), (566, 0.041310986680968234), (567, 0.0), (568, 0.005748499160589946), (569, 0.0), (570, 0.0), (571, 0.02149496140865427), (572, 0.0), (573, 0.0), (574, 0.0), (575, 0.0), (576, 0.010357156791340754), (577, 0.0), (578, 0.03873810547721297), (579, 0.009889555000501114), (580, 0.02796643032024247), (581, 0.025056948534517103), (582, 0.007432044048657679), (583, 0.005752249032855361), (584, 0.05634932286393436), (585, 0.0), (586, 0.015147704624740606), (587, 0.010764758284290153), (588, 0.009995180225367307), (589, 0.00907200230944681), (590, 0.0786580752917293), (591, 0.0), (592, 0.0), (593, 0.03315902846597634), (594, 0.008754202601466043), (595, 0.019542484792707832), (596, 0.010786568497618703), (597, 0.0147013606025726), (598, 0.009062551745971287), (599, 0.0), (600, 0.006442653420217805), (601, 0.0), (602, 0.0), (603, 0.0), (604, 0.05034984695325749), (605, 0.008628016574554554), (606, 0.027015616794323058), (607, 0.007506066200298374), (608, 0.024772489001346015), (609, 0.017907497834314216), (610, 0.0), (611, 0.011947672198956509), (612, 0.010404508302311693), (613, 0.026865480608594366), (614, 0.010836522869794297), (615, 0.04123858364183158), (616, 0.013408714039144072), (617, 0.02296468009048698), (618, 0.028317866341657616), (619, 0.01703031649139799), (620, 0.021870543517388798), (621, 0.03806919499034825), (622, 0.056659239752893095), (623, 0.010407855446226478), (624, 0.00907860946644354), (625, 0.015175487924374344), (626, 0.008276319550391117), (627, 0.012709870705927271), (628, 0.10180758829074331), (629, 0.05542260764762273), (630, 0.0), (631, 0.015750689674695628), (632, 0.053918967756722794), (633, 0.017079067318327527), (634, 0.01741757583177619), (635, 0.025497074529742095), (636, 0.02750080828921521), (637, 0.06438082803774745), (638, 0.022789124162290737), (639, 0.014834249884924886), (640, 0.014714230035286905), (641, 0.02672189728825935), (642, 0.024036351330504926), (643, 0.0590457721692359), (644, 0.02558316879359373), (645, 0.008112567520640577), (646, 0.009341950600614228), (647, 0.008711188885929099), (648, 0.011994336467694494), (649, 0.0), (650, 0.0), (651, 0.01504415352536987), (652, 0.054719755236940955), (653, 0.047437341516785816), (654, 0.04601885762151313), (655, 0.009041389934671275), (656, 0.0), (657, 0.029754016767727216), (658, 0.0), (659, 0.009197262203485657), (660, 0.028087870227402563), (661, 0.016242983930765297), (662, 0.0), (663, 0.0), (664, 0.030254167548451654), (665, 0.0), (666, 0.019049266053768384), (667, 0.04693150521411711), (668, 0.035685556284579284), (669, 0.055800831184665334), (670, 0.051572923222605975), (671, 0.006547235525434075), (672, 0.02747774380176518), (673, 0.08446515024613442), (674, 0.0), (675, 0.10337670439452548), (676, 0.052085319822427784), (677, 0.01629990849362778), (678, 0.04856439728344643), (679, 0.0), (680, 0.01054212863781911), (681, 0.0), (682, 0.07819786700938537), (683, 0.04131513325697417), (684, 0.03156732335744608), (685, 0.018460204891620723), (686, 0.0), (687, 0.019441504701261606), (688, 0.030340670221994322), (689, 0.04261633340052482), (690, 0.016541046065517265), (691, 0.027779838668920018), (692, 0.04396050995505335), (693, 0.03388324531058825), (694, 0.05376626816880238), (695, 0.040953656079609116), (696, 0.02673761342054258), (697, 0.016146321661794315), (698, 0.00930264909914375), (699, 0.0), (700, 0.0), (701, 0.0592489707545294), (702, 0.0), (703, 0.00851337191858822), (704, 0.0), (705, 0.014364029602574824), (706, 0.028327484664847795), (707, 0.008183588354850604), (708, 0.0), (709, 0.0), (710, 0.03495744159482503), (711, 0.0), (712, 0.008391928013004363), (713, 0.0), (714, 0.0), (715, 0.017263557480273098), (716, 0.02845877117960431), (717, 0.01033938100570171), (718, 0.0), (719, 0.027058336740082803), (720, 0.0), (721, 0.03987243043126951), (722, 0.008754102484785541), (723, 0.015161706603941907), (724, 0.0), (725, 0.0), (726, 0.0), (727, 0.02659031841884977), (728, 0.029578359672794357), (729, 0.02987493964837909), (730, 0.0), (731, 0.009491242132496814), (732, 0.03052869392747619), (733, 0.03497019177367791), (734, 0.015027931806772917), (735, 0.013105099310358146), (736, 0.0), (737, 0.017955066444489624), (738, 0.014763341351869021), (739, 0.010839666879209587), (740, 0.0066519387604163345), (741, 0.0), (742, 0.03160264297998883), (743, 0.028488412978978885), (744, 0.02500011085834452), (745, 0.02423905230773515), (746, 0.0), (747, 0.0), (748, 0.0065973640162298565), (749, 0.009620232142898193), (750, 0.02695558313290903), (751, 0.0), (752, 0.0064719244358949135), (753, 0.05127641920127754), (754, 0.0), (755, 0.009588061030838771), (756, 0.01516890815791674), (757, 0.03989057267985293), (758, 0.006394943079746542), (759, 0.008993240798695793), (760, 0.049204204137566404), (761, 0.07013171604315667), (762, 0.025999523752907035), (763, 0.01965914303605625), (764, 0.0), (765, 0.01860294617964601), (766, 0.03490210978907833), (767, 0.009412793127338162), (768, 0.01817622489836298), (769, 0.026643093771715805), (770, 0.0), (771, 0.0), (772, 0.0), (773, 0.0), (774, 0.0429400162040316), (775, 0.0234697692604115), (776, 0.0158928034300772), (777, 0.011897946344072024), (778, 0.0063755196048670415), (779, 0.030304194384284326), (780, 0.0), (781, 0.0), (782, 0.01568572719098739), (783, 0.009942997026895278), (784, 0.0), (785, 0.0), (786, 0.0), (787, 0.03412762642670493), (788, 0.04476196506990562), (789, 0.0), (790, 0.042952545274503415), (791, 0.010648016023354396), (792, 0.038438590883147675), (793, 0.018169405487532393), (794, 0.023603933816411096), (795, 0.04641917010612107), (796, 0.022802825516939115), (797, 0.0), (798, 0.009271557983403306), (799, 0.053238392723128455), (800, 0.029692707937437522), (801, 0.040743227831076805), (802, 0.018515993744343397), (803, 0.015986318805306342), (804, 0.02416092385902481), (805, 0.009177644808713355), (806, 0.037568039243088006), (807, 0.0), (808, 0.035285964618567534), (809, 0.024797550478066754), (810, 0.016343164013662793), (811, 0.017628167709252924), (812, 0.029991137260393822), (813, 0.010985260598872712), (814, 0.013169768285483588), (815, 0.008473038558694851), (816, 0.03003026963052938), (817, 0.015817637943917138), (818, 0.039269321302828224), (819, 0.0), (820, 0.0), (821, 0.0055717757355093775), (822, 0.0), (823, 0.039520552002210024), (824, 0.028986646717646683), (825, 0.043370295098156916), (826, 0.010087568221939548), (827, 0.04246964300749295), (828, 0.03514529606593394), (829, 0.050294009050847396), (830, 0.041040800791684734), (831, 0.019704280709410507), (832, 0.045603842093442815), (833, 0.030823402259252217), (834, 0.00619453689726811), (835, 0.0059219391444576), (836, 0.026911160644380348), (837, 0.0), (838, 0.015069376599123975), (839, 0.0), (840, 0.0), (841, 0.0), (842, 0.052246119197558435), (843, 0.013363761293404632), (844, 0.022424756230805996), (845, 0.028748759720018634), (846, 0.0), (847, 0.01832681237279447), (848, 0.009916928499168996), (849, 0.01725419439470772), (850, 0.01624053684772925), (851, 0.031912848692112326), (852, 0.03124691535996025), (853, 0.04749421027806136), (854, 0.009100691974532345), (855, 0.020094957986712212), (856, 0.00853431920200674), (857, 0.010516624572189505), (858, 0.022300349183538164), (859, 0.0), (860, 0.06270109640256472), (861, 0.02396424771113744), (862, 0.023882917529650948), (863, 0.025409060947662262), (864, 0.057841293267810234), (865, 0.010072762669809525), (866, 0.05051569182169075), (867, 0.022091140308414865), (868, 0.02561621380501046), (869, 0.027724667447528526), (870, 0.05792254878972627), (871, 0.009577824492535398), (872, 0.009999739730066116), (873, 0.04882649251454067), (874, 0.05854918101478265), (875, 0.04812288183630353), (876, 0.06182540053059868), (877, 0.05974245664923611), (878, 0.051278975949006544), (879, 0.05585476768439373), (880, 0.026225155395232062), (881, 0.0), (882, 0.0), (883, 0.009340754749378628), (884, 0.010250331005421524), (885, 0.029513880341101056), (886, 0.009255593048176703), (887, 0.010567013197443171), (888, 0.06013541215798859), (889, 0.012728520009820572), (890, 0.010162604512438507), (891, 0.01817677413507344), (892, 0.0), (893, 0.016041807603453796), (894, 0.03680243041387979), (895, 0.02121963800803931), (896, 0.058103033320231146), (897, 0.016293930626012133), (898, 0.015952516014496), (899, 0.020997092460589475), (900, 0.03194487228376491), (901, 0.008226452037897972), (902, 0.01725316805616155), (903, 0.03237463220461316), (904, 0.08096685616026562), (905, 0.05080274023301967), (906, 0.012397769996824194), (907, 0.009004300770731312), (908, 0.02681152042992898), (909, 0.0), (910, 0.025060850832665627), (911, 0.053638212119650516), (912, 0.0), (913, 0.0), (914, 0.0), (915, 0.041951974051533385), (916, 0.047464133113303705), (917, 0.02801813474954442), (918, 0.04431424215356969), (919, 0.017908095839051043), (920, 0.0), (921, 0.014940789211995313), (922, 0.011115402056140217), (923, 0.026596578472600864), (924, 0.013724481820979963), (925, 0.011087554267517055), (926, 0.0), (927, 0.017333691692811338), (928, 0.04647770428887375), (929, 0.020065731803382583), (930, 0.029070741803871186), (931, 0.04472637340525035), (932, 0.015554908671274119), (933, 0.010065871413611368), (934, 0.0195862477470841), (935, 0.03793475389047814), (936, 0.029461898159958425), (937, 0.061724929273475955), (938, 0.0), (939, 0.03491433845314271), (940, 0.011279064681413119), (941, 0.009246799435267563), (942, 0.05676234241646123), (943, 0.0), (944, 0.009164205953787226), (945, 0.0), (946, 0.0), (947, 0.07119917804351927), (948, 0.033095969126954665), (949, 0.019401814101979963), (950, 0.0), (951, 0.008053575357373275), (952, 0.04815517446646189), (953, 0.021985059913994548), (954, 0.0), (955, 0.0), (956, 0.0), (957, 0.02041486385037735), (958, 0.005866681593610444), (959, 0.009543573417717348), (960, 0.0), (961, 0.0), (962, 0.015170438892929586), (963, 0.030570235473656043), (964, 0.0), (965, 0.0), (966, 0.01503868075305263), (967, 0.04694522163222067), (968, 0.0360319080192978), (969, 0.009824444674525614), (970, 0.02034270695397352), (971, 0.0), (972, 0.0), (973, 0.009622567740573355), (974, 0.016723053177666126), (975, 0.009207095710607448), (976, 0.061661452986859905), (977, 0.0), (978, 0.0), (979, 0.021048930023766503), (980, 0.028103915070945618), (981, 0.024303393142576995), (982, 0.0), (983, 0.0), (984, 0.009388378175578263), (985, 0.011098113143986073), (986, 0.05290379309565426), (987, 0.010284193430253627), (988, 0.05214709380479603), (989, 0.05369349007135327), (990, 0.0), (991, 0.028707415781689127), (992, 0.01843364107484019), (993, 0.009990777026390693), (994, 0.037405567696317615), (995, 0.0), (996, 0.024497501460334976), (997, 0.015719105609401776), (998, 0.011003325713553462), (999, 0.010994775870078402), (1000, 0.04895931175798987), (1001, 0.026015362212325907), (1002, 0.009285440414041847), (1003, 0.03219748473752544), (1004, 0.00889770798193863), (1005, 0.033300041761718004), (1006, 0.01695640625754895), (1007, 0.009886643211698087), (1008, 0.0), (1009, 0.029521018418104627), (1010, 0.0), (1011, 0.0), (1012, 0.023703128189757647), (1013, 0.0), (1014, 0.00693425233308543), (1015, 0.06490426952015996), (1016, 0.0), (1017, 0.057807087380144104), (1018, 0.04497513125919173), (1019, 0.02016852761705747), (1020, 0.014890480511364483), (1021, 0.0625019568668514), (1022, 0.0), (1023, 0.05219379421991199), (1024, 0.06970506228654369), (1025, 0.0), (1026, 0.009638834660427864), (1027, 0.009399420703738132), (1028, 0.0), (1029, 0.0), (1030, 0.06926177594223451), (1031, 0.0), (1032, 0.009372455418545055), (1033, 0.027984877386984592), (1034, 0.009413042625871356), (1035, 0.05265779274022136), (1036, 0.009359081388252782), (1037, 0.013312214310552222), (1038, 0.0), (1039, 0.0), (1040, 0.0076839208562263055), (1041, 0.02574501017296771), (1042, 0.00829465055215691), (1043, 0.03688029440890788), (1044, 0.02584729181277582), (1045, 0.014889222103041349), (1046, 0.027187023857907288), (1047, 0.046531567611740224), (1048, 0.01697488807101919), (1049, 0.011482061687530673), (1050, 0.030366197852705397), (1051, 0.0), (1052, 0.025738331448534657), (1053, 0.042830906786056), (1054, 0.04228201261670077), (1055, 0.0), (1056, 0.0), (1057, 0.021718022759669064), (1058, 0.054639673336079664), (1059, 0.032969701098324755), (1060, 0.031172192203175388), (1061, 0.04015900017844502), (1062, 0.0), (1063, 0.06278074549125795), (1064, 0.06375394447447524), (1065, 0.025021003732304797), (1066, 0.0), (1067, 0.0), (1068, 0.0603821032672202), (1069, 0.006742834538080255), (1070, 0.07923954247059091), (1071, 0.028958639853332406), (1072, 0.009824593224666278), (1073, 0.0), (1074, 0.04941382830183107), (1075, 0.016886253063841394), (1076, 0.026285394610679223), (1077, 0.016513707318086077), (1078, 0.030958547536315918), (1079, 0.008903318480448822), (1080, 0.00869378723096831), (1081, 0.0), (1082, 0.016827912454533103), (1083, 0.027463027070239267), (1084, 0.009572369428206717), (1085, 0.03374781246782456), (1086, 0.0), (1087, 0.016421891915205232), (1088, 0.008373656848627389), (1089, 0.0), (1090, 0.011221006202484271), (1091, 0.0), (1092, 0.03752490206839758), (1093, 0.0), (1094, 0.006215849233750008), (1095, 0.025652422060399305), (1096, 0.015774922485361262), (1097, 0.0), (1098, 0.025540037798429574), (1099, 0.025118972130371234), (1100, 0.009700490519457153), (1101, 0.0), (1102, 0.05597191403065663), (1103, 0.0), (1104, 0.04653771508141824), (1105, 0.0), (1106, 0.0), (1107, 0.05091274228871673), (1108, 0.0), (1109, 0.010724949642117053), (1110, 0.009750654011374984), (1111, 0.0061754626355778695), (1112, 0.024683336315790064), (1113, 0.0), (1114, 0.020362055963844435), (1115, 0.04645928326200463), (1116, 0.03521018285436441), (1117, 0.009479902555136989), (1118, 0.05830419695913874), (1119, 0.05712549826201126), (1120, 0.015041923339737133), (1121, 0.01239566103573231), (1122, 0.00990506507918161), (1123, 0.02585840321957088), (1124, 0.01682943781259598), (1125, 0.013279588611744483), (1126, 0.0), (1127, 0.017556623406824772), (1128, 0.032594011633162216), (1129, 0.02923413123143411), (1130, 0.0), (1131, 0.00928150967283397), (1132, 0.06442816251338022), (1133, 0.0), (1134, 0.06947779977425754), (1135, 0.0), (1136, 0.013836682686819268), (1137, 0.052595693827284254), (1138, 0.02731921144000514), (1139, 0.0), (1140, 0.028165170919318194), (1141, 0.06421796772908234), (1142, 0.0), (1143, 0.0), (1144, 0.0130486405268752), (1145, 0.013401126974294325), (1146, 0.0424491888349494), (1147, 0.0), (1148, 0.09374122405171785), (1149, 0.0), (1150, 0.01804056865400428), (1151, 0.0), (1152, 0.013903560934809316), (1153, 0.01247683026968554), (1154, 0.01547501499381711), (1155, 0.0), (1156, 0.0), (1157, 0.011676996248551556), (1158, 0.019686268398197742), (1159, 0.0), (1160, 0.033581074899923596), (1161, 0.008648412673165969), (1162, 0.06207433229750456), (1163, 0.00975659862076294), (1164, 0.014303080777501483), (1165, 0.0), (1166, 0.0), (1167, 0.019324460840094728), (1168, 0.01188759160853291), (1169, 0.01149733841494817), (1170, 0.009771789638762443), (1171, 0.0), (1172, 0.006298425673233023), (1173, 0.058850500834143324), (1174, 0.028101644216258014), (1175, 0.024223059791013857), (1176, 0.009948670575493678), (1177, 0.02543053207869321), (1178, 0.0), (1179, 0.027216905626839646), (1180, 0.0), (1181, 0.036994873580785986), (1182, 0.01644849392277645), (1183, 0.05044150494806253), (1184, 0.05969782070929971), (1185, 0.04635410430313949), (1186, 0.02848637774537319), (1187, 0.011382572900910397), (1188, 0.029082620172893862), (1189, 0.0), (1190, 0.0), (1191, 0.027848927154960526), (1192, 0.03513762147293849), (1193, 0.0), (1194, 0.02926524734690132), (1195, 0.02828697111891121), (1196, 0.0), (1197, 0.016100730673267828), (1198, 0.0), (1199, 0.008498010848827224), (1200, 0.0), (1201, 0.0), (1202, 0.035903511988700315), (1203, 0.04907786435972754), (1204, 0.010001430458969804), (1205, 0.024461095390436387), (1206, 0.014878158370954724), (1207, 0.016671163628611752), (1208, 0.01229244787027245), (1209, 0.008143569685620855), (1210, 0.012987246604740554), (1211, 0.016739734150356338), (1212, 0.0), (1213, 0.02407650262883889), (1214, 0.02287652967239014), (1215, 0.02855447164185907), (1216, 0.02232402121496508), (1217, 0.008516271014732166), (1218, 0.0), (1219, 0.008610432954501602), (1220, 0.030248872746434133), (1221, 0.0), (1222, 0.0), (1223, 0.027005239239424626), (1224, 0.05447977791241718), (1225, 0.028618500366839418), (1226, 0.050433042645440865), (1227, 0.0), (1228, 0.0), (1229, 0.028126142281444857), (1230, 0.041867045639416976), (1231, 0.02593765917385455), (1232, 0.05463565182992183), (1233, 0.0), (1234, 0.03900237653550396), (1235, 0.0), (1236, 0.062492567859514465), (1237, 0.04931667830065329), (1238, 0.006300254386899665), (1239, 0.012378038248206519), (1240, 0.0), (1241, 0.03852258990137091), (1242, 0.0), (1243, 0.06160285446028706), (1244, 0.0), (1245, 0.022972658953727104), (1246, 0.0), (1247, 0.009491557866565324), (1248, 0.08009925968085974), (1249, 0.010765254659600482), (1250, 0.006188069027532377), (1251, 0.008657822886236169), (1252, 0.052733701307304114), (1253, 0.0), (1254, 0.022857528293230005), (1255, 0.03192597162382348), (1256, 0.0), (1257, 0.06327988964950171), (1258, 0.0), (1259, 0.040989937373805), (1260, 0.030321445238019374), (1261, 0.049282906493367536), (1262, 0.02321221288551387), (1263, 0.0), (1264, 0.04441749422550273), (1265, 0.0), (1266, 0.02419450516381371), (1267, 0.006201199508055395), (1268, 0.0), (1269, 0.0), (1270, 0.03266153055894881), (1271, 0.0), (1272, 0.046047063939458135), (1273, 0.00901562972132838), (1274, 0.016918067157554513), (1275, 0.062458025358248584), (1276, 0.03370921692817555), (1277, 0.00727598908469481), (1278, 0.014244106295184609), (1279, 0.020357148678443817), (1280, 0.01814730507605244), (1281, 0.01581499134427522), (1282, 0.02911119569546211), (1283, 0.022326091863226812), (1284, 0.009603771103019175), (1285, 0.0), (1286, 0.009576878880076172), (1287, 0.0), (1288, 0.0), (1289, 0.0), (1290, 0.04460450046388552), (1291, 0.0), (1292, 0.07429489926616134), (1293, 0.0121147164190218), (1294, 0.010179626580183183), (1295, 0.0), (1296, 0.0), (1297, 0.0), (1298, 0.009806926067807836), (1299, 0.0), (1300, 0.038115113387974416), (1301, 0.008546652900522058), (1302, 0.0556597199942327), (1303, 0.04382886930398134), (1304, 0.009863666881410675), (1305, 0.008153468163189683), (1306, 0.011788985899451689), (1307, 0.005882590264327619), (1308, 0.014441315871717942), (1309, 0.01509728869914447), (1310, 0.011146680551833085), (1311, 0.03308766757402531), (1312, 0.013749428415035021), (1313, 0.009624371243711011), (1314, 0.057407817024201196), (1315, 0.0), (1316, 0.0053316789934473256), (1317, 0.035062738912969564), (1318, 0.008812232175585721), (1319, 0.009732589476489554), (1320, 0.05396234292213965), (1321, 0.0), (1322, 0.0), (1323, 0.0), (1324, 0.010230801272065307), (1325, 0.057690709440194485), (1326, 0.0), (1327, 0.00585550245102526), (1328, 0.0), (1329, 0.006242859486021831), (1330, 0.026814531003860883), (1331, 0.013747334630567263), (1332, 0.0193968348622457), (1333, 0.0), (1334, 0.037384381075540825), (1335, 0.0546140002536912), (1336, 0.0), (1337, 0.05483075040559156), (1338, 0.03625885050920344), (1339, 0.0393949993791684), (1340, 0.008162076869076374), (1341, 0.07246899481396805), (1342, 0.012456469992843527), (1343, 0.05204289354527297), (1344, 0.022209218047997203), (1345, 0.006333659674307898), (1346, 0.0), (1347, 0.017137844292773756), (1348, 0.038459845150658756), (1349, 0.010843116826626356), (1350, 0.009399710352056148), (1351, 0.039376056053835484), (1352, 0.008183195497514967), (1353, 0.0), (1354, 0.0), (1355, 0.01015487418971316), (1356, 0.023255457586238544), (1357, 0.008920155518153923), (1358, 0.03878215800419196), (1359, 0.017351568016822756), (1360, 0.04911663489280261), (1361, 0.01459378096068907), (1362, 0.021884025599131992), (1363, 0.027792728005576174), (1364, 0.010119918430088193), (1365, 0.02352601275692616), (1366, 0.00850279475291681), (1367, 0.038424730977945944), (1368, 0.0), (1369, 0.07225912905969076), (1370, 0.008342026444603143), (1371, 0.030200090629354904), (1372, 0.009178642569658054), (1373, 0.0), (1374, 0.006185719286532607), (1375, 0.025970117276915575), (1376, 0.01218480087114689), (1377, 0.04922436373236316), (1378, 0.009357619438796164), (1379, 0.032813538663459624), (1380, 0.018546070182394025), (1381, 0.018973391543857885), (1382, 0.016577777118977594), (1383, 0.1048712873592987), (1384, 0.029164032773400884), (1385, 0.05979661460800062), (1386, 0.017826068138551705), (1387, 0.032642432602678406), (1388, 0.013474303331421331), (1389, 0.033616703358739265), (1390, 0.0), (1391, 0.019238329521282797), (1392, 0.00864517934615237), (1393, 0.061527212574180756), (1394, 0.008600428928227748), (1395, 0.014372952792454369), (1396, 0.024216188889853933), (1397, 0.02629117983017643), (1398, 0.033811017483401005), (1399, 0.0), (1400, 0.028132723439793096), (1401, 0.013368223624942019), (1402, 0.01039611937871966), (1403, 0.022250614681255627), (1404, 0.0093799339109873), (1405, 0.027546998828995677), (1406, 0.043687084270240865), (1407, 0.025456952532587708), (1408, 0.009357410320477053), (1409, 0.010533538973217375), (1410, 0.009861356026536455), (1411, 0.009746108084007162), (1412, 0.054052557393889665), (1413, 0.03334895147430119), (1414, 0.0241434403429655), (1415, 0.008081881585412953), (1416, 0.009481796677411489), (1417, 0.04769597491008128), (1418, 0.009588737827533415), (1419, 0.04469589107173066), (1420, 0.02303302985474633), (1421, 0.026517224998046915), (1422, 0.009570484953317915), (1423, 0.008739702338007933), (1424, 0.0), (1425, 0.006521881485072895), (1426, 0.01852162281798501), (1427, 0.008054516932954038), (1428, 0.01683196558626072), (1429, 0.0323356632678111), (1430, 0.03793980794628937), (1431, 0.018122150579795136), (1432, 0.046118476290513945), (1433, 0.02522270105864874), (1434, 0.009062092671370505), (1435, 0.018373730893323236), (1436, 0.04653672144341624), (1437, 0.0), (1438, 0.03562285734697346), (1439, 0.010380692304829308), (1440, 0.03697101986628157), (1441, 0.0), (1442, 0.03199489313657358), (1443, 0.03145740167051708), (1444, 0.0), (1445, 0.01547489405884931), (1446, 0.015580660483975727), (1447, 0.0), (1448, 0.025679252705914295), (1449, 0.018606918801197705), (1450, 0.008556908185580697), (1451, 0.016684838559464954), (1452, 0.018678023878311682), (1453, 0.00513582774391839), (1454, 0.03009560796013953), (1455, 0.04459428253824936), (1456, 0.009211751408180388), (1457, 0.0), (1458, 0.015040455730558245), (1459, 0.0), (1460, 0.0), (1461, 0.033997527127660944), (1462, 0.025494505475612772), (1463, 0.009166874221012354), (1464, 0.037850419115007354), (1465, 0.019669252063879886), (1466, 0.0), (1467, 0.0), (1468, 0.0), (1469, 0.01753600218097451), (1470, 0.0), (1471, 0.049474397114349436), (1472, 0.027769323340066973), (1473, 0.0), (1474, 0.010177889240765686), (1475, 0.01628137679901293), (1476, 0.009884261419483746), (1477, 0.014495965462517604), (1478, 0.05194888322592171), (1479, 0.010662984685799662), (1480, 0.016516897162260184), (1481, 0.052873795577374746), (1482, 0.027475901825268993), (1483, 0.0537152743662037), (1484, 0.029034562567669883), (1485, 0.0), (1486, 0.006750353056483049), (1487, 0.0), (1488, 0.027543543088115616), (1489, 0.030469676969143236), (1490, 0.0), (1491, 0.0), (1492, 0.02122964788581199), (1493, 0.029286115502358184), (1494, 0.01672529900306555), (1495, 0.0), (1496, 0.0), (1497, 0.01130480481294892), (1498, 0.029575474776495143), (1499, 0.03839389842822427), (1500, 0.03404406466135415), (1501, 0.006339504934252113), (1502, 0.018218138160033273), (1503, 0.008918015090317543), (1504, 0.02697957361915106), (1505, 0.02016855864358634), (1506, 0.07330588886889768), (1507, 0.031091403631565716), (1508, 0.0), (1509, 0.04173935450196801), (1510, 0.03930234461067366), (1511, 0.0), (1512, 0.014792271875991338), (1513, 0.03806237088795553), (1514, 0.01455264618758884), (1515, 0.020064819998021507), (1516, 0.010059788861594107), (1517, 0.0), (1518, 0.010479539290622376), (1519, 0.031115525756600263), (1520, 0.0), (1521, 0.0), (1522, 0.0), (1523, 0.015216899349141364), (1524, 0.0), (1525, 0.0), (1526, 0.006130814265906581), (1527, 0.06490507242904645), (1528, 0.00897198869952931), (1529, 0.0), (1530, 0.03343191067557938), (1531, 0.018671412796122777), (1532, 0.0), (1533, 0.009733233001566052), (1534, 0.0), (1535, 0.0), (1536, 0.02677860916336161), (1537, 0.02851741703498588), (1538, 0.014843736554694294), (1539, 0.014034811578187228), (1540, 0.03158057982264009), (1541, 0.0), (1542, 0.046255238370315435), (1543, 0.009020412196710502), (1544, 0.04309032628896476), (1545, 0.0), (1546, 0.0150806727641634), (1547, 0.010637286847656016), (1548, 0.0), (1549, 0.0), (1550, 0.009781446732407809), (1551, 0.02362862987849565), (1552, 0.005959131726407851), (1553, 0.014435592073049645), (1554, 0.018689096181133704), (1555, 0.025542199333970336), (1556, 0.0), (1557, 0.0), (1558, 0.009144054484443541), (1559, 0.015418630317756966), (1560, 0.02665132151423831), (1561, 0.0), (1562, 0.016461758511038507), (1563, 0.0), (1564, 0.0), (1565, 0.008142658114475572), (1566, 0.017171973629257563), (1567, 0.030092500413425198), (1568, 0.04500362438226915), (1569, 0.0), (1570, 0.009616080935126548), (1571, 0.01347418816939039), (1572, 0.05855862646185902), (1573, 0.017465005213920987), (1574, 0.010008256240609196), (1575, 0.018254559631551148), (1576, 0.014362904211894274), (1577, 0.0), (1578, 0.0), (1579, 0.016394941625602625), (1580, 0.010633594379626701), (1581, 0.0), (1582, 0.03551260930993909), (1583, 0.007016903100089014), (1584, 0.0), (1585, 0.04243884345118055), (1586, 0.0), (1587, 0.01783243841199248), (1588, 0.018474142580671104), (1589, 0.0), (1590, 0.015094974208281585), (1591, 0.051233128150227014), (1592, 0.0), (1593, 0.011995563648457216), (1594, 0.01087412035764298), (1595, 0.0483023958333389), (1596, 0.0), (1597, 0.009505415206531895), (1598, 0.009517244079427948), (1599, 0.0), (1600, 0.0), (1601, 0.0), (1602, 0.0), (1603, 0.0), (1604, 0.0), (1605, 0.008722757458497174), (1606, 0.0), (1607, 0.0), (1608, 0.02401227433695795), (1609, 0.015977265242342952), (1610, 0.0), (1611, 0.0), (1612, 0.016108368776617147), (1613, 0.0), (1614, 0.018064573457129782), (1615, 0.0), (1616, 0.008439398873597221), (1617, 0.009684993159646911), (1618, 0.0), (1619, 0.017203406184363966), (1620, 0.034798608706968506), (1621, 0.053810560680655664), (1622, 0.01713290167760057), (1623, 0.01620793612210184), (1624, 0.008028086860096616), (1625, 0.008926235929874961), (1626, 0.0), (1627, 0.023124963227803226), (1628, 0.008715495693611842), (1629, 0.06206024153420283), (1630, 0.02976610079168527), (1631, 0.0168458838288406), (1632, 0.01701680272318562), (1633, 0.016712873941965117), (1634, 0.03291568422499519), (1635, 0.01738959644196588), (1636, 0.0), (1637, 0.010560840774230395), (1638, 0.0), (1639, 0.0), (1640, 0.0), (1641, 0.009203203037651517), (1642, 0.009139270363358917), (1643, 0.028629096967307876), (1644, 0.0064051803500126715), (1645, 0.009029705778539105), (1646, 0.0), (1647, 0.09105533550436626), (1648, 0.034326137705690124), (1649, 0.0), (1650, 0.014924272923760635), (1651, 0.0), (1652, 0.03738066703389422), (1653, 0.026153631979549997), (1654, 0.012248026143098525), (1655, 0.019540644859720402), (1656, 0.010776804233671387), (1657, 0.01879364718946502), (1658, 0.017209217387059918), (1659, 0.018962106827093615), (1660, 0.010292967652833773), (1661, 0.019011541762778503), (1662, 0.021916471677717205), (1663, 0.009299866379293163), (1664, 0.00564799683610714), (1665, 0.05008364568375523), (1666, 0.009685303623923926), (1667, 0.04984036184425651), (1668, 0.0), (1669, 0.0), (1670, 0.010434407110709717), (1671, 0.06450339669408833), (1672, 0.009086161162279355), (1673, 0.0), (1674, 0.029093329326416187), (1675, 0.05734426695672331), (1676, 0.035675644737878535), (1677, 0.007603085005839387), (1678, 0.06003239530690643), (1679, 0.0), (1680, 0.04941139024161447), (1681, 0.04874394085838358), (1682, 0.021180265856540856), (1683, 0.010197592119061067), (1684, 0.005499886071632044), (1685, 0.017083561776083098), (1686, 0.0), (1687, 0.05715017260275103), (1688, 0.016558751976729662), (1689, 0.0), (1690, 0.014352843032863952), (1691, 0.008473031921220188), (1692, 0.006329420558235642), (1693, 0.00918670409225673), (1694, 0.03994761878991922), (1695, 0.005157021936911473), (1696, 0.02308832459835365), (1697, 0.0), (1698, 0.0), (1699, 0.015414043219931249), (1700, 0.0), (1701, 0.018961299400192533), (1702, 0.033185876840958126), (1703, 0.010009476492627262), (1704, 0.0), (1705, 0.02816150535693054), (1706, 0.009556944790812706), (1707, 0.03462637866982064), (1708, 0.017370304599902), (1709, 0.0), (1710, 0.015155884743475387), (1711, 0.011757745535356657), (1712, 0.017455858132997795), (1713, 0.05385206161575451), (1714, 0.011321271823027921), (1715, 0.005731659075855544), (1716, 0.05877116703637587), (1717, 0.009956832227022079), (1718, 0.0066427465211443696), (1719, 0.008842239507291813), (1720, 0.02474649158232881), (1721, 0.04958679910595419), (1722, 0.009853272008980236), (1723, 0.022611189622919088), (1724, 0.01900927596110555), (1725, 0.0), (1726, 0.0), (1727, 0.03799471360156894), (1728, 0.0), (1729, 0.0), (1730, 0.014160454600513916), (1731, 0.0), (1732, 0.01854748939085871), (1733, 0.010789522646966514), (1734, 0.0), (1735, 0.027877487985644874), (1736, 0.03847447631136058), (1737, 0.006834538569435177), (1738, 0.025708294058460913), (1739, 0.049268705549083906), (1740, 0.055127346472092206), (1741, 0.015104217724040128), (1742, 0.00938253576770753), (1743, 0.013822431006026127), (1744, 0.009223523825175033), (1745, 0.0), (1746, 0.005935990789152297), (1747, 0.012659415436290948), (1748, 0.010748849388554237), (1749, 0.03658597472349147), (1750, 0.028547686491352208), (1751, 0.0), (1752, 0.03260591587104474), (1753, 0.01531714397909928), (1754, 0.04077371754795297), (1755, 0.0), (1756, 0.0), (1757, 0.021009281567519838), (1758, 0.0), (1759, 0.023358367183586297), (1760, 0.024581245451693656), (1761, 0.024435802721098493), (1762, 0.014471855907677376), (1763, 0.03055322110026664), (1764, 0.013408267168253583), (1765, 0.01019112305796153), (1766, 0.0), (1767, 0.0), (1768, 0.010085527810213704), (1769, 0.0), (1770, 0.031877864088488715), (1771, 0.0), (1772, 0.015084127255656938), (1773, 0.023557753378017056), (1774, 0.04642671505167653), (1775, 0.0), (1776, 0.03282733231444987), (1777, 0.0), (1778, 0.0), (1779, 0.035532680157647566), (1780, 0.0064218959436663885), (1781, 0.03811820150290066), (1782, 0.00900040832460661), (1783, 0.0), (1784, 0.015561242852078857), (1785, 0.0), (1786, 0.0), (1787, 0.01204313217165599), (1788, 0.0398728718265719), (1789, 0.04101814948217427), (1790, 0.007625244299287238), (1791, 0.018136659284372688), (1792, 0.011543307449410352), (1793, 0.015323753960317724), (1794, 0.0), (1795, 0.028703236086220375), (1796, 0.0489081072291265), (1797, 0.023504234199853456), (1798, 0.016820924193508627), (1799, 0.025530575676747064), (1800, 0.0), (1801, 0.008340320282452468), (1802, 0.012313330973278898), (1803, 0.0), (1804, 0.0), (1805, 0.010797589035735177), (1806, 0.029355111873413324), (1807, 0.016030961183621167), (1808, 0.008738176932998824), (1809, 0.05963770691069316), (1810, 0.0), (1811, 0.02704018580253165), (1812, 0.024954432629093217), (1813, 0.009412701847087418), (1814, 0.009138501896848302), (1815, 0.051210122252384825), (1816, 0.024413039681963167), (1817, 0.03154017414527522), (1818, 0.006034462006648818), (1819, 0.025342922285838405), (1820, 0.0), (1821, 0.07003680394463038), (1822, 0.009914585976502287), (1823, 0.0), (1824, 0.0), (1825, 0.0), (1826, 0.008976007365400784), (1827, 0.008859173180274705), (1828, 0.008158334099452815), (1829, 0.019127137803827594), (1830, 0.007940644641229752), (1831, 0.009807842408952097), (1832, 0.04593191214731363), (1833, 0.013557278880667628), (1834, 0.0), (1835, 0.0), (1836, 0.0), (1837, 0.030568850528608603), (1838, 0.030769747989553856), (1839, 0.0), (1840, 0.016181117205125887), (1841, 0.006231701916340946), (1842, 0.0), (1843, 0.025786122338705898), (1844, 0.0), (1845, 0.043876691457498875), (1846, 0.017204510762703858), (1847, 0.04617613541921273), (1848, 0.01059766051676106), (1849, 0.006313792164590989), (1850, 0.03990163485005693), (1851, 0.010145355717164116), (1852, 0.023300026510872467), (1853, 0.05706081341890981), (1854, 0.03551076578271316), (1855, 0.0), (1856, 0.0), (1857, 0.017003614890406166), (1858, 0.04088172490379864), (1859, 0.018275485078579668), (1860, 0.016620318674283), (1861, 0.041772077176542244), (1862, 0.011096034737248751), (1863, 0.005509106958747277), (1864, 0.03158399865687904), (1865, 0.041558511118697745), (1866, 0.029863919432353947), (1867, 0.0062709821396494825), (1868, 0.028923206430123805), (1869, 0.008911921312767601), (1870, 0.01139914673040045), (1871, 0.04580278836831743), (1872, 0.025208373876767696), (1873, 0.023624113884898594), (1874, 0.04003004720260614), (1875, 0.014444074983196728), (1876, 0.034019654199275384), (1877, 0.009417791432705687), (1878, 0.052697283688512495), (1879, 0.0), (1880, 0.014472617736663147), (1881, 0.018305920484479873), (1882, 0.00958282442041865), (1883, 0.0), (1884, 0.009089866991788435), (1885, 0.038419709650879076), (1886, 0.06414953280263276), (1887, 0.011226136149469103), (1888, 0.0), (1889, 0.0), (1890, 0.01099460307726705), (1891, 0.009691522032050199), (1892, 0.02486945872520801), (1893, 0.010229398416413382), (1894, 0.0), (1895, 0.013885277352153948), (1896, 0.009873546050279389), (1897, 0.03573611604342393), (1898, 0.0), (1899, 0.0), (1900, 0.025292545747534638), (1901, 0.018051805027528994), (1902, 0.02893846025013839), (1903, 0.005725454410990189), (1904, 0.01777304039688216), (1905, 0.010602246076140185), (1906, 0.015034656700905208), (1907, 0.010420149534107975), (1908, 0.00613420496031336), (1909, 0.01109734030667968), (1910, 0.015222178485016936), (1911, 0.0063024745303464835), (1912, 0.0), (1913, 0.006152775499470607), (1914, 0.016609844094343795), (1915, 0.0), (1916, 0.010277649616842835), (1917, 0.0), (1918, 0.029262696207806242), (1919, 0.019578252288684303), (1920, 0.014882799208455436), (1921, 0.008871903174420947), (1922, 0.0366309931534046), (1923, 0.04080711455946899), (1924, 0.030852731473840198), (1925, 0.015217611353231257), (1926, 0.0), (1927, 0.031992470117750055), (1928, 0.0), (1929, 0.009408884840152655), (1930, 0.017727674625253872), (1931, 0.02777476352670144), (1932, 0.0), (1933, 0.01728847441038623), (1934, 0.029902761235045268), (1935, 0.0220009212775883), (1936, 0.016365263667630345), (1937, 0.0567593274323652), (1938, 0.0), (1939, 0.022735015153780663), (1940, 0.020062161376986465), (1941, 0.02102225619639467), (1942, 0.06122802395511415), (1943, 0.008416417544457495), (1944, 0.0), (1945, 0.03342974786054512), (1946, 0.009843210435871165), (1947, 0.011406602846585446), (1948, 0.00864086045626477), (1949, 0.04533615767891085), (1950, 0.01308899928851477), (1951, 0.01694765037689494), (1952, 0.018934041694530446), (1953, 0.017235377281791118), (1954, 0.00875376096752938), (1955, 0.0), (1956, 0.0), (1957, 0.01079290312165128), (1958, 0.04506686533695778), (1959, 0.010721082927863175), (1960, 0.03063261406714704), (1961, 0.0), (1962, 0.019632570616212326), (1963, 0.0), (1964, 0.024762913331529066), (1965, 0.0), (1966, 0.0), (1967, 0.053062192395337215), (1968, 0.030801158822027122), (1969, 0.00937082278577735), (1970, 0.08260507933561541), (1971, 0.030654753243726837), (1972, 0.0), (1973, 0.04713585121862077), (1974, 0.0), (1975, 0.018073280585658977), (1976, 0.04185191461095801), (1977, 0.07895259944440214), (1978, 0.0), (1979, 0.0), (1980, 0.008861689029656093), (1981, 0.0229190611565136), (1982, 0.06718209005743495), (1983, 0.05563169768489531), (1984, 0.0), (1985, 0.060086147938021146), (1986, 0.033276546427916324), (1987, 0.024729766359728764), (1988, 0.011836328006248169), (1989, 0.04387310160049641), (1990, 0.0390102829154889), (1991, 0.045925919588798714), (1992, 0.04142594559289807), (1993, 0.01644020735599567), (1994, 0.08100333400188994), (1995, 0.01023860177094307), (1996, 0.03361434606336011), (1997, 0.07303207037786422), (1998, 0.017323065522767574), (1999, 0.022719643671750306), (2000, 0.017788021095130557), (2001, 0.0), (2002, 0.0), (2003, 0.0), (2004, 0.00924273396495164), (2005, 0.011544824517819144), (2006, 0.0), (2007, 0.0), (2008, 0.032635339472255664), (2009, 0.0), (2010, 0.007482439266300843), (2011, 0.028826934247060527), (2012, 0.056149149996418395), (2013, 0.036036708170083226), (2014, 0.028827299861626753), (2015, 0.01837303917465548), (2016, 0.03704770768151716), (2017, 0.0), (2018, 0.033822923021996465), (2019, 0.0), (2020, 0.02365196748244604), (2021, 0.0), (2022, 0.004999989034036302), (2023, 0.06149488690295909), (2024, 0.051948821831962116), (2025, 0.0), (2026, 0.0705335344510862), (2027, 0.021533057861046218), (2028, 0.0), (2029, 0.036287162871139506), (2030, 0.0), (2031, 0.02479302668855909), (2032, 0.0), (2033, 0.0), (2034, 0.008075654485924708), (2035, 0.023599984768078244), (2036, 0.0), (2037, 0.07285325421011443), (2038, 0.0), (2039, 0.008114094688497013), (2040, 0.06622701027093486), (2041, 0.0), (2042, 0.0), (2043, 0.0), (2044, 0.018325313206274223), (2045, 0.033983998566492465), (2046, 0.0), (2047, 0.00877295690140302), (2048, 0.030802512071697805), (2049, 0.01663937923048848), (2050, 0.0), (2051, 0.018300446865997466), (2052, 0.011882291314954952), (2053, 0.05623020289771735), (2054, 0.0), (2055, 0.04365148942226951), (2056, 0.0060977430556203565), (2057, 0.043115570387890774), (2058, 0.005621703643127541), (2059, 0.0), (2060, 0.009762329023364004), (2061, 0.027070622195654065), (2062, 0.02237015354891663), (2063, 0.0), (2064, 0.004735842829034941), (2065, 0.03206501820278145), (2066, 0.049215150904260624), (2067, 0.009255311667199237), (2068, 0.009237767351561187), (2069, 0.02726854074523903), (2070, 0.05237461178989014), (2071, 0.0), (2072, 0.010274326158751653), (2073, 0.00978777182044737), (2074, 0.02104324821012009), (2075, 0.03436865025823968), (2076, 0.03134101289919909), (2077, 0.03261974391195965), (2078, 0.014007188002303604), (2079, 0.0), (2080, 0.035922571759438034), (2081, 0.0), (2082, 0.050074922136997414), (2083, 0.009677678436153485), (2084, 0.019377251120564504), (2085, 0.0), (2086, 0.0), (2087, 0.015539651039678158), (2088, 0.028769739293873373), (2089, 0.03166431409046197), (2090, 0.0), (2091, 0.02709648456737528), (2092, 0.0), (2093, 0.052916385367199906), (2094, 0.035979064458325064), (2095, 0.005930779392041798), (2096, 0.06464819064090026), (2097, 0.039460201109839554), (2098, 0.005493712141567323), (2099, 0.009126247377873027), (2100, 0.029492174900354964), (2101, 0.006731697927167478), (2102, 0.0342287298960909), (2103, 0.015271687916665885), (2104, 0.02888407774717475), (2105, 0.010434146635427789), (2106, 0.0), (2107, 0.0), (2108, 0.010784517844193832), (2109, 0.04108218818421875), (2110, 0.04667519481823157), (2111, 0.009534435228241097), (2112, 0.10205649867220787), (2113, 0.005003411350854932), (2114, 0.027905892407395397), (2115, 0.0), (2116, 0.01730004994945558), (2117, 0.009243577800304666), (2118, 0.0), (2119, 0.04702128870496381), (2120, 0.0), (2121, 0.032514116208242384), (2122, 0.03896831576641964), (2123, 0.04087549340514472), (2124, 0.0), (2125, 0.0), (2126, 0.038263220022102105), (2127, 0.008223763339859412), (2128, 0.0), (2129, 0.009196166105778968), (2130, 0.017644204197386076), (2131, 0.009391511254319411), (2132, 0.00823774022502807), (2133, 0.05492765179289084), (2134, 0.010612939851009444), (2135, 0.0), (2136, 0.018114575987461412), (2137, 0.01383488222768391), (2138, 0.0), (2139, 0.016398611045928078), (2140, 0.0), (2141, 0.009483789087624518), (2142, 0.011549716060106782), (2143, 0.015211740177676793), (2144, 0.01631096825677482), (2145, 0.01115668773295582), (2146, 0.008449790267209465), (2147, 0.03132990440921049), (2148, 0.010170294077896472), (2149, 0.02309493565882042), (2150, 0.0), (2151, 0.0512264576599917), (2152, 0.0), (2153, 0.0), (2154, 0.07679354084491363), (2155, 0.04622917007375549), (2156, 0.005670588033024915), (2157, 0.023177923871995743), (2158, 0.031629803364887), (2159, 0.010492165975711914), (2160, 0.005983595220748358), (2161, 0.015990921133858024), (2162, 0.03823802953672811), (2163, 0.00885794774616097), (2164, 0.0), (2165, 0.0), (2166, 0.009228567867597513), (2167, 0.01722131543800573), (2168, 0.0), (2169, 0.009655670270777069), (2170, 0.0), (2171, 0.0), (2172, 0.0), (2173, 0.030800887661636082), (2174, 0.060336203779802366), (2175, 0.00579642066236731), (2176, 0.010770166998658622), (2177, 0.012582348283995673), (2178, 0.0418367295415274), (2179, 0.0), (2180, 0.0), (2181, 0.019691733285088383), (2182, 0.0), (2183, 0.0), (2184, 0.025639248336252727), (2185, 0.005662627268077337), (2186, 0.0), (2187, 0.04433920180339358), (2188, 0.033253064303541364), (2189, 0.013864596635618428), (2190, 0.01068368108193088), (2191, 0.0668796260815035), (2192, 0.009928589490272447), (2193, 0.016222173019215774), (2194, 0.0), (2195, 0.009792386574667411), (2196, 0.057525634482716956), (2197, 0.02054060222926916), (2198, 0.026673110283276742), (2199, 0.012481610274404758), (2200, 0.0), (2201, 0.009104840893769544), (2202, 0.0060240062356174484), (2203, 0.00587318356359821), (2204, 0.0), (2205, 0.005756487774047254), (2206, 0.04277462689143786), (2207, 0.015111237463454451), (2208, 0.01851672867856615), (2209, 0.018042014618145592), (2210, 0.0669014964805192), (2211, 0.013400633123046969), (2212, 0.061571630197160374), (2213, 0.008852783696027565), (2214, 0.0904656403777603), (2215, 0.0), (2216, 0.05350992923437409), (2217, 0.0), (2218, 0.0), (2219, 0.0), (2220, 0.0), (2221, 0.03335063047266924), (2222, 0.0), (2223, 0.010998550388310624), (2224, 0.05150415763115391), (2225, 0.0), (2226, 0.00938101756759235), (2227, 0.0), (2228, 0.034920134509910175), (2229, 0.05835667754852364), (2230, 0.010074539278113668), (2231, 0.01940042336967974), (2232, 0.016969307361105086), (2233, 0.0), (2234, 0.0), (2235, 0.045346074865370234), (2236, 0.014767812739835007), (2237, 0.024069761252777922), (2238, 0.0), (2239, 0.006034849424703714), (2240, 0.008352528561090224), (2241, 0.0), (2242, 0.00897498963982564), (2243, 0.0), (2244, 0.006828328352877227), (2245, 0.01713730094823234), (2246, 0.017376277651278787), (2247, 0.0), (2248, 0.04605417832122835), (2249, 0.0), (2250, 0.03640855718865241), (2251, 0.013161009546555962), (2252, 0.03418057867635545), (2253, 0.0), (2254, 0.05716901249029831), (2255, 0.034680960472135564), (2256, 0.0), (2257, 0.012469686545277914), (2258, 0.016039055827929544), (2259, 0.0), (2260, 0.00994638504850912), (2261, 0.0), (2262, 0.0), (2263, 0.0), (2264, 0.032957554131632746), (2265, 0.014104652587711004), (2266, 0.011999779376214093), (2267, 0.0), (2268, 0.009581854370740375), (2269, 0.010548225831706023), (2270, 0.008541558601151467), (2271, 0.0), (2272, 0.0), (2273, 0.020239600216979365), (2274, 0.0), (2275, 0.05913425917513156), (2276, 0.06555384237808004), (2277, 0.015516486948418517), (2278, 0.017458208182898064), (2279, 0.035420034079372484), (2280, 0.04317149625796859), (2281, 0.0), (2282, 0.0), (2283, 0.017777941812950396), (2284, 0.049157670984362974), (2285, 0.014498530506328666), (2286, 0.011782690956043966), (2287, 0.008085966443958018), (2288, 0.010485740732938169), (2289, 0.00940662503557279), (2290, 0.015085570948424883), (2291, 0.005381331947958876), (2292, 0.010039011636607992), (2293, 0.010802519838538147), (2294, 0.04446223974225918), (2295, 0.07852242133967571), (2296, 0.0), (2297, 0.0), (2298, 0.01451442430970625), (2299, 0.015754523626456084), (2300, 0.0), (2301, 0.02620922548308633), (2302, 0.01102352179011687), (2303, 0.015338591722165944), (2304, 0.030225843700875495), (2305, 0.0), (2306, 0.020620542121052785), (2307, 0.0), (2308, 0.035001177261982354), (2309, 0.015532081309856158), (2310, 0.013216124844792265), (2311, 0.0), (2312, 0.0), (2313, 0.009576192090426934), (2314, 0.01899464941676462), (2315, 0.0), (2316, 0.05350461914695359), (2317, 0.009182996370310743), (2318, 0.08532025026738357), (2319, 0.010187285672796885), (2320, 0.011269022488199974), (2321, 0.06813094382024755), (2322, 0.0), (2323, 0.008957887738500534), (2324, 0.018709660454768687), (2325, 0.0), (2326, 0.013908905630834165), (2327, 0.0), (2328, 0.021649161391760353), (2329, 0.0), (2330, 0.01773584788398967), (2331, 0.0), (2332, 0.0), (2333, 0.0), (2334, 0.0560672707808163), (2335, 0.0061966107703485575), (2336, 0.04451691266430244), (2337, 0.0), (2338, 0.008893491652925606), (2339, 0.007270581687482067), (2340, 0.009884387545995568), (2341, 0.0), (2342, 0.0), (2343, 0.0260786188937933), (2344, 0.026435939744920874), (2345, 0.0), (2346, 0.04203088852998979), (2347, 0.022484713546915426), (2348, 0.026032262748759995), (2349, 0.013417454192549605), (2350, 0.011810592212200002), (2351, 0.0), (2352, 0.0), (2353, 0.014955899124883232), (2354, 0.009928273713516829), (2355, 0.022755411176427827), (2356, 0.010813863656936696), (2357, 0.0), (2358, 0.050543508244887896), (2359, 0.008183544412816397), (2360, 0.0), (2361, 0.010155091420423314), (2362, 0.025491155514939235), (2363, 0.03302138166210198), (2364, 0.0), (2365, 0.02943376701094924), (2366, 0.013305407495104952), (2367, 0.009253087180074289), (2368, 0.017561554765983586), (2369, 0.0), (2370, 0.010329514441086346), (2371, 0.033421667224943566), (2372, 0.0), (2373, 0.0), (2374, 0.06577119751829386), (2375, 0.04253499565747065), (2376, 0.014849040971857679), (2377, 0.0), (2378, 0.011169024175299443), (2379, 0.013722944254619925), (2380, 0.0), (2381, 0.0), (2382, 0.008288432520296344), (2383, 0.04932535195563083), (2384, 0.0), (2385, 0.010258728250707833), (2386, 0.00959584561116803), (2387, 0.009839447066138355), (2388, 0.01673082284318784), (2389, 0.0), (2390, 0.010572028527442141), (2391, 0.01039642725929602), (2392, 0.0129108949402891), (2393, 0.010425643196172368), (2394, 0.031100543905321878), (2395, 0.0), (2396, 0.009948236097015412), (2397, 0.009920713238394087), (2398, 0.0), (2399, 0.008974150683585879), (2400, 0.010996526227558822), (2401, 0.009641751898825948), (2402, 0.008871873067644314), (2403, 0.01866158049080476), (2404, 0.013297670683198698), (2405, 0.010198862649873384), (2406, 0.06351143345522178), (2407, 0.01339653903811065), (2408, 0.023456971922818416), (2409, 0.0), (2410, 0.010665230008306568), (2411, 0.010903395189971892), (2412, 0.04699598923029044), (2413, 0.04111753654932092), (2414, 0.0), (2415, 0.010818667389865203), (2416, 0.009776621107285517), (2417, 0.05650186838371328), (2418, 0.017311848040822343), (2419, 0.010415675241729696), (2420, 0.0), (2421, 0.023400560728331393), (2422, 0.009486195592516808), (2423, 0.012111911740988072), (2424, 0.02465344426019848), (2425, 0.012816920117572938), (2426, 0.005537598280396856), (2427, 0.03128981006645068), (2428, 0.029844139634559834), (2429, 0.04154447398014513), (2430, 0.009456777154284552), (2431, 0.0), (2432, 0.016547860469010394), (2433, 0.0), (2434, 0.011570850059577146), (2435, 0.0), (2436, 0.018111108038357283), (2437, 0.011006906199667264), (2438, 0.011822588645741776), (2439, 0.005095757043250282), (2440, 0.030074983861212764), (2441, 0.007959227447867053), (2442, 0.016071301169869486), (2443, 0.0417798468200847), (2444, 0.027288395837912656), (2445, 0.0), (2446, 0.009171109459776703), (2447, 0.047077212365331106), (2448, 0.01263875627370861), (2449, 0.02118398155831198), (2450, 0.0), (2451, 0.0), (2452, 0.0), (2453, 0.00904338795091184), (2454, 0.01195308569631567), (2455, 0.0), (2456, 0.0), (2457, 0.00885561009315269), (2458, 0.0), (2459, 0.033169528413574255), (2460, 0.013077241149918222), (2461, 0.009365440209361916), (2462, 0.0), (2463, 0.01606466847379085), (2464, 0.04032416931928047), (2465, 0.0), (2466, 0.00957758604371644), (2467, 0.03166615819636273), (2468, 0.03631015225332533), (2469, 0.023990054152245588), (2470, 0.0), (2471, 0.0), (2472, 0.0), (2473, 0.015238256410633248), (2474, 0.017146817607483003), (2475, 0.010534204624635663), (2476, 0.046332792601156206), (2477, 0.029294446596450877), (2478, 0.010953685470379825), (2479, 0.0), (2480, 0.023825656983701107), (2481, 0.0340843222327739), (2482, 0.008619881040756788), (2483, 0.0), (2484, 0.029903871655743326), (2485, 0.0), (2486, 0.04959265358401467), (2487, 0.06075100151346378), (2488, 0.011813688254862939), (2489, 0.03743634744954538), (2490, 0.014059485688898794), (2491, 0.0), (2492, 0.009819895697681127), (2493, 0.0), (2494, 0.017282573803680135), (2495, 0.00985960280525391), (2496, 0.025038544327038892), (2497, 0.0), (2498, 0.0), (2499, 0.0), (2500, 0.0), (2501, 0.031568855862483064), (2502, 0.008530658010658465), (2503, 0.006243643085696089), (2504, 0.0), (2505, 0.01766320618951234), (2506, 0.017691473624894948), (2507, 0.010691931332187345), (2508, 0.0), (2509, 0.008073996140311358), (2510, 0.007337049898884642), (2511, 0.0), (2512, 0.036290302119500274), (2513, 0.01756429021869185), (2514, 0.0), (2515, 0.0), (2516, 0.0), (2517, 0.030134434320902747), (2518, 0.0), (2519, 0.02783091752705064), (2520, 0.008244185386899404), (2521, 0.0), (2522, 0.05675412491359507), (2523, 0.0), (2524, 0.046233921851036294), (2525, 0.009344265560191372), (2526, 0.007996386060932103), (2527, 0.00813930267538585), (2528, 0.00913517628472964), (2529, 0.013866849005972343), (2530, 0.05054450083011689), (2531, 0.010020190712131626), (2532, 0.0), (2533, 0.009975236016649503), (2534, 0.004404100776327797), (2535, 0.010769948891986635), (2536, 0.0), (2537, 0.0134074496898384), (2538, 0.07053329929137506), (2539, 0.0), (2540, 0.05458163837690907), (2541, 0.015128065174550558), (2542, 0.0), (2543, 0.0), (2544, 0.011301670065491093), (2545, 0.017018264206704138), (2546, 0.03837349888616639), (2547, 0.0), (2548, 0.0), (2549, 0.0), (2550, 0.052023123442763886), (2551, 0.0), (2552, 0.009278214441814182), (2553, 0.023939271685278367), (2554, 0.009634459177190049), (2555, 0.03600024832378779), (2556, 0.008676593980705357), (2557, 0.012272515936721191), (2558, 0.10101038079725382), (2559, 0.012375734262479468), (2560, 0.031698655422647604), (2561, 0.01027799185426562), (2562, 0.0), (2563, 0.013319313271099927), (2564, 0.0), (2565, 0.017325007112476025), (2566, 0.0), (2567, 0.020139958962546965), (2568, 0.019567911915983165), (2569, 0.009642138721861057), (2570, 0.011401486715909659), (2571, 0.009331539301011472), (2572, 0.015486097524841905), (2573, 0.014276361924292007), (2574, 0.0), (2575, 0.0), (2576, 0.02007996268463583), (2577, 0.0), (2578, 0.0), (2579, 0.05449109132343219), (2580, 0.024835393932640358), (2581, 0.033362523682976646), (2582, 0.019162778542618816), (2583, 0.0), (2584, 0.0), (2585, 0.011029951282608473), (2586, 0.0), (2587, 0.01440334469100375), (2588, 0.0), (2589, 0.0), (2590, 0.0), (2591, 0.008773431133755422), (2592, 0.01061798701137499), (2593, 0.008877675857465227), (2594, 0.0), (2595, 0.010466996927085935), (2596, 0.0), (2597, 0.0), (2598, 0.03973711261757088), (2599, 0.018477374523650964), (2600, 0.033658132492863514), (2601, 0.016498771201193647), (2602, 0.045595430708266355), (2603, 0.013247820968034209), (2604, 0.0), (2605, 0.0), (2606, 0.0279291007836519), (2607, 0.05435559962160483), (2608, 0.0), (2609, 0.010139261981638491), (2610, 0.010248624965594285), (2611, 0.008374384849444062), (2612, 0.009467985837261786), (2613, 0.011665154521304852), (2614, 0.037712111047563605), (2615, 0.0), (2616, 0.0), (2617, 0.04780804221362458), (2618, 0.030199086975327315), (2619, 0.011755192608028679), (2620, 0.0), (2621, 0.06611762749901003), (2622, 0.046807685214089095), (2623, 0.010915756733091416), (2624, 0.010843662426676148), (2625, 0.04200125531917911), (2626, 0.01937027709853725), (2627, 0.0), (2628, 0.012944055894121832), (2629, 0.01084819106166278), (2630, 0.06100059993981757), (2631, 0.0), (2632, 0.032762062569878785), (2633, 0.016848982284949614), (2634, 0.0088652974390458), (2635, 0.031778953454963475), (2636, 0.007460576026620186), (2637, 0.0), (2638, 0.0671510122163982), (2639, 0.01470511835731236), (2640, 0.016734500886966007), (2641, 0.0), (2642, 0.009255432566092518), (2643, 0.011895969721003817), (2644, 0.013613004998517734), (2645, 0.06825828368699449), (2646, 0.020371866344156282), (2647, 0.04233458728805956), (2648, 0.0), (2649, 0.06959725110542678), (2650, 0.02560486011152279), (2651, 0.009388321745259252), (2652, 0.009432509292898452), (2653, 0.05283047920294565), (2654, 0.015885067558325448), (2655, 0.03643401141338434), (2656, 0.0), (2657, 0.0), (2658, 0.0), (2659, 0.0), (2660, 0.004185097177102045), (2661, 0.010447050417658449), (2662, 0.0), (2663, 0.0), (2664, 0.010445990772844554), (2665, 0.005204246232571471), (2666, 0.0), (2667, 0.0), (2668, 0.06198891264072721), (2669, 0.0), (2670, 0.0), (2671, 0.0), (2672, 0.0), (2673, 0.013150383035447199), (2674, 0.00889730923381243), (2675, 0.0), (2676, 0.0), (2677, 0.0), (2678, 0.015398238825642643), (2679, 0.009389796449637063), (2680, 0.02198784724119098), (2681, 0.0), (2682, 0.01585767598201121), (2683, 0.01930805906426679), (2684, 0.0), (2685, 0.0), (2686, 0.0), (2687, 0.0322671664374804), (2688, 0.010532009317784318), (2689, 0.03663292112599749), (2690, 0.0), (2691, 0.006273255934259751), (2692, 1.0000000000000002), (2693, 0.0), (2694, 0.052444135940204105), (2695, 0.05365694856318037), (2696, 0.011268456632437925), (2697, 0.04475792218992927), (2698, 0.015649719027303707), (2699, 0.022559817907005623), (2700, 0.02015524092861455), (2701, 0.0), (2702, 0.011088939624321156), (2703, 0.0), (2704, 0.0), (2705, 0.010056169678955578), (2706, 0.033623444158976515), (2707, 0.01132037105224878), (2708, 0.006069600570329073), (2709, 0.0), (2710, 0.028198514934337195), (2711, 0.01656188598798459), (2712, 0.024144415213257095), (2713, 0.021986548421283576), (2714, 0.027495725065678052), (2715, 0.0), (2716, 0.05504369725438243), (2717, 0.0), (2718, 0.022442178784971848), (2719, 0.0), (2720, 0.011383912118487438), (2721, 0.008506857796438741), (2722, 0.013708323913883382), (2723, 0.03569454348610842), (2724, 0.024163161348250542), (2725, 0.010468024700813983), (2726, 0.006591204053029475), (2727, 0.0532431615369513), (2728, 0.00899087598555462), (2729, 0.0), (2730, 0.0), (2731, 0.013129628857389549), (2732, 0.006399304220117178), (2733, 0.019200287968637736), (2734, 0.0), (2735, 0.009163589788653684), (2736, 0.03047098140255083), (2737, 0.0), (2738, 0.011590394147228391), (2739, 0.04062500732451342), (2740, 0.017738963141324948), (2741, 0.008803910648690714), (2742, 0.04745352890674544), (2743, 0.008006099148119202), (2744, 0.01664249803771311), (2745, 0.04756638919351074), (2746, 0.009918251358518579), (2747, 0.008475910349523622), (2748, 0.010576157220743515), (2749, 0.0), (2750, 0.0), (2751, 0.06235661747241583), (2752, 0.03557157885691586), (2753, 0.00874631118391032), (2754, 0.0), (2755, 0.010175592778163977), (2756, 0.0), (2757, 0.015093207122125498), (2758, 0.008223657938188073), (2759, 0.023434638968737667), (2760, 0.024047688809246057), (2761, 0.030699691268267368), (2762, 0.024932540304122668), (2763, 0.0), (2764, 0.013629853285162792), (2765, 0.009431853422833703), (2766, 0.007497704967421912), (2767, 0.023976193448032156), (2768, 0.07458719877401646), (2769, 0.018834761758364356), (2770, 0.0), (2771, 0.04531227319323615), (2772, 0.010299018268009604), (2773, 0.0), (2774, 0.005071578762582557), (2775, 0.013169222193476774), (2776, 0.010434017402527489), (2777, 0.05031300384575304), (2778, 0.0329643999840717), (2779, 0.00920668623691216), (2780, 0.04528457818342069), (2781, 0.0), (2782, 0.0361991594965504), (2783, 0.009981110724583865), (2784, 0.0556964734570822), (2785, 0.0), (2786, 0.010543788032858086), (2787, 0.016891014812394793), (2788, 0.045407025785566754), (2789, 0.019669746133513154), (2790, 0.01830388832903736), (2791, 0.05741612845244776), (2792, 0.010502502257744881), (2793, 0.0), (2794, 0.0), (2795, 0.06710408042782146), (2796, 0.010601333693683943), (2797, 0.011830790640443765), (2798, 0.016417342779374695), (2799, 0.0), (2800, 0.009183526477885517), (2801, 0.015287102155485842), (2802, 0.032596021311822945), (2803, 0.030106897226759532), (2804, 0.0), (2805, 0.013018939074792376), (2806, 0.0), (2807, 0.02866630019326919), (2808, 0.059043135380744786), (2809, 0.015428403996311141), (2810, 0.0), (2811, 0.0), (2812, 0.014845476487435658), (2813, 0.0), (2814, 0.0), (2815, 0.04075533028883783), (2816, 0.006560189497066134), (2817, 0.0), (2818, 0.0), (2819, 0.018294721869532876), (2820, 0.021131418658417854), (2821, 0.010133742697420492), (2822, 0.020190210464201976), (2823, 0.017071345119413127), (2824, 0.0), (2825, 0.026764020172182535), (2826, 0.009778615040773559), (2827, 0.0), (2828, 0.0), (2829, 0.0), (2830, 0.010537823267521946), (2831, 0.015445522549407769), (2832, 0.012629673644635795), (2833, 0.02442080283654105), (2834, 0.011982043894983618), (2835, 0.0), (2836, 0.0), (2837, 0.0), (2838, 0.012320146545316515), (2839, 0.0), (2840, 0.03053718184608967), (2841, 0.02348072488894807), (2842, 0.0), (2843, 0.006545069859827944), (2844, 0.012921493071684845), (2845, 0.00895095390914611), (2846, 0.047694131646516195), (2847, 0.017156205000436277), (2848, 0.011620131408650066), (2849, 0.039190347762394946), (2850, 0.0), (2851, 0.0), (2852, 0.0), (2853, 0.009869205141862406), (2854, 0.03041428083459404), (2855, 0.0), (2856, 0.0), (2857, 0.011925338508263937), (2858, 0.013835623773669974), (2859, 0.044711214624228085), (2860, 0.0), (2861, 0.013103720487489536), (2862, 0.008904331151527903), (2863, 0.01011345364841282), (2864, 0.0), (2865, 0.0), (2866, 0.0), (2867, 0.01848698394681264), (2868, 0.04004245650567271), (2869, 0.03795574257731799), (2870, 0.013151370853722248), (2871, 0.03972874757419434), (2872, 0.011164048746809657), (2873, 0.0071526461389892744), (2874, 0.030812522673857045), (2875, 0.0), (2876, 0.033023261359591057), (2877, 0.0), (2878, 0.009902835498096686), (2879, 0.03272166752353503), (2880, 0.0), (2881, 0.030299571089348568), (2882, 0.010695421018943075), (2883, 0.013129462268134745), (2884, 0.01134460434208825), (2885, 0.014894517085355533), (2886, 0.034602666934353626), (2887, 0.03550922294038075), (2888, 0.01025055933812147), (2889, 0.013147894886360461), (2890, 0.010799457222792123), (2891, 0.0), (2892, 0.009332501347451814), (2893, 0.04933675384955022), (2894, 0.010067062521866009), (2895, 0.011530775983459854), (2896, 0.0), (2897, 0.02587754233551565), (2898, 0.0), (2899, 0.024985984015056383), (2900, 0.009887203072122704), (2901, 0.012436969072208096), (2902, 0.007309354581391566), (2903, 0.1400973946864387), (2904, 0.01019930913949631), (2905, 0.0), (2906, 0.0), (2907, 0.009123501409213875), (2908, 0.07148189310254133), (2909, 0.009675365701972985), (2910, 0.05213639534377984), (2911, 0.010205382181145377), (2912, 0.031886917603212286), (2913, 0.0334160511538363), (2914, 0.011120153196449309), (2915, 0.017543301382977217), (2916, 0.010325798777489665), (2917, 0.03167448250431029), (2918, 0.04309675997743877), (2919, 0.05626293519266419), (2920, 0.031958203039006594), (2921, 0.0), (2922, 0.0), (2923, 0.013316746579862388), (2924, 0.011243487351133192), (2925, 0.04400249485412594), (2926, 0.009797896597235019), (2927, 0.0), (2928, 0.0), (2929, 0.02121899755358165), (2930, 0.0), (2931, 0.02669106325073467), (2932, 0.06883693583811765), (2933, 0.01373372660620055), (2934, 0.03652621940813977), (2935, 0.00538517047520313), (2936, 0.018475344097767535), (2937, 0.013640080582486171), (2938, 0.0), (2939, 0.054994093206338246), (2940, 0.010115638051523723), (2941, 0.0), (2942, 0.014155508488644223), (2943, 0.009703548130944071), (2944, 0.0656347040520957), (2945, 0.0095630063481686), (2946, 0.008976890530297424), (2947, 0.018258775311915356), (2948, 0.03512339515882121), (2949, 0.024058034449571487), (2950, 0.02232613846508389), (2951, 0.0), (2952, 0.0), (2953, 0.010492994713384161), (2954, 0.00901862913420382), (2955, 0.0), (2956, 0.0), (2957, 0.01210814147709763), (2958, 0.0), (2959, 0.01837058048770342), (2960, 0.017969690899298035), (2961, 0.05373223641403586), (2962, 0.025827396656051483), (2963, 0.04748880037207841), (2964, 0.01745097769928408), (2965, 0.009096243123266859), (2966, 0.01160782065506435), (2967, 0.0), (2968, 0.0), (2969, 0.018500224021701768), (2970, 0.01049572562980571), (2971, 0.060299703589242706), (2972, 0.03185006382390771), (2973, 0.0), (2974, 0.010676857424840461), (2975, 0.0142567797258647), (2976, 0.00885076701886562), (2977, 0.016328969022775797), (2978, 0.047893313300241526), (2979, 0.0), (2980, 0.015832392188808764), (2981, 0.05065831309553178), (2982, 0.0), (2983, 0.0), (2984, 0.01607867416833708), (2985, 0.06218549049597003), (2986, 0.011098224821573879), (2987, 0.01143397565177956), (2988, 0.03515804414873204), (2989, 0.013544987724985398), (2990, 0.0), (2991, 0.017941949633163014), (2992, 0.022282002630946745), (2993, 0.011939686594500636), (2994, 0.02746903839811915), (2995, 0.025672888528369613), (2996, 0.058491511491436096), (2997, 0.009379132713383434), (2998, 0.01383732079872114), (2999, 0.009708097835511222), (3000, 0.0255158189850834), (3001, 0.0), (3002, 0.0), (3003, 0.010927847692300915), (3004, 0.03893117509069693), (3005, 0.017898033228333523), (3006, 0.0), (3007, 0.010589506024677594), (3008, 0.006626558328348253), (3009, 0.0), (3010, 0.05372014492722975), (3011, 0.017077119492980568), (3012, 0.060792262466442995), (3013, 0.01103181022346826), (3014, 0.008934692924572657), (3015, 0.012333721183869308), (3016, 0.010075988222234192), (3017, 0.024915423553484306), (3018, 0.027246184366293412), (3019, 0.06297948609189681), (3020, 0.011913490179544768), (3021, 0.0), (3022, 0.0198724021749538), (3023, 0.043091906475388034), (3024, 0.008041047880652488), (3025, 0.0), (3026, 0.01086993482269478), (3027, 0.008800527328934634), (3028, 0.032481104771827134), (3029, 0.0), (3030, 0.013142886650205013), (3031, 0.012090124426747801), (3032, 0.030958303107659468), (3033, 0.0063275273891459085), (3034, 0.0), (3035, 0.026440205627915665), (3036, 0.02325579825074365), (3037, 0.010396249900102982), (3038, 0.0), (3039, 0.007150806827877879), (3040, 0.013639711444292761), (3041, 0.0), (3042, 0.013248653666450082), (3043, 0.06134791684435757), (3044, 0.010346670985124188), (3045, 0.06044260823778074), (3046, 0.015677578605473697), (3047, 0.0), (3048, 0.0), (3049, 0.022228063410747092), (3050, 0.008971910895504117), (3051, 0.012925756865689876), (3052, 0.01349695310283717), (3053, 0.06957956787213553), (3054, 0.0), (3055, 0.013446870540972827), (3056, 0.008170026793930278), (3057, 0.009309394362994302), (3058, 0.0), (3059, 0.0), (3060, 0.0), (3061, 0.0), (3062, 0.01010076566895878), (3063, 0.0), (3064, 0.01039684113603135), (3065, 0.028674109774089566), (3066, 0.0061906439344976), (3067, 0.015984183822252543), (3068, 0.020020219988539156), (3069, 0.009687834026281204), (3070, 0.03992078833999696), (3071, 0.009165363315866655), (3072, 0.011353456309033068), (3073, 0.0), (3074, 0.012036299186533327), (3075, 0.009542624488473825), (3076, 0.04805893448043608), (3077, 0.0), (3078, 0.0), (3079, 0.015951455071792294), (3080, 0.0), (3081, 0.01109338377266824), (3082, 0.0), (3083, 0.019663385227890726), (3084, 0.010444903827848798), (3085, 0.04875877644781146), (3086, 0.05774286162233306), (3087, 0.0), (3088, 0.0), (3089, 0.0), (3090, 0.0), (3091, 0.048914443252904304), (3092, 0.0), (3093, 0.009606186126508159), (3094, 0.01882583912982746), (3095, 0.056118819099112344), (3096, 0.013880825077284416), (3097, 0.05441189376089109), (3098, 0.016254451835912457), (3099, 0.03905917780473194), (3100, 0.016135454157856798), (3101, 0.010947452958985292), (3102, 0.03275144388515133), (3103, 0.0), (3104, 0.0), (3105, 0.0), (3106, 0.0), (3107, 0.0), (3108, 0.03010728213145758), (3109, 0.0), (3110, 0.049272582909793694), (3111, 0.024488829487550254), (3112, 0.029076478094666094), (3113, 0.01005305944990837), (3114, 0.005658320677867995), (3115, 0.0), (3116, 0.010756232889187301), (3117, 0.02055939915478972), (3118, 0.04074849449806561), (3119, 0.050212540352912956), (3120, 0.03446456440957504), (3121, 0.0), (3122, 0.025728646350650336), (3123, 0.03151526400116538), (3124, 0.018273916024872234), (3125, 0.027875871132693228), (3126, 0.01662687115807531), (3127, 0.05518682637527062), (3128, 0.012470964841620882), (3129, 0.02795126968805625), (3130, 0.0), (3131, 0.01795074452104901), (3132, 0.0), (3133, 0.016226881452693163), (3134, 0.017827664442586127), (3135, 0.016572950931725155), (3136, 0.016506446471758557), (3137, 0.04049419222488337), (3138, 0.0), (3139, 0.013820700655298456), (3140, 0.012252889527259163), (3141, 0.0), (3142, 0.03631350183668429), (3143, 0.01659483944747035), (3144, 0.01789727971046194), (3145, 0.0), (3146, 0.03587464367456053), (3147, 0.009081361381779686), (3148, 0.011070766125245312), (3149, 0.02636323260837517), (3150, 0.010306824374169419), (3151, 0.015391743194145536), (3152, 0.012328300931879376), (3153, 0.04304022235757056), (3154, 0.08149096561145025), (3155, 0.03716972071425202), (3156, 0.03716617993924986), (3157, 0.03830741882007874), (3158, 0.019004382613949253), (3159, 0.012247346059638115), (3160, 0.015197869751441825), (3161, 0.017314490335198336), (3162, 0.0), (3163, 0.019104294511795506), (3164, 0.005439291246596025), (3165, 0.01110484922039414), (3166, 0.013297326720103721), (3167, 0.032184234534100305), (3168, 0.01960335209642299), (3169, 0.0), (3170, 0.009352584536859176), (3171, 0.03481302951229687), (3172, 0.0), (3173, 0.009769134690346308), (3174, 0.03341058469605029), (3175, 0.0), (3176, 0.0), (3177, 0.0), (3178, 0.014991465559102126), (3179, 0.01817025029443271), (3180, 0.019055696352414192), (3181, 0.0), (3182, 0.009897142552451842), (3183, 0.010646867434346266), (3184, 0.01032657540790771), (3185, 0.02650611523369318), (3186, 0.011232279383883388), (3187, 0.01022136775661541), (3188, 0.0), (3189, 0.0), (3190, 0.0), (3191, 0.017273541375137893), (3192, 0.029611290248946962), (3193, 0.0), (3194, 0.009233464607877086), (3195, 0.026929223161507608), (3196, 0.03101263758670421), (3197, 0.0), (3198, 0.009597568823655532), (3199, 0.007378746041075503), (3200, 0.00837520134947646), (3201, 0.0), (3202, 0.0), (3203, 0.048519353593931405), (3204, 0.0), (3205, 0.004628449089587722), (3206, 0.011647110866240972), (3207, 0.0), (3208, 0.0), (3209, 0.03949723733976206), (3210, 0.05454974654508297), (3211, 0.008596954464421915), (3212, 0.0), (3213, 0.027507568762115173), (3214, 0.009335477496309823), (3215, 0.020161077864708225), (3216, 0.009870507450910086), (3217, 0.0), (3218, 0.01709834762786047), (3219, 0.012646763633803825), (3220, 0.009548555514474102), (3221, 0.0), (3222, 0.020091542231764452), (3223, 0.0), (3224, 0.010257238360972936), (3225, 0.009779058807348345), (3226, 0.025451858214250823), (3227, 0.027732246470200367), (3228, 0.0411663822005323), (3229, 0.0), (3230, 0.011434243611170717), (3231, 0.0), (3232, 0.03880041493684054), (3233, 0.027682113628356424), (3234, 0.010596356446344246), (3235, 0.01027609010348682), (3236, 0.0), (3237, 0.015981290735503948), (3238, 0.00850811223979532), (3239, 0.012283417996256), (3240, 0.02053350688714045), (3241, 0.00954460776399927), (3242, 0.010408730705901537), (3243, 0.00929455594386205), (3244, 0.00580718778982535), (3245, 0.02707463031654543), (3246, 0.015441974893622899), (3247, 0.01580125189702541), (3248, 0.07263603588298856), (3249, 0.04883971449349704), (3250, 0.0), (3251, 0.0), (3252, 0.008275612124044327), (3253, 0.014402886807638106), (3254, 0.02543302997238995), (3255, 0.029542458139051573), (3256, 0.0071189353982644725), (3257, 0.011827370929404158), (3258, 0.010575946716662562), (3259, 0.028473692527117744), (3260, 0.032496923086545726), (3261, 0.0), (3262, 0.011809727593282098), (3263, 0.019365062379427537), (3264, 0.016793413566756423), (3265, 0.006415575323410222), (3266, 0.0), (3267, 0.033410079587229295), (3268, 0.009382197590986652), (3269, 0.01072099455373592), (3270, 0.0), (3271, 0.010465857433307213), (3272, 0.0), (3273, 0.010892427747461401), (3274, 0.011019022049822889), (3275, 0.06253543933127335), (3276, 0.11911829440156724), (3277, 0.0), (3278, 0.008784260576653732), (3279, 0.0279736544512091), (3280, 0.05382001375047759), (3281, 0.0), (3282, 0.012356074272269094), (3283, 0.010039794621170165), (3284, 0.037152483439514175), (3285, 0.029478973180549033), (3286, 0.0), (3287, 0.0), (3288, 0.00621455313121616), (3289, 0.010100121089004035), (3290, 0.010141407077085949), (3291, 0.013042781872744737), (3292, 0.012908339908239735), (3293, 0.035212062616643745), (3294, 0.04430072623237117), (3295, 0.013534954432038119), (3296, 0.011119287871061345), (3297, 0.024719791237920473), (3298, 0.009245826750831286), (3299, 0.022620512532070484), (3300, 0.009241543453279313), (3301, 0.007669503979999845), (3302, 0.01187927471550265), (3303, 0.027116456374105875), (3304, 0.00870165873405367), (3305, 0.0), (3306, 0.04607675773163021), (3307, 0.011503846916529756), (3308, 0.011464803578695058), (3309, 0.006104529350110846), (3310, 0.0), (3311, 0.008624244871764648), (3312, 0.05136987914371281), (3313, 0.03426799009598288), (3314, 0.010154249864003295), (3315, 0.03947239701622175), (3316, 0.012167554517315037), (3317, 0.04434615995356353), (3318, 0.048983018217098606), (3319, 0.019473945187966107), (3320, 0.0), (3321, 0.0), (3322, 0.012728962235056571), (3323, 0.0), (3324, 0.0), (3325, 0.04582309608490363), (3326, 0.035005637693904634), (3327, 0.008753615412390033), (3328, 0.03395349082790803), (3329, 0.014876232548880635), (3330, 0.05167777928443214), (3331, 0.02275270963573351), (3332, 0.0), (3333, 0.0), (3334, 0.08769452113731717), (3335, 0.009916431928837779), (3336, 0.008873933859085343), (3337, 0.011339464169469671), (3338, 0.016300157325824315), (3339, 0.01540711951689352), (3340, 0.0), (3341, 0.00994600401868348), (3342, 0.025403842873428367), (3343, 0.0), (3344, 0.04438265802373957), (3345, 0.020346197685146873), (3346, 0.015570517280824817), (3347, 0.008061342207930035), (3348, 0.009548686414163919), (3349, 0.02857771278506837), (3350, 0.0), (3351, 0.0409504463510299), (3352, 0.02647434003344154), (3353, 0.010124467607038643), (3354, 0.012455868723522525), (3355, 0.01114843444761875), (3356, 0.01347072917569601), (3357, 0.011860157511350715), (3358, 0.012016694025604385), (3359, 0.011367570871508621), (3360, 0.05573451277228507), (3361, 0.016331533539516125), (3362, 0.04169617805055899), (3363, 0.011526642555363528), (3364, 0.011194519176388296), (3365, 0.006900178201240714), (3366, 0.0), (3367, 0.01718381727400602), (3368, 0.0), (3369, 0.009154755041823238), (3370, 0.053020292166410465), (3371, 0.0), (3372, 0.010412086709253573), (3373, 0.05319563936299344), (3374, 0.08100452853062001), (3375, 0.014392613594614169), (3376, 0.03679434143423507), (3377, 0.06847268529415228), (3378, 0.0), (3379, 0.009512336350069015), (3380, 0.0087416859088034), (3381, 0.009801047559169725), (3382, 0.03845954257048011), (3383, 0.0), (3384, 0.059096515663850255), (3385, 0.06844976740776625), (3386, 0.015672048030891225), (3387, 0.026006097502975247), (3388, 0.010262069470091832), (3389, 0.014457743294500454), (3390, 0.009453991691387633), (3391, 0.016301697370249914), (3392, 0.006606373542637912), (3393, 0.00835921781079463), (3394, 0.0), (3395, 0.0452843871957493), (3396, 0.011424061717568514), (3397, 0.0), (3398, 0.01793830700109999), (3399, 0.014969477285179018), (3400, 0.0), (3401, 0.0), (3402, 0.009399727725556766), (3403, 0.058409896059943706), (3404, 0.017045279185381103), (3405, 0.014798269552728682), (3406, 0.010344064950689952), (3407, 0.040542362377530575), (3408, 0.047747610866932924), (3409, 0.04241292322226143), (3410, 0.013119561619174866), (3411, 0.0), (3412, 0.009675389642932507), (3413, 0.011622342550348608), (3414, 0.011090494629895978), (3415, 0.0), (3416, 0.05007218545018508), (3417, 0.01020583187861207), (3418, 0.03353557123232927), (3419, 0.01114262720675109), (3420, 0.028009351687067557), (3421, 0.019286113583261724), (3422, 0.0), (3423, 0.018672476669476135), (3424, 0.0), (3425, 0.011319894773774337), (3426, 0.0221397759635924), (3427, 0.03888913900038845), (3428, 0.02411309922293203), (3429, 0.012227393582108729), (3430, 0.03841853271639775), (3431, 0.007977139208436778), (3432, 0.01739282099401979), (3433, 0.039680900009768864), (3434, 0.010424802513417646), (3435, 0.0274789340283388), (3436, 0.02791619542910228), (3437, 0.05554135136868821), (3438, 0.018990859929878808), (3439, 0.0), (3440, 0.020209005699610576), (3441, 0.009756670169737343), (3442, 0.0), (3443, 0.017495008634468484), (3444, 0.0), (3445, 0.009552681880718986), (3446, 0.03641577530475443), (3447, 0.033041355831546264), (3448, 0.021134763636608708), (3449, 0.010512897678446431), (3450, 0.11226361016021044), (3451, 0.019064126624514937), (3452, 0.02527673712119155), (3453, 0.014620093569455504), (3454, 0.0), (3455, 0.009113303334324273), (3456, 0.016603644107775588), (3457, 0.006607462591155154), (3458, 0.011221048253708836), (3459, 0.0), (3460, 0.02516891458876367), (3461, 0.0), (3462, 0.0560576306907593), (3463, 0.05578364148598068), (3464, 0.0281021600782983), (3465, 0.10284751065280044), (3466, 0.06829446461532912), (3467, 0.0), (3468, 0.018556980088765978), (3469, 0.0192108021297401), (3470, 0.04669784704566213), (3471, 0.03616955694181094), (3472, 0.0), (3473, 0.0), (3474, 0.02495825790227187), (3475, 0.0), (3476, 0.0), (3477, 0.00968246236504612), (3478, 0.009918494016030064), (3479, 0.012837001934556388), (3480, 0.06151546956158492), (3481, 0.0), (3482, 0.0), (3483, 0.06424112319222992), (3484, 0.014547306461427005), (3485, 0.0), (3486, 0.04912940436834501), (3487, 0.026340273373585188), (3488, 0.039494716374884456), (3489, 0.0), (3490, 0.0), (3491, 0.009612593658046576), (3492, 0.02680948937216356), (3493, 0.010197311560444991), (3494, 0.0), (3495, 0.015827121115656553), (3496, 0.010446139769510508), (3497, 0.010827863758603744), (3498, 0.055018943996163416), (3499, 0.027265037294721427), (3500, 0.009081345266630585), (3501, 0.028188399410551408), (3502, 0.02040939612138805), (3503, 0.009165151128017211), (3504, 0.053058142077632355), (3505, 0.0), (3506, 0.011269610030276316), (3507, 0.04618805422495345), (3508, 0.03935793971792087), (3509, 0.005571463077651159), (3510, 0.0), (3511, 0.04360185396208906), (3512, 0.014188398520059181), (3513, 0.017800254483501973), (3514, 0.02849524883670438), (3515, 0.006609024322703836), (3516, 0.028410661280192873), (3517, 0.009959594399064424), (3518, 0.04216897911857588), (3519, 0.0), (3520, 0.01784296875271461), (3521, 0.0339657627554239), (3522, 0.0), (3523, 0.014153659988724093), (3524, 0.018925890867119276), (3525, 0.0), (3526, 0.009980169905347716), (3527, 0.010019861786572846), (3528, 0.016044800017798712), (3529, 0.0), (3530, 0.0), (3531, 0.02630113859031933), (3532, 0.0), (3533, 0.0), (3534, 0.012277653215181641), (3535, 0.05185838678001064), (3536, 0.016949442694818316), (3537, 0.012164260000571568), (3538, 0.007891553516841765), (3539, 0.0), (3540, 0.011550268999663044), (3541, 0.022529495334190172), (3542, 0.009846306142649697), (3543, 0.0), (3544, 0.011944590368637657), (3545, 0.0), (3546, 0.0073266801896943665), (3547, 0.0), (3548, 0.008167928612836155), (3549, 0.0), (3550, 0.0), (3551, 0.009906014203815804), (3552, 0.051640634987068224), (3553, 0.05771713924601443), (3554, 0.0), (3555, 0.01712131207694836), (3556, 0.051215905727079826), (3557, 0.009531693072281529), (3558, 0.02003914600182564), (3559, 0.039909662744020497), (3560, 0.010876889385092242), (3561, 0.013396851479301175), (3562, 0.0), (3563, 0.004517370963091945), (3564, 0.009606102243011448), (3565, 0.00972367897434688), (3566, 0.005912935439857246), (3567, 0.0), (3568, 0.0), (3569, 0.008212537443750865), (3570, 0.02713346848082392), (3571, 0.027959339213106157), (3572, 0.028690036545991754), (3573, 0.024030813141988367), (3574, 0.025888634777740428), (3575, 0.007819187645478464), (3576, 0.017475954086589744), (3577, 0.011655962695048207), (3578, 0.0), (3579, 0.013343773138350402), (3580, 0.01447820791311929), (3581, 0.0), (3582, 0.04245409586296946), (3583, 0.01722440045826923), (3584, 0.018631723745362278), (3585, 0.0), (3586, 0.028287695095505442), (3587, 0.010782695978386426), (3588, 0.021728775427942614), (3589, 0.0), (3590, 0.010260635655715396), (3591, 0.0), (3592, 0.0), (3593, 0.01094540067049373), (3594, 0.0061829650233005285), (3595, 0.0), (3596, 0.016173401987248044), (3597, 0.05578703383739586), (3598, 0.005590196582425913), (3599, 0.016761265711609973), (3600, 0.0), (3601, 0.010381838925155363), (3602, 0.017539585953970413), (3603, 0.0), (3604, 0.019105519570609276), (3605, 0.03819321590903109), (3606, 0.01004971569625612), (3607, 0.0), (3608, 0.006476606940086688), (3609, 0.0), (3610, 0.0), (3611, 0.011255394189821693), (3612, 0.03580353080632451), (3613, 0.011688237064020616), (3614, 0.008909413680072547), (3615, 0.009344721858920085), (3616, 0.012194601516215105), (3617, 0.0), (3618, 0.029362634684874746), (3619, 0.015409407172689432), (3620, 0.011827945565150001), (3621, 0.011557957838388096), (3622, 0.0), (3623, 0.027522971873122797), (3624, 0.026884703434221623), (3625, 0.0), (3626, 0.007551084952628706), (3627, 0.009182851227176034), (3628, 0.0), (3629, 0.026527122006416513), (3630, 0.012663043258599519), (3631, 0.0), (3632, 0.006440043440615766), (3633, 0.0), (3634, 0.013549423281986401), (3635, 0.03591430951535934), (3636, 0.010218636802921078), (3637, 0.046926597343515467), (3638, 0.03379365004173564), (3639, 0.010989786302349255), (3640, 0.06048982969749438), (3641, 0.009059637057604895), (3642, 0.05835739535516181), (3643, 0.016380434276338722), (3644, 0.0), (3645, 0.02732168550680729), (3646, 0.009249456834270708), (3647, 0.00975985648334166), (3648, 0.006560073071974556), (3649, 0.0), (3650, 0.0), (3651, 0.01133115876754155), (3652, 0.0721621303225605), (3653, 0.028266115712843147), (3654, 0.010309368409176652), (3655, 0.05535578223812876), (3656, 0.039036037182592666), (3657, 0.008169839407557156), (3658, 0.022923554563077923), (3659, 0.04887904723862165), (3660, 0.05229328831781953), (3661, 0.03876701009902598), (3662, 0.0), (3663, 0.0), (3664, 0.017058100897151544), (3665, 0.027800959921979534), (3666, 0.02833197361256533), (3667, 0.01596461967841001), (3668, 0.008354843607805177), (3669, 0.00807799092793514), (3670, 0.05401730880201186), (3671, 0.0), (3672, 0.014031962873923472), (3673, 0.009698722785031148), (3674, 0.03805219500748522), (3675, 0.064392345724923), (3676, 0.0), (3677, 0.01057053307644994), (3678, 0.010313121972139332), (3679, 0.031026144104140525), (3680, 0.03093985611145294), (3681, 0.0), (3682, 0.0), (3683, 0.0), (3684, 0.05423192230812675), (3685, 0.0), (3686, 0.0), (3687, 0.012358250080794608), (3688, 0.024273161145531182), (3689, 0.016267772298910868), (3690, 0.0), (3691, 0.009441763589565166), (3692, 0.04395501048193388), (3693, 0.0), (3694, 0.05761092161396633), (3695, 0.0), (3696, 0.026776493646548737), (3697, 0.0), (3698, 0.0), (3699, 0.05565919121831833), (3700, 0.0), (3701, 0.03519253019440509), (3702, 0.0), (3703, 0.0), (3704, 0.029300253595438253), (3705, 0.02478707415328016), (3706, 0.009102202615600713), (3707, 0.010005720535140296), (3708, 0.05108751065241208), (3709, 0.0), (3710, 0.018914629221301594), (3711, 0.054415376883691136), (3712, 0.0), (3713, 0.04305596561431384), (3714, 0.010469577009346682), (3715, 0.02255414717890207), (3716, 0.0), (3717, 0.0), (3718, 0.0), (3719, 0.009682973266188834), (3720, 0.04042652439920732), (3721, 0.023296564467925503), (3722, 0.0), (3723, 0.016611426396807908), (3724, 0.0), (3725, 0.009056944256806594), (3726, 0.0), (3727, 0.027511731368444172), (3728, 0.06055713798618368), (3729, 0.011477535387131706), (3730, 0.0), (3731, 0.050467007151247203), (3732, 0.0), (3733, 0.015378323470685771), (3734, 0.025060559534498695), (3735, 0.0), (3736, 0.0), (3737, 0.011063343340885365), (3738, 0.0), (3739, 0.009966631047950782), (3740, 0.0), (3741, 0.05137462887624447), (3742, 0.008483113527377175), (3743, 0.0), (3744, 0.020383241767220662), (3745, 0.011485561560864844), (3746, 0.023795500814594077), (3747, 0.024181926422258124), (3748, 0.0055138320522957985), (3749, 0.010267434753434874), (3750, 0.012120502592992055), (3751, 0.03218759677744291), (3752, 0.00524442666585779), (3753, 0.042090943554187785), (3754, 0.011395554428430436), (3755, 0.008733988319843585), (3756, 0.0449694548042522), (3757, 0.010691590387717798), (3758, 0.0), (3759, 0.0), (3760, 0.0), (3761, 0.0), (3762, 0.012882756017878956), (3763, 0.011376062957818338), (3764, 0.0), (3765, 0.009583758987035729), (3766, 0.0644170072111304), (3767, 0.034186459332759905), (3768, 0.04743807327931634), (3769, 0.018134572956767677), (3770, 0.01036771594475748), (3771, 0.02969756073029457), (3772, 0.011187801053520165), (3773, 0.02160179819884623), (3774, 0.01922923799504199), (3775, 0.04188322564865629), (3776, 0.01509964877024444), (3777, 0.05747771116687176), (3778, 0.028365356236326696), (3779, 0.108353648272898), (3780, 0.029571084981827672), (3781, 0.010620362596366562), (3782, 0.018819213681491982), (3783, 0.0), (3784, 0.015237432810078423), (3785, 0.0), (3786, 0.0), (3787, 0.01859643300440731), (3788, 0.016607123281035335), (3789, 0.0), (3790, 0.0), (3791, 0.0), (3792, 0.009919964033641931), (3793, 0.05562322227155142), (3794, 0.04240519042120271), (3795, 0.008521549672657), (3796, 0.0), (3797, 0.03638279732744622), (3798, 0.0), (3799, 0.00904466445276332), (3800, 0.0), (3801, 0.060435825700181044), (3802, 0.018524673780305083), (3803, 0.0), (3804, 0.010913278883916924), (3805, 0.0), (3806, 0.015201229918966457), (3807, 0.053842960345928725), (3808, 0.0), (3809, 0.010051553508165056), (3810, 0.036144831368776414), (3811, 0.009306072084516009), (3812, 0.0), (3813, 0.010650153104675713), (3814, 0.041290417262952836), (3815, 0.018046931220916898), (3816, 0.0), (3817, 0.0), (3818, 0.0), (3819, 0.051635401412286924), (3820, 0.0), (3821, 0.013721818696766313), (3822, 0.017906878845296285), (3823, 0.0167004254758806), (3824, 0.01694276865183976), (3825, 0.0056740850769636956), (3826, 0.01541117443738678), (3827, 0.009298534542143808), (3828, 0.06077224797153717), (3829, 0.015064632264005225), (3830, 0.0), (3831, 0.0), (3832, 0.011910100861012718), (3833, 0.017979564710071966), (3834, 0.0), (3835, 0.027393718649311137), (3836, 0.0), (3837, 0.0), (3838, 0.0), (3839, 0.028541613155784754), (3840, 0.0), (3841, 0.024937647248175543), (3842, 0.012217798895873192), (3843, 0.0), (3844, 0.021738270611439858), (3845, 0.00991179883106328), (3846, 0.0), (3847, 0.0), (3848, 0.01255027594779001), (3849, 0.045750848527720794), (3850, 0.04228614304974648), (3851, 0.0), (3852, 0.037874671778384945), (3853, 0.030234270876344123), (3854, 0.09723382744765893), (3855, 0.008390542356921759), (3856, 0.0), (3857, 0.0276573854109185), (3858, 0.0), (3859, 0.0), (3860, 0.040676114697293306), (3861, 0.01328521972640996), (3862, 0.05635269728463027), (3863, 0.008920184482193857), (3864, 0.006055177485128693), (3865, 0.005521062087328357), (3866, 0.011178728077048153), (3867, 0.04555351337674126), (3868, 0.029500167351439146), (3869, 0.0), (3870, 0.0), (3871, 0.025925140962804585), (3872, 0.02330700654603948), (3873, 0.010258737607766185), (3874, 0.01210266652848403), (3875, 0.02350559147404483), (3876, 0.02551393941564506), (3877, 0.010882226798755484), (3878, 0.012994945064748834), (3879, 0.0), (3880, 0.03485347457691314), (3881, 0.016929085928129334), (3882, 0.010251345771277435), (3883, 0.061747527397932586), (3884, 0.01152227681202905), (3885, 0.0), (3886, 0.016529098669226208), (3887, 0.0), (3888, 0.03557489082382892), (3889, 0.010213576617863238), (3890, 0.009511187880901632), (3891, 0.021615624886598933), (3892, 0.01246602339257821), (3893, 0.010580486568431264), (3894, 0.008707447174786918), (3895, 0.021280498749352936), (3896, 0.0), (3897, 0.01844559976216417), (3898, 0.00932984116667028), (3899, 0.02232289736775515), (3900, 0.00914184496230244), (3901, 0.032591177028723446), (3902, 0.009888521556403138), (3903, 0.018424199093567288), (3904, 0.03304299101017497), (3905, 0.02881564200242569), (3906, 0.009759900722410416), (3907, 0.017733196033486637), (3908, 0.017544222791687793), (3909, 0.0059872342105649805), (3910, 0.02442341671673966), (3911, 0.011829784012250093), (3912, 0.0), (3913, 0.028640017224541656), (3914, 0.0), (3915, 0.010636056155840116), (3916, 0.02080700800675604), (3917, 0.009375063106711861), (3918, 0.0), (3919, 0.016280936085336636), (3920, 0.010010652758225248), (3921, 0.0), (3922, 0.012108417857197476), (3923, 0.018657144734343527), (3924, 0.03961001485929764), (3925, 0.014364207104534302), (3926, 0.006422526281389703), (3927, 0.025282141672830077), (3928, 0.008113311969086398), (3929, 0.0), (3930, 0.0), (3931, 0.0), (3932, 0.013578911077497676), (3933, 0.0), (3934, 0.019104257120347606), (3935, 0.011667762203794922), (3936, 0.0), (3937, 0.0), (3938, 0.019135306225709685), (3939, 0.013166088132349396), (3940, 0.005199645868531219), (3941, 0.03469683430708477), (3942, 0.021382385178544547), (3943, 0.0), (3944, 0.014392831999344179), (3945, 0.027986829061714846), (3946, 0.09940652174310863), (3947, 0.073325372373215), (3948, 0.0), (3949, 0.03695292005051229), (3950, 0.0), (3951, 0.018455089000243702), (3952, 0.011124410221219514), (3953, 0.008968349101296564), (3954, 0.015289205433914342), (3955, 0.03737815944797703), (3956, 0.033212934522678116), (3957, 0.027682368982531517), (3958, 0.012845733398507286), (3959, 0.07850507830155176), (3960, 0.029900390471503117), (3961, 0.07606321475064143), (3962, 0.01104511455719118), (3963, 0.022606709158323773), (3964, 0.0), (3965, 0.0), (3966, 0.01612540635217022), (3967, 0.010824828703089512), (3968, 0.0), (3969, 0.0), (3970, 0.016976571754155796), (3971, 0.0), (3972, 0.0), (3973, 0.048332880014804756), (3974, 0.06315454616055505), (3975, 0.022099163362143834), (3976, 0.015340193428023768), (3977, 0.0), (3978, 0.06417974472039539), (3979, 0.0), (3980, 0.0), (3981, 0.0), (3982, 0.0), (3983, 0.03799121368553916), (3984, 0.038747760260458494), (3985, 0.0), (3986, 0.008931615118132338), (3987, 0.010557711627402998), (3988, 0.0), (3989, 0.014384400701052713), (3990, 0.013314217412581661), (3991, 0.0), (3992, 0.04149471236811518), (3993, 0.04141444241032792), (3994, 0.0), (3995, 0.018337755279730295), (3996, 0.0), (3997, 0.01893996698139225), (3998, 0.0059736178731521926), (3999, 0.028737285401950235), (4000, 0.05412680277911148), (4001, 0.006369231033738644), (4002, 0.011140047856146418), (4003, 0.0), (4004, 0.07019697476814073), (4005, 0.05656390909572107), (4006, 0.0), (4007, 0.046991068998784455), (4008, 0.00665178674333737), (4009, 0.005730487624240269), (4010, 0.0), (4011, 0.009103145491430941), (4012, 0.01674249458360347), (4013, 0.030136540996218392), (4014, 0.009744262413137085), (4015, 0.007988592889890211), (4016, 0.02764770975324264), (4017, 0.013410570667180741), (4018, 0.0), (4019, 0.01281973067438756), (4020, 0.009653584315509903), (4021, 0.0), (4022, 0.0), (4023, 0.049011366474706344), (4024, 0.01002772390254201), (4025, 0.01665866342650873), (4026, 0.0), (4027, 0.0), (4028, 0.017924982547540734), (4029, 0.0), (4030, 0.011590608072017852), (4031, 0.0), (4032, 0.019037537543498694), (4033, 0.0387568245791131), (4034, 0.0), (4035, 0.028197496601302937), (4036, 0.009392829389940646), (4037, 0.0), (4038, 0.029330247242441307), (4039, 0.017393458318419704), (4040, 0.0), (4041, 0.0), (4042, 0.0109443328489517), (4043, 0.01955766276372819), (4044, 0.01602970111942338), (4045, 0.02870115835068373), (4046, 0.029066333271304822), (4047, 0.022617572694547793), (4048, 0.04052983452244613), (4049, 0.010004259611851297), (4050, 0.035872000506096346), (4051, 0.010837414316502337), (4052, 0.017148948770346117), (4053, 0.04729109767979921), (4054, 0.010116501811367752), (4055, 0.005650799300905016), (4056, 0.009422393831515654), (4057, 0.005590332494120383), (4058, 0.0), (4059, 0.009280481051825372), (4060, 0.0365448387481245), (4061, 0.0069119724370874025), (4062, 0.06651926213383653), (4063, 0.0), (4064, 0.03494982026083212), (4065, 0.0), (4066, 0.00844800697128528), (4067, 0.0), (4068, 0.054916219731726904), (4069, 0.009378588519887862), (4070, 0.0), (4071, 0.01652970365687738), (4072, 0.0), (4073, 0.0), (4074, 0.00885338668030143), (4075, 0.011555114072983624), (4076, 0.018497435992056374), (4077, 0.00671445952471703), (4078, 0.0), (4079, 0.01016637981714638), (4080, 0.008827595262396192), (4081, 0.025062974787776728), (4082, 0.013674580756576725), (4083, 0.01035095588663645), (4084, 0.0), (4085, 0.00931833007448242), (4086, 0.0), (4087, 0.010208941339705074), (4088, 0.05904412752670253), (4089, 0.028856518077562864), (4090, 0.019023302959190903), (4091, 0.01865597281897015), (4092, 0.03128908615544509), (4093, 0.02766397404156143), (4094, 0.028610648803784722), (4095, 0.046324528970193984), (4096, 0.060116466690844333), (4097, 0.0), (4098, 0.028173902436969992), (4099, 0.006035190399951731), (4100, 0.0), (4101, 0.010270271337502395), (4102, 0.012442896620394509), (4103, 0.017727610822628834), (4104, 0.04966514338579529), (4105, 0.03050302502029213), (4106, 0.02160238843160232), (4107, 0.012219404615542384), (4108, 0.0), (4109, 0.0), (4110, 0.005386637630732318), (4111, 0.01054023980466821), (4112, 0.0), (4113, 0.010626192042505499), (4114, 0.0), (4115, 0.0), (4116, 0.11266572013130419), (4117, 0.011075985555736209), (4118, 0.028587333007188194), (4119, 0.019741495136646126), (4120, 0.01964335108481009), (4121, 0.0500207668898939), (4122, 0.03345783763487147), (4123, 0.09332843043984028), (4124, 0.05174196097238311), (4125, 0.0), (4126, 0.01152383502129436), (4127, 0.0), (4128, 0.020390682199423762), (4129, 0.009603017204335207), (4130, 0.01058635364484727), (4131, 0.0), (4132, 0.01059667489739245), (4133, 0.02966782498670954), (4134, 0.03234388101249817), (4135, 0.00943471605361509), (4136, 0.009905374427088385), (4137, 0.06508435769139301), (4138, 0.010846432486638559), (4139, 0.00924300306500938), (4140, 0.010752622317462272), (4141, 0.05522977678302951), (4142, 0.012260315866151018), (4143, 0.008286956609060925), (4144, 0.0), (4145, 0.010356547619933158), (4146, 0.0), (4147, 0.011948145341067588), (4148, 0.04448033541081818), (4149, 0.018206965486989163), (4150, 0.0), (4151, 0.012543811334365778), (4152, 0.03859761946017823), (4153, 0.0), (4154, 0.02420013710548464), (4155, 0.009479135585416291), (4156, 0.025294860027302742), (4157, 0.0), (4158, 0.02074757615644145), (4159, 0.0), (4160, 0.034010846284773084), (4161, 0.010663029511794469), (4162, 0.02064014877253687), (4163, 0.03203120866365481), (4164, 0.041239339697275945), (4165, 0.051336994798299646), (4166, 0.0), (4167, 0.0), (4168, 0.0), (4169, 0.010559115847671434), (4170, 0.0), (4171, 0.006835216627194898), (4172, 0.01307000518846756), (4173, 0.0), (4174, 0.009089827037203974), (4175, 0.03611946356899155), (4176, 0.0392745814522185), (4177, 0.02680514635548594), (4178, 0.0571398826312949), (4179, 0.0), (4180, 0.0), (4181, 0.0), (4182, 0.012378276834665544), (4183, 0.00953018295002307), (4184, 0.0138687272010648), (4185, 0.0), (4186, 0.0), (4187, 0.04194834510845422), (4188, 0.0), (4189, 0.061039331570433356), (4190, 0.0), (4191, 0.0), (4192, 0.0349016769672602), (4193, 0.015924045988756932), (4194, 0.0), (4195, 0.03051579272766472), (4196, 0.006603325768651638), (4197, 0.010002785140343272), (4198, 0.0), (4199, 0.0), (4200, 0.008178759441514057), (4201, 0.0), (4202, 0.012736991805626608), (4203, 0.049751322562709525), (4204, 0.0), (4205, 0.014330445421928902), (4206, 0.009375575271732906), (4207, 0.0), (4208, 0.0223965092572455), (4209, 0.04198276959090334), (4210, 0.006159365042146146), (4211, 0.017329788318513298), (4212, 0.0), (4213, 0.009385332528373164), (4214, 0.0), (4215, 0.0), (4216, 0.043554687982604076), (4217, 0.005995656266927643), (4218, 0.0), (4219, 0.022328201723683546), (4220, 0.008758275626343086), (4221, 0.013021326640415942), (4222, 0.01288770788204505), (4223, 0.0), (4224, 0.0), (4225, 0.010407101290233206), (4226, 0.00688076159039266), (4227, 0.04863316185976559), (4228, 0.009393186492829659), (4229, 0.0), (4230, 0.012673329692141064), (4231, 0.058001588221218335), (4232, 0.032415728324844635), (4233, 0.02847001345560385), (4234, 0.0), (4235, 0.041370634858682344), (4236, 0.005866799071726428), (4237, 0.0), (4238, 0.0), (4239, 0.0), (4240, 0.018262211532938097), (4241, 0.0), (4242, 0.08260333938010869), (4243, 0.011129218456557899), (4244, 0.06139548203834357), (4245, 0.010649380212075753), (4246, 0.047607977554923755), (4247, 0.008571042552954418), (4248, 0.017726480793366542), (4249, 0.02835147128483565), (4250, 0.0), (4251, 0.017962857521632247), (4252, 0.05862351383108007), (4253, 0.0), (4254, 0.00926962397265903), (4255, 0.03310800388635278), (4256, 0.0), (4257, 0.015320933511476648), (4258, 0.0), (4259, 0.01075876191344911), (4260, 0.0), (4261, 0.020067034566573806), (4262, 0.010293815513854625), (4263, 0.010412593741459253), (4264, 0.01682485545228933), (4265, 0.04752521344317738), (4266, 0.009550194912035454), (4267, 0.011373365161838414), (4268, 0.07375523536771897), (4269, 0.010135052936643305), (4270, 0.0), (4271, 0.0), (4272, 0.028725904084230987), (4273, 0.010147635313349111), (4274, 0.016389736104340847), (4275, 0.01826998594618977), (4276, 0.0), (4277, 0.00909123582329949), (4278, 0.0), (4279, 0.0), (4280, 0.011734137911515728), (4281, 0.03796284759390697), (4282, 0.024391994103118257), (4283, 0.04464290371198233), (4284, 0.026763249450594773), (4285, 0.019882268236429804), (4286, 0.01020557634517303), (4287, 0.009825875331677027), (4288, 0.06809120851427906), (4289, 0.028559447902845616), (4290, 0.016055984316259396), (4291, 0.0), (4292, 0.016294241575442528), (4293, 0.040583810157411734), (4294, 0.024197772287434402), (4295, 0.010983951971352834), (4296, 0.008648477695072702), (4297, 0.0), (4298, 0.01171878096565419), (4299, 0.026635176126181444), (4300, 0.0), (4301, 0.0072440462073345615), (4302, 0.0), (4303, 0.005907843141101899), (4304, 0.008867315868641859), (4305, 0.0), (4306, 0.012046421478091937), (4307, 0.020143402983895334), (4308, 0.010791273363533378), (4309, 0.026833537680073665), (4310, 0.017846196074184095), (4311, 0.00798477994737123), (4312, 0.018504707306844594), (4313, 0.0), (4314, 0.014283630951407252), (4315, 0.0), (4316, 0.0), (4317, 0.0), (4318, 0.010475428573134576), (4319, 0.0), (4320, 0.009793313319850984), (4321, 0.023398411822572584), (4322, 0.015868597873207674), (4323, 0.0), (4324, 0.0), (4325, 0.04136703286049023), (4326, 0.009099767386371384), (4327, 0.0), (4328, 0.016429352503332207), (4329, 0.0), (4330, 0.00979751647675217), (4331, 0.020262087888844652), (4332, 0.0), (4333, 0.010912949054691909), (4334, 0.009939644568154288), (4335, 0.01570599867025991), (4336, 0.01490770030857167), (4337, 0.02653804552276297), (4338, 0.0), (4339, 0.01605468037638208), (4340, 0.010115783117624738), (4341, 0.0), (4342, 0.005828809724812344), (4343, 0.00878135445627594), (4344, 0.02865038456168546), (4345, 0.008844051719292825), (4346, 0.0), (4347, 0.0), (4348, 0.009127369968138503), (4349, 0.024513761940598292), (4350, 0.008872932693941725), (4351, 0.006456772820462107), (4352, 0.0), (4353, 0.0), (4354, 0.032703488341289375), (4355, 0.010560326337396644), (4356, 0.009182879255690711), (4357, 0.009530809241857525), (4358, 0.0), (4359, 0.009061822018799185), (4360, 0.017806942352553333), (4361, 0.010315448226987973), (4362, 0.055933339596146076), (4363, 0.010383782697352593), (4364, 0.0), (4365, 0.015303473111857969), (4366, 0.02826449905382121), (4367, 0.006216199109463665), (4368, 0.010819778519765068), (4369, 0.011242668311034806), (4370, 0.0), (4371, 0.017394228240668698), (4372, 0.0), (4373, 0.004753599223486513), (4374, 0.051899902797053095), (4375, 0.10249214165100841), (4376, 0.018263942237409212), (4377, 0.0178267952793133), (4378, 0.07609872330275927), (4379, 0.054909269049836715), (4380, 0.05809268716259572), (4381, 0.009525955417339945), (4382, 0.026963122372556596), (4383, 0.017529828705621926), (4384, 0.018846933534566464), (4385, 0.0055511121670638805), (4386, 0.008563785844531926), (4387, 0.05325022118336682), (4388, 0.006591977186539181), (4389, 0.07185279886741791), (4390, 0.02825131506223439), (4391, 0.00973344451560335), (4392, 0.018445313348624516), (4393, 0.0), (4394, 0.009560733879777409), (4395, 0.02712393919810265), (4396, 0.04414805187501919), (4397, 0.011027111965426543), (4398, 0.06567700054275025), (4399, 0.023568014683834876), (4400, 0.012154543017474812), (4401, 0.010547731482228255), (4402, 0.04718991637929522), (4403, 0.08465691957788443), (4404, 0.0), (4405, 0.0), (4406, 0.0), (4407, 0.0129337431432018), (4408, 0.0), (4409, 0.00986030182067698), (4410, 0.0), (4411, 0.008443060342226893), (4412, 0.031722965137768), (4413, 0.0), (4414, 0.0), (4415, 0.0), (4416, 0.01165551095061038), (4417, 0.0), (4418, 0.012396193372988848), (4419, 0.009948379514403189), (4420, 0.010179615800866989), (4421, 0.0), (4422, 0.01007363647484395), (4423, 0.012823630577614325), (4424, 0.0), (4425, 0.0), (4426, 0.015308114249724926), (4427, 0.009907435552856763), (4428, 0.009328496725239686), (4429, 0.0084194019721868), (4430, 0.028750978914863952), (4431, 0.029617320775368904), (4432, 0.024195640849340103), (4433, 0.0), (4434, 0.0), (4435, 0.03700387528201741), (4436, 0.054664607178622995), (4437, 0.0), (4438, 0.0170863696927432), (4439, 0.0), (4440, 0.041991714240553535), (4441, 0.016865963653841378), (4442, 0.03553184287260183), (4443, 0.058860193365479443), (4444, 0.03553435155946538), (4445, 0.007311827764974805), (4446, 0.010494230056963504), (4447, 0.0), (4448, 0.009909503473401214), (4449, 0.0), (4450, 0.05558152888457393), (4451, 0.0), (4452, 0.03607216886880749), (4453, 0.0), (4454, 0.0), (4455, 0.0), (4456, 0.04316146577690708), (4457, 0.0), (4458, 0.01163844560807149), (4459, 0.0061205387519212), (4460, 0.0), (4461, 0.009551433906967662), (4462, 0.020059084295749048), (4463, 0.0), (4464, 0.02210364616677282), (4465, 0.05735594867319345), (4466, 0.03286176182359637), (4467, 0.0063888851515660665), (4468, 0.015384998057369339), (4469, 0.04599156632695806), (4470, 0.028580214369471328), (4471, 0.010102123601615616), (4472, 0.009336136503079061), (4473, 0.008454211498008827), (4474, 0.05728954498699067), (4475, 0.049273933842950896), (4476, 0.008497140572961677), (4477, 0.04266447277675407), (4478, 0.0), (4479, 0.009061870037546861), (4480, 0.0), (4481, 0.042757835961401494), (4482, 0.014375463148080221), (4483, 0.0), (4484, 0.013044481483646606), (4485, 0.0), (4486, 0.03451354985119563), (4487, 0.009297410918807536), (4488, 0.05007671756871535), (4489, 0.010235268972407558), (4490, 0.031156652224777055), (4491, 0.0), (4492, 0.018429786009959155), (4493, 0.0), (4494, 0.030534289296111173), (4495, 0.010617003669319607), (4496, 0.0), (4497, 0.010379835715062657), (4498, 0.0), (4499, 0.0), (4500, 0.0), (4501, 0.009781636842962625), (4502, 0.032563992761870386), (4503, 0.0870696670212176), (4504, 0.02355221871303182), (4505, 0.010493187562368196), (4506, 0.0), (4507, 0.011289403657872097), (4508, 0.0), (4509, 0.0), (4510, 0.04765784919351698), (4511, 0.015633996768784804), (4512, 0.05018578067460723), (4513, 0.01475858305557757), (4514, 0.021177096793660213), (4515, 0.019968223605655297), (4516, 0.010791455792089755), (4517, 0.027498672199527233), (4518, 0.021285701340041437), (4519, 0.0), (4520, 0.009599957486811668), (4521, 0.011564368119250523), (4522, 0.029959534212383072), (4523, 0.025483243597571037), (4524, 0.028994499119557347), (4525, 0.0), (4526, 0.0), (4527, 0.020227809147540063), (4528, 0.010497961230696854), (4529, 0.013252808945214469), (4530, 0.009647711018840531), (4531, 0.06013206711009752), (4532, 0.0), (4533, 0.05151999388649284), (4534, 0.0343047806446039), (4535, 0.010564692588156711), (4536, 0.009238237732776738), (4537, 0.022506986453223687), (4538, 0.027650147082998743), (4539, 0.0), (4540, 0.010650246537842334), (4541, 0.0), (4542, 0.0), (4543, 0.04308742122183806), (4544, 0.012343346354402584), (4545, 0.010725370372165902), (4546, 0.03398570692596546), (4547, 0.0), (4548, 0.038236451674266966), (4549, 0.0), (4550, 0.009444893970702802), (4551, 0.040077720342485995), (4552, 0.01791617767344514), (4553, 0.03929029570876056), (4554, 0.06992146951003825), (4555, 0.013699615435692257), (4556, 0.0), (4557, 0.027757462835461346), (4558, 0.0), (4559, 0.0), (4560, 0.0), (4561, 0.0), (4562, 0.0), (4563, 0.00992519575248123), (4564, 0.006067511877933203), (4565, 0.0), (4566, 0.010147974540464863), (4567, 0.009483048870793992), (4568, 0.0), (4569, 0.0), (4570, 0.0), (4571, 0.01543204060427992), (4572, 0.012146195238549321), (4573, 0.009541881523960682), (4574, 0.010613171275237077), (4575, 0.010369823102599493), (4576, 0.03315724945456519), (4577, 0.0), (4578, 0.0), (4579, 0.02984444616268321), (4580, 0.0), (4581, 0.02603378898094977), (4582, 0.015874747217118294), (4583, 0.014999944040418729), (4584, 0.011641302375717338), (4585, 0.01662343360320993), (4586, 0.018128796219505333), (4587, 0.017146902509174614), (4588, 0.03791882297431656), (4589, 0.01129143311134052), (4590, 0.04611846353949388), (4591, 0.02516341741836449), (4592, 0.0), (4593, 0.0295806926063787), (4594, 0.06658731653384063), (4595, 0.019098604857760295), (4596, 0.011318181006739573), (4597, 0.0), (4598, 0.007794357002954615), (4599, 0.0), (4600, 0.0), (4601, 0.025047921549802604), (4602, 0.039360967212697204), (4603, 0.014665777589449376), (4604, 0.009843333357504296), (4605, 0.017906236450213973), (4606, 0.01235809048218523), (4607, 0.01390552504112848), (4608, 0.027595179145312787), (4609, 0.0), (4610, 0.03652181941982545), (4611, 0.012799186919490758), (4612, 0.03430978208283726), (4613, 0.0), (4614, 0.10760235397894574), (4615, 0.0), (4616, 0.009168075041135008), (4617, 0.05010019048073711), (4618, 0.0), (4619, 0.0404331872560726), (4620, 0.009068870767634794), (4621, 0.0184758772032039), (4622, 0.0), (4623, 0.044221632616904), (4624, 0.028342670107240835), (4625, 0.01018224401771052), (4626, 0.007713167493994019), (4627, 0.021320222478128138), (4628, 0.0), (4629, 0.027005694225775582), (4630, 0.019558207086944845), (4631, 0.0), (4632, 0.011509962222201518), (4633, 0.01154374782509872), (4634, 0.009260230392686858), (4635, 0.0), (4636, 0.008203982256899034), (4637, 0.06258603712594128), (4638, 0.00883933304923431), (4639, 0.018147449838810482), (4640, 0.02440064876425932), (4641, 0.04095151473255422), (4642, 0.020404532363936783), (4643, 0.009718020614015544), (4644, 0.0), (4645, 0.02725627857636134), (4646, 0.02200057717251989), (4647, 0.0), (4648, 0.0), (4649, 0.014910583379450337), (4650, 0.01132600600516204), (4651, 0.0), (4652, 0.012395308511619107), (4653, 0.021627496163411596), (4654, 0.0), (4655, 0.0), (4656, 0.029268070018072655), (4657, 0.01053506633244054), (4658, 0.05860029305407603), (4659, 0.02291972584496831), (4660, 0.03260321044015251), (4661, 0.02449389816573342), (4662, 0.0), (4663, 0.05130610458064712), (4664, 0.024428786321792257), (4665, 0.017577850801200626), (4666, 0.02382185056815952), (4667, 0.0), (4668, 0.034283205060277135), (4669, 0.05915314939046733), (4670, 0.02591702583986258), (4671, 0.0), (4672, 0.0), (4673, 0.05250835683111177), (4674, 0.022165945263002917), (4675, 0.0), (4676, 0.0), (4677, 0.027235770240553486), (4678, 0.01836839478301931), (4679, 0.05984218842493779), (4680, 0.010598187189285858), (4681, 0.0), (4682, 0.046329333382982875), (4683, 0.0), (4684, 0.0604504849712224), (4685, 0.016045527963406837), (4686, 0.009978409971708003), (4687, 0.009700101762066364), (4688, 0.0), (4689, 0.05418373718847243), (4690, 0.0), (4691, 0.023421251460259876), (4692, 0.012351047113034109), (4693, 0.009636882901702315), (4694, 0.011634703594273772), (4695, 0.02525604717821059), (4696, 0.012953776349250587), (4697, 0.016123607783673662), (4698, 0.020920823416465395), (4699, 0.029969226649377293), (4700, 0.0), (4701, 0.048355137685307054), (4702, 0.0), (4703, 0.04595302374638437), (4704, 0.012662050192842018), (4705, 0.013880599545967775), (4706, 0.010928970986193656), (4707, 0.0306592758135415), (4708, 0.017447225272730793), (4709, 0.059333165725129644), (4710, 0.03481681251751152), (4711, 0.0), (4712, 0.008868079685039028), (4713, 0.010977908703788368), (4714, 0.0), (4715, 0.027812007823980217), (4716, 0.0), (4717, 0.011226827875742203), (4718, 0.010800010339358984), (4719, 0.01794691724126364), (4720, 0.0), (4721, 0.04934459451543133), (4722, 0.054429769056287144), (4723, 0.011561560454646059), (4724, 0.09436809498767282), (4725, 0.0), (4726, 0.005088273327522723), (4727, 0.05167226190512842), (4728, 0.0), (4729, 0.009530417510775381), (4730, 0.0), (4731, 0.04810608528148518), (4732, 0.01080924489771308), (4733, 0.022734884340625143), (4734, 0.01063804529612019), (4735, 0.06395217193010036), (4736, 0.0), (4737, 0.0), (4738, 0.006344496352694727), (4739, 0.0819703472629659), (4740, 0.0), (4741, 0.0), (4742, 0.0), (4743, 0.009602445767730623), (4744, 0.008021311467505822), (4745, 0.0), (4746, 0.019825924816744975), (4747, 0.05093400600334906), (4748, 0.014167615197665118), (4749, 0.01326487405972145), (4750, 0.0), (4751, 0.0), (4752, 0.006877605222480642), (4753, 0.01129508513089055), (4754, 0.0), (4755, 0.0), (4756, 0.010088571031030601), (4757, 0.02909730091389954), (4758, 0.0), (4759, 0.0)]\n"
          ]
        }
      ]
    },
    {
      "cell_type": "code",
      "source": [
        "len(Recommendation_Score)"
      ],
      "metadata": {
        "colab": {
          "base_uri": "https://localhost:8080/"
        },
        "id": "OwegRNFblWVc",
        "outputId": "10a05e7d-b430-4885-ae79-bae339aac811"
      },
      "execution_count": null,
      "outputs": [
        {
          "output_type": "execute_result",
          "data": {
            "text/plain": [
              "4760"
            ]
          },
          "metadata": {},
          "execution_count": 34
        }
      ]
    },
    {
      "cell_type": "markdown",
      "source": [
        "***Get all Movies Sort Based on Recommendation Score wrt Fvourite Movie ***"
      ],
      "metadata": {
        "id": "j-L_l6yVlZIW"
      }
    },
    {
      "cell_type": "code",
      "source": [
        "#sorting the movies base on their similarity score\n",
        "\n",
        "Sorted_Similar_Movies = sorted(Recommendation_Score , key=lambda x:x[1] , reverse=True )\n",
        "print(Sorted_Similar_Movies)"
      ],
      "metadata": {
        "colab": {
          "base_uri": "https://localhost:8080/"
        },
        "id": "XVbIXjkOmeHC",
        "outputId": "97417130-bdf4-4dfe-d8b1-64268fda1a62"
      },
      "execution_count": null,
      "outputs": [
        {
          "output_type": "stream",
          "name": "stdout",
          "text": [
            "[(2692, 1.0000000000000002), (2903, 0.1400973946864387), (3276, 0.11911829440156724), (4116, 0.11266572013130419), (3450, 0.11226361016021044), (3779, 0.108353648272898), (4614, 0.10760235397894574), (62, 0.10605676052799777), (1383, 0.1048712873592987), (675, 0.10337670439452548), (3465, 0.10284751065280044), (4375, 0.10249214165100841), (2112, 0.10205649867220787), (628, 0.10180758829074331), (2558, 0.10101038079725382), (3946, 0.09940652174310863), (3854, 0.09723382744765893), (4724, 0.09436809498767282), (1148, 0.09374122405171785), (4123, 0.09332843043984028), (254, 0.09174499776709949), (1647, 0.09105533550436626), (2214, 0.0904656403777603), (3334, 0.08769452113731717), (4503, 0.0870696670212176), (2318, 0.08532025026738357), (137, 0.08518820924013001), (4403, 0.08465691957788443), (673, 0.08446515024613442), (45, 0.083942896529762), (1970, 0.08260507933561541), (4242, 0.08260333938010869), (4739, 0.0819703472629659), (3154, 0.08149096561145025), (3374, 0.08100452853062001), (1994, 0.08100333400188994), (904, 0.08096685616026562), (110, 0.08074072193181794), (210, 0.08030193626661641), (1248, 0.08009925968085974), (282, 0.07982524074833373), (1070, 0.07923954247059091), (1977, 0.07895259944440214), (590, 0.0786580752917293), (2295, 0.07852242133967571), (3959, 0.07850507830155176), (682, 0.07819786700938537), (2154, 0.07679354084491363), (89, 0.07631397679357846), (4378, 0.07609872330275927), (3961, 0.07606321475064143), (479, 0.07568351825193362), (2768, 0.07458719877401646), (1292, 0.07429489926616134), (4268, 0.07375523536771897), (3947, 0.073325372373215), (1506, 0.07330588886889768), (166, 0.07308591169101616), (1997, 0.07303207037786422), (2037, 0.07285325421011443), (3248, 0.07263603588298856), (1341, 0.07246899481396805), (1369, 0.07225912905969076), (3652, 0.0721621303225605), (4389, 0.07185279886741791), (2908, 0.07148189310254133), (109, 0.0712179751321758), (947, 0.07119917804351927), (360, 0.07088446116048551), (68, 0.07077955350318751), (2026, 0.0705335344510862), (2538, 0.07053329929137506), (424, 0.07029934337187324), (4004, 0.07019697476814073), (761, 0.07013171604315667), (1821, 0.07003680394463038), (4554, 0.06992146951003825), (84, 0.06978749213299443), (1024, 0.06970506228654369), (2649, 0.06959725110542678), (3053, 0.06957956787213553), (1134, 0.06947779977425754), (1030, 0.06926177594223451), (2932, 0.06883693583811765), (3377, 0.06847268529415228), (3385, 0.06844976740776625), (3466, 0.06829446461532912), (2645, 0.06825828368699449), (172, 0.06821215371613337), (2321, 0.06813094382024755), (4288, 0.06809120851427906), (1982, 0.06718209005743495), (2638, 0.0671510122163982), (2795, 0.06710408042782146), (408, 0.06709311167847057), (2210, 0.0669014964805192), (2191, 0.0668796260815035), (112, 0.06679787830911642), (4594, 0.06658731653384063), (4062, 0.06651926213383653), (2040, 0.06622701027093486), (2621, 0.06611762749901003), (2374, 0.06577119751829386), (4398, 0.06567700054275025), (2944, 0.0656347040520957), (2276, 0.06555384237808004), (519, 0.06523028946774057), (4137, 0.06508435769139301), (1527, 0.06490507242904645), (1015, 0.06490426952015996), (2096, 0.06464819064090026), (1671, 0.06450339669408833), (1132, 0.06442816251338022), (3766, 0.0644170072111304), (3675, 0.064392345724923), (637, 0.06438082803774745), (3483, 0.06424112319222992), (1141, 0.06421796772908234), (3978, 0.06417974472039539), (1886, 0.06414953280263276), (4735, 0.06395217193010036), (1064, 0.06375394447447524), (2406, 0.06351143345522178), (138, 0.06350662276342459), (1257, 0.06327988964950171), (3974, 0.06315454616055505), (126, 0.06313642198793477), (3019, 0.06297948609189681), (1063, 0.06278074549125795), (860, 0.06270109640256472), (4637, 0.06258603712594128), (3275, 0.06253543933127335), (1021, 0.0625019568668514), (1236, 0.062492567859514465), (1275, 0.062458025358248584), (2751, 0.06235661747241583), (2985, 0.06218549049597003), (1162, 0.06207433229750456), (1629, 0.06206024153420283), (2668, 0.06198891264072721), (530, 0.061900635504150814), (876, 0.06182540053059868), (3883, 0.061747527397932586), (937, 0.061724929273475955), (976, 0.061661452986859905), (1243, 0.06160285446028706), (2212, 0.061571630197160374), (124, 0.06154966860539711), (1393, 0.061527212574180756), (3480, 0.06151546956158492), (2023, 0.06149488690295909), (4244, 0.06139548203834357), (3043, 0.06134791684435757), (334, 0.06134357426101169), (1942, 0.06122802395511415), (4189, 0.061039331570433356), (2630, 0.06100059993981757), (3012, 0.060792262466442995), (3828, 0.06077224797153717), (2487, 0.06075100151346378), (3728, 0.06055713798618368), (3640, 0.06048982969749438), (4684, 0.0604504849712224), (3045, 0.06044260823778074), (3801, 0.060435825700181044), (1068, 0.0603821032672202), (533, 0.06036419668428382), (2174, 0.060336203779802366), (2971, 0.060299703589242706), (888, 0.06013541215798859), (4531, 0.06013206711009752), (4096, 0.060116466690844333), (1985, 0.060086147938021146), (1678, 0.06003239530690643), (458, 0.059920947102092344), (4679, 0.05984218842493779), (1385, 0.05979661460800062), (877, 0.05974245664923611), (1184, 0.05969782070929971), (1809, 0.05963770691069316), (450, 0.059571380573371614), (4709, 0.059333165725129644), (701, 0.0592489707545294), (48, 0.059227622620413284), (4669, 0.05915314939046733), (2275, 0.05913425917513156), (3384, 0.059096515663850255), (481, 0.05906967081062521), (643, 0.0590457721692359), (4088, 0.05904412752670253), (2808, 0.059043135380744786), (4443, 0.058860193365479443), (1173, 0.058850500834143324), (1716, 0.05877116703637587), (4252, 0.05862351383108007), (4658, 0.05860029305407603), (1572, 0.05855862646185902), (874, 0.05854918101478265), (2996, 0.058491511491436096), (3403, 0.058409896059943706), (3642, 0.05835739535516181), (2229, 0.05835667754852364), (1118, 0.05830419695913874), (145, 0.05818373635269746), (21, 0.05813814921467712), (896, 0.058103033320231146), (4380, 0.05809268716259572), (4231, 0.058001588221218335), (870, 0.05792254878972627), (864, 0.057841293267810234), (1017, 0.057807087380144104), (3086, 0.05774286162233306), (3553, 0.05771713924601443), (1325, 0.057690709440194485), (108, 0.05767578136458082), (3694, 0.05761092161396633), (2196, 0.057525634482716956), (3777, 0.05747771116687176), (2791, 0.05741612845244776), (1314, 0.057407817024201196), (4465, 0.05735594867319345), (1675, 0.05734426695672331), (4474, 0.05728954498699067), (2254, 0.05716901249029831), (1687, 0.05715017260275103), (4178, 0.0571398826312949), (1119, 0.05712549826201126), (1853, 0.05706081341890981), (502, 0.0569782250501201), (942, 0.05676234241646123), (1937, 0.0567593274323652), (2522, 0.05675412491359507), (543, 0.0567005051696839), (622, 0.056659239752893095), (51, 0.056631700200367195), (463, 0.05657755344020263), (4005, 0.05656390909572107), (447, 0.05653804443295993), (2417, 0.05650186838371328), (3862, 0.05635269728463027), (584, 0.05634932286393436), (2919, 0.05626293519266419), (2053, 0.05623020289771735), (292, 0.05616643207988813), (2012, 0.056149149996418395), (3095, 0.056118819099112344), (2334, 0.0560672707808163), (3462, 0.0560576306907593), (1102, 0.05597191403065663), (429, 0.05595093571686906), (4362, 0.055933339596146076), (879, 0.05585476768439373), (669, 0.055800831184665334), (3597, 0.05578703383739586), (3463, 0.05578364148598068), (3360, 0.05573451277228507), (199, 0.055700657735035984), (2784, 0.0556964734570822), (1302, 0.0556597199942327), (3699, 0.05565919121831833), (44, 0.05563610017043934), (1983, 0.05563169768489531), (3793, 0.05562322227155142), (4450, 0.05558152888457393), (3437, 0.05554135136868821), (227, 0.05543943198520572), (629, 0.05542260764762273), (3655, 0.05535578223812876), (4141, 0.05522977678302951), (213, 0.05519111926980826), (3127, 0.05518682637527062), (1740, 0.055127346472092206), (2716, 0.05504369725438243), (3498, 0.055018943996163416), (2939, 0.054994093206338246), (2133, 0.05492765179289084), (4068, 0.054916219731726904), (4379, 0.054909269049836715), (1337, 0.05483075040559156), (652, 0.054719755236940955), (4436, 0.054664607178622995), (1058, 0.054639673336079664), (1232, 0.05463565182992183), (1335, 0.0546140002536912), (2540, 0.05458163837690907), (3210, 0.05454974654508297), (2579, 0.05449109132343219), (1224, 0.05447977791241718), (370, 0.05446422107763498), (4722, 0.054429769056287144), (3711, 0.054415376883691136), (3097, 0.05441189376089109), (123, 0.05437948527646275), (2607, 0.05435559962160483), (547, 0.0543181239775881), (3684, 0.05423192230812675), (4689, 0.05418373718847243), (4000, 0.05412680277911148), (67, 0.054074937665645514), (1412, 0.054052557393889665), (3670, 0.05401730880201186), (1320, 0.05396234292213965), (632, 0.053918967756722794), (1713, 0.05385206161575451), (3807, 0.053842960345928725), (3280, 0.05382001375047759), (1621, 0.053810560680655664), (694, 0.05376626816880238), (2961, 0.05373223641403586), (3010, 0.05372014492722975), (1483, 0.0537152743662037), (989, 0.05369349007135327), (2695, 0.05365694856318037), (911, 0.053638212119650516), (2216, 0.05350992923437409), (2316, 0.05350461914695359), (534, 0.053482400320674736), (4387, 0.05325022118336682), (2727, 0.0532431615369513), (799, 0.053238392723128455), (3373, 0.05319563936299344), (1967, 0.053062192395337215), (3504, 0.053058142077632355), (3370, 0.053020292166410465), (2093, 0.052916385367199906), (986, 0.05290379309565426), (1481, 0.052873795577374746), (2653, 0.05283047920294565), (1252, 0.052733701307304114), (1878, 0.052697283688512495), (1035, 0.05265779274022136), (1137, 0.052595693827284254), (4673, 0.05250835683111177), (2694, 0.052444135940204105), (18, 0.05240478672235247), (2070, 0.05237461178989014), (3660, 0.05229328831781953), (147, 0.05224975475487455), (842, 0.052246119197558435), (1023, 0.05219379421991199), (988, 0.05214709380479603), (2910, 0.05213639534377984), (676, 0.052085319822427784), (1343, 0.05204289354527297), (2550, 0.052023123442763886), (83, 0.05199345427213107), (1478, 0.05194888322592171), (2024, 0.051948821831962116), (4374, 0.051899902797053095), (87, 0.05188011040835715), (3535, 0.05185838678001064), (4124, 0.05174196097238311), (3330, 0.05167777928443214), (4727, 0.05167226190512842), (3552, 0.051640634987068224), (3819, 0.051635401412286924), (670, 0.051572923222605975), (276, 0.05156730789501902), (4533, 0.05151999388649284), (2224, 0.05150415763115391), (438, 0.051494898545373285), (3741, 0.05137462887624447), (3312, 0.05136987914371281), (4165, 0.051336994798299646), (4663, 0.05130610458064712), (878, 0.051278975949006544), (753, 0.05127641920127754), (1591, 0.051233128150227014), (2151, 0.0512264576599917), (3556, 0.051215905727079826), (1815, 0.051210122252384825), (52, 0.05120567902562012), (3708, 0.05108751065241208), (4747, 0.05093400600334906), (1107, 0.05091274228871673), (905, 0.05080274023301967), (2981, 0.05065831309553178), (236, 0.05058184916228288), (207, 0.05057077239859224), (2530, 0.05054450083011689), (2358, 0.050543508244887896), (866, 0.05051569182169075), (3731, 0.050467007151247203), (1183, 0.05044150494806253), (1226, 0.050433042645440865), (604, 0.05034984695325749), (2777, 0.05031300384575304), (829, 0.050294009050847396), (3119, 0.050212540352912956), (412, 0.05020539270069657), (4512, 0.05018578067460723), (4617, 0.05010019048073711), (1665, 0.05008364568375523), (4488, 0.05007671756871535), (2082, 0.050074922136997414), (3416, 0.05007218545018508), (4121, 0.0500207668898939), (1667, 0.04984036184425651), (4203, 0.049751322562709525), (4104, 0.04966514338579529), (2486, 0.04959265358401467), (1721, 0.04958679910595419), (1471, 0.049474397114349436), (1074, 0.04941382830183107), (1680, 0.04941139024161447), (4721, 0.04934459451543133), (88, 0.04934375393072621), (2893, 0.04933675384955022), (2383, 0.04932535195563083), (1237, 0.04931667830065329), (1261, 0.049282906493367536), (4475, 0.049273933842950896), (3110, 0.049272582909793694), (1739, 0.049268705549083906), (1377, 0.04922436373236316), (2066, 0.049215150904260624), (760, 0.049204204137566404), (2284, 0.049157670984362974), (3486, 0.04912940436834501), (1360, 0.04911663489280261), (1203, 0.04907786435972754), (70, 0.049044632016080295), (4023, 0.049011366474706344), (3318, 0.048983018217098606), (1000, 0.04895931175798987), (3091, 0.048914443252904304), (1796, 0.0489081072291265), (3659, 0.04887904723862165), (3249, 0.04883971449349704), (873, 0.04882649251454067), (371, 0.04882589257272392), (3085, 0.04875877644781146), (1681, 0.04874394085838358), (4227, 0.04863316185976559), (161, 0.04862490383550047), (678, 0.04856439728344643), (3203, 0.048519353593931405), (4701, 0.048355137685307054), (3973, 0.048332880014804756), (1595, 0.0483023958333389), (952, 0.04815517446646189), (875, 0.04812288183630353), (4731, 0.04810608528148518), (3076, 0.04805893448043608), (2978, 0.047893313300241526), (144, 0.04780838740543858), (2617, 0.04780804221362458), (3408, 0.047747610866932924), (1417, 0.04769597491008128), (2846, 0.047694131646516195), (4510, 0.04765784919351698), (4246, 0.047607977554923755), (2745, 0.04756638919351074), (4265, 0.04752521344317738), (853, 0.04749421027806136), (2963, 0.04748880037207841), (916, 0.047464133113303705), (2742, 0.04745352890674544), (3768, 0.04743807327931634), (653, 0.047437341516785816), (4053, 0.04729109767979921), (142, 0.047273064050945335), (342, 0.04723062405229315), (4402, 0.04718991637929522), (1973, 0.04713585121862077), (2447, 0.047077212365331106), (2119, 0.04702128870496381), (2412, 0.04699598923029044), (4007, 0.046991068998784455), (967, 0.04694522163222067), (667, 0.04693150521411711), (3637, 0.046926597343515467), (190, 0.04684869713102488), (2622, 0.046807685214089095), (3470, 0.04669784704566213), (2110, 0.04667519481823157), (1104, 0.04653771508141824), (1436, 0.04653672144341624), (1047, 0.046531567611740224), (928, 0.04647770428887375), (1115, 0.04645928326200463), (1774, 0.04642671505167653), (795, 0.04641917010612107), (1185, 0.04635410430313949), (2476, 0.046332792601156206), (455, 0.04633190250640613), (4682, 0.046329333382982875), (4095, 0.046324528970193984), (1542, 0.046255238370315435), (2524, 0.046233921851036294), (2155, 0.04622917007375549), (3507, 0.04618805422495345), (1847, 0.04617613541921273), (1432, 0.046118476290513945), (4590, 0.04611846353949388), (3306, 0.04607675773163021), (2248, 0.04605417832122835), (1272, 0.046047063939458135), (654, 0.04601885762151313), (4469, 0.04599156632695806), (418, 0.04597700761158374), (4703, 0.04595302374638437), (201, 0.04594078746478112), (1832, 0.04593191214731363), (1991, 0.045925919588798714), (384, 0.04583863771344612), (3325, 0.04582309608490363), (1871, 0.04580278836831743), (3849, 0.045750848527720794), (832, 0.045603842093442815), (2602, 0.045595430708266355), (515, 0.045592729108794854), (3867, 0.04555351337674126), (173, 0.04550384498112729), (2788, 0.045407025785566754), (149, 0.04538472310359438), (2235, 0.045346074865370234), (1949, 0.04533615767891085), (540, 0.045321049891906676), (2771, 0.04531227319323615), (2780, 0.04528457818342069), (3395, 0.0452843871957493), (1958, 0.04506686533695778), (1568, 0.04500362438226915), (1018, 0.04497513125919173), (3756, 0.0449694548042522), (560, 0.04477323842203221), (788, 0.04476196506990562), (2697, 0.04475792218992927), (931, 0.04472637340525035), (2859, 0.044711214624228085), (1419, 0.04469589107173066), (4283, 0.04464290371198233), (1290, 0.04460450046388552), (1455, 0.04459428253824936), (2336, 0.04451691266430244), (4148, 0.04448033541081818), (2294, 0.04446223974225918), (1264, 0.04441749422550273), (3344, 0.04438265802373957), (3317, 0.04434615995356353), (2187, 0.04433920180339358), (918, 0.04431424215356969), (3294, 0.04430072623237117), (4623, 0.044221632616904), (4396, 0.04414805187501919), (2925, 0.04400249485412594), (692, 0.04396050995505335), (3692, 0.04395501048193388), (1845, 0.043876691457498875), (1989, 0.04387310160049641), (209, 0.04386726831437218), (1303, 0.04382886930398134), (244, 0.04372649199500367), (72, 0.043703561692695056), (1406, 0.043687084270240865), (2055, 0.04365148942226951), (3511, 0.04360185396208906), (500, 0.04359049646863772), (4216, 0.043554687982604076), (280, 0.04337610775628745), (825, 0.043370295098156916), (2280, 0.04317149625796859), (4456, 0.04316146577690708), (2057, 0.043115570387890774), (2918, 0.04309675997743877), (3023, 0.043091906475388034), (1544, 0.04309032628896476), (4543, 0.04308742122183806), (3713, 0.04305596561431384), (3153, 0.04304022235757056), (790, 0.042952545274503415), (774, 0.0429400162040316), (345, 0.04288338537002433), (250, 0.042865363933293626), (1053, 0.042830906786056), (2206, 0.04277462689143786), (4481, 0.042757835961401494), (4477, 0.04266447277675407), (689, 0.04261633340052482), (2375, 0.04253499565747065), (827, 0.04246964300749295), (3582, 0.04245409586296946), (1146, 0.0424491888349494), (1585, 0.04243884345118055), (274, 0.04242801728798068), (3409, 0.04241292322226143), (3794, 0.04240519042120271), (2647, 0.04233458728805956), (3850, 0.04228614304974648), (1054, 0.04228201261670077), (3518, 0.04216897911857588), (3753, 0.042090943554187785), (2346, 0.04203088852998979), (2625, 0.04200125531917911), (4440, 0.041991714240553535), (4209, 0.04198276959090334), (915, 0.041951974051533385), (4187, 0.04194834510845422), (3775, 0.04188322564865629), (1230, 0.041867045639416976), (1976, 0.04185191461095801), (2178, 0.0418367295415274), (2443, 0.0417798468200847), (1861, 0.041772077176542244), (281, 0.04174391406233267), (1509, 0.04173935450196801), (3362, 0.04169617805055899), (304, 0.04161915036578288), (1865, 0.041558511118697745), (116, 0.04155535389632846), (2429, 0.04154447398014513), (3992, 0.04149471236811518), (328, 0.041429776511217174), (1992, 0.04142594559289807), (3993, 0.04141444241032792), (532, 0.04141118575241691), (4235, 0.041370634858682344), (4325, 0.04136703286049023), (683, 0.04131513325697417), (566, 0.041310986680968234), (3814, 0.041290417262952836), (4164, 0.041239339697275945), (615, 0.04123858364183158), (3228, 0.0411663822005323), (2413, 0.04111753654932092), (2109, 0.04108218818421875), (417, 0.04104820118756479), (830, 0.041040800791684734), (1789, 0.04101814948217427), (277, 0.04099094768016601), (1259, 0.040989937373805), (695, 0.040953656079609116), (4641, 0.04095151473255422), (3351, 0.0409504463510299), (287, 0.04088249461674906), (1858, 0.04088172490379864), (2123, 0.04087549340514472), (1923, 0.04080711455946899), (1754, 0.04077371754795297), (2815, 0.04075533028883783), (3118, 0.04074849449806561), (801, 0.040743227831076805), (241, 0.040733681903584056), (3860, 0.040676114697293306), (291, 0.0406723078387633), (170, 0.04064984125798916), (2739, 0.04062500732451342), (4293, 0.040583810157411734), (3407, 0.040542362377530575), (4048, 0.04052983452244613), (3137, 0.04049419222488337), (4619, 0.0404331872560726), (3720, 0.04042652439920732), (2464, 0.04032416931928047), (148, 0.04023490369675096), (1061, 0.04015900017844502), (47, 0.04011770611289532), (4551, 0.040077720342485995), (2868, 0.04004245650567271), (1874, 0.04003004720260614), (43, 0.04001629961385589), (501, 0.03995755240496447), (1694, 0.03994761878991922), (3070, 0.03992078833999696), (3559, 0.039909662744020497), (1850, 0.03990163485005693), (757, 0.03989057267985293), (1788, 0.0398728718265719), (721, 0.03987243043126951), (2598, 0.03973711261757088), (2871, 0.03972874757419434), (485, 0.0397067935682395), (3433, 0.039680900009768864), (181, 0.03964698221755282), (85, 0.039611319584937105), (3924, 0.03961001485929764), (823, 0.039520552002210024), (3209, 0.03949723733976206), (3488, 0.039494716374884456), (3315, 0.03947239701622175), (2097, 0.039460201109839554), (1339, 0.0393949993791684), (1351, 0.039376056053835484), (4602, 0.039360967212697204), (3508, 0.03935793971792087), (1510, 0.03930234461067366), (4553, 0.03929029570876056), (4176, 0.0392745814522185), (818, 0.039269321302828224), (2849, 0.039190347762394946), (333, 0.03906769430884594), (3099, 0.03905917780473194), (3656, 0.039036037182592666), (1990, 0.0390102829154889), (1234, 0.03900237653550396), (2122, 0.03896831576641964), (3004, 0.03893117509069693), (3427, 0.03888913900038845), (3232, 0.03880041493684054), (1358, 0.03878215800419196), (3661, 0.03876701009902598), (4033, 0.0387568245791131), (3984, 0.038747760260458494), (578, 0.03873810547721297), (284, 0.03871462066180159), (99, 0.038697368600750105), (329, 0.03864034965647996), (106, 0.03861361016856008), (206, 0.038609811558048684), (4152, 0.03859761946017823), (1241, 0.03852258990137091), (1736, 0.03847447631136058), (1348, 0.038459845150658756), (3382, 0.03845954257048011), (216, 0.03845844643531445), (483, 0.038442292184644525), (792, 0.038438590883147675), (1367, 0.038424730977945944), (1885, 0.038419709650879076), (3430, 0.03841853271639775), (1499, 0.03839389842822427), (2546, 0.03837349888616639), (3157, 0.03830741882007874), (2126, 0.038263220022102105), (2162, 0.03823802953672811), (4548, 0.038236451674266966), (542, 0.03821674474759495), (3605, 0.03819321590903109), (1781, 0.03811820150290066), (1300, 0.038115113387974416), (621, 0.03806919499034825), (1513, 0.03806237088795553), (3674, 0.03805219500748522), (270, 0.038036638453883734), (1727, 0.03799471360156894), (3983, 0.03799121368553916), (4281, 0.03796284759390697), (2869, 0.03795574257731799), (1430, 0.03793980794628937), (935, 0.03793475389047814), (4588, 0.03791882297431656), (3852, 0.037874671778384945), (1464, 0.037850419115007354), (442, 0.03782878113818279), (240, 0.03777346189646989), (120, 0.03776031154137176), (2614, 0.037712111047563605), (544, 0.037671567195695796), (806, 0.037568039243088006), (1092, 0.03752490206839758), (2489, 0.03743634744954538), (994, 0.037405567696317615), (1334, 0.037384381075540825), (1652, 0.03738066703389422), (3955, 0.03737815944797703), (185, 0.03734356125891239), (40, 0.037179284370283755), (3155, 0.03716972071425202), (3156, 0.03716617993924986), (3284, 0.037152483439514175), (2016, 0.03704770768151716), (4435, 0.03700387528201741), (1181, 0.036994873580785986), (1440, 0.03697101986628157), (3949, 0.03695292005051229), (251, 0.036937167620208544), (1043, 0.03688029440890788), (105, 0.03684415734894467), (894, 0.03680243041387979), (3376, 0.03679434143423507), (174, 0.03666303078391207), (2689, 0.03663292112599749), (1922, 0.0366309931534046), (1749, 0.03658597472349147), (4060, 0.0365448387481245), (435, 0.03654363746246818), (2934, 0.03652621940813977), (4610, 0.03652181941982545), (2655, 0.03643401141338434), (3446, 0.03641577530475443), (2250, 0.03640855718865241), (3797, 0.03638279732744622), (5, 0.03638193909735661), (3142, 0.03631350183668429), (2468, 0.03631015225332533), (2512, 0.036290302119500274), (2029, 0.036287162871139506), (1338, 0.03625885050920344), (2782, 0.0361991594965504), (3471, 0.03616955694181094), (3810, 0.036144831368776414), (4175, 0.03611946356899155), (4452, 0.03607216886880749), (2013, 0.036036708170083226), (968, 0.0360319080192978), (2555, 0.03600024832378779), (193, 0.035994345720215516), (2094, 0.035979064458325064), (2080, 0.035922571759438034), (3635, 0.03591430951535934), (1202, 0.035903511988700315), (3146, 0.03587464367456053), (4050, 0.035872000506096346), (3612, 0.03580353080632451), (1897, 0.03573611604342393), (396, 0.03573450876570696), (2723, 0.03569454348610842), (387, 0.03568926991481959), (668, 0.035685556284579284), (1676, 0.035675644737878535), (1438, 0.03562285734697346), (470, 0.03560312157436428), (3888, 0.03557489082382892), (2752, 0.03557157885691586), (4444, 0.03553435155946538), (1779, 0.035532680157647566), (4442, 0.03553184287260183), (1582, 0.03551260930993909), (1854, 0.03551076578271316), (2887, 0.03550922294038075), (2279, 0.035420034079372484), (208, 0.03540103475388236), (222, 0.03532839181412369), (808, 0.035285964618567534), (3293, 0.035212062616643745), (1116, 0.03521018285436441), (3701, 0.03519253019440509), (2988, 0.03515804414873204), (828, 0.03514529606593394), (1192, 0.03513762147293849), (2948, 0.03512339515882121), (1317, 0.035062738912969564), (3326, 0.035005637693904634), (2308, 0.035001177261982354), (733, 0.03497019177367791), (710, 0.03495744159482503), (4064, 0.03494982026083212), (2228, 0.034920134509910175), (939, 0.03491433845314271), (766, 0.03490210978907833), (4192, 0.0349016769672602), (482, 0.03488008196435513), (3880, 0.03485347457691314), (4710, 0.03481681251751152), (3171, 0.03481302951229687), (1620, 0.034798608706968506), (3941, 0.03469683430708477), (2255, 0.034680960472135564), (1707, 0.03462637866982064), (2886, 0.034602666934353626), (111, 0.034577482107177905), (4486, 0.03451354985119563), (3120, 0.03446456440957504), (96, 0.03445371424232424), (406, 0.03442624554496775), (2075, 0.03436865025823968), (1648, 0.034326137705690124), (4612, 0.03430978208283726), (4534, 0.0343047806446039), (4668, 0.034283205060277135), (3313, 0.03426799009598288), (2102, 0.0342287298960909), (465, 0.03421413348218496), (176, 0.034212967332719085), (3767, 0.034186459332759905), (2252, 0.03418057867635545), (787, 0.03412762642670493), (2481, 0.0340843222327739), (1500, 0.03404406466135415), (1876, 0.034019654199275384), (4160, 0.034010846284773084), (1461, 0.033997527127660944), (4546, 0.03398570692596546), (2045, 0.033983998566492465), (3521, 0.0339657627554239), (3328, 0.03395349082790803), (558, 0.0339093432368098), (693, 0.03388324531058825), (2018, 0.033822923021996465), (1398, 0.033811017483401005), (3638, 0.03379365004173564), (1085, 0.03374781246782456), (285, 0.033734663930785454), (1276, 0.03370921692817555), (2600, 0.033658132492863514), (2706, 0.033623444158976515), (1389, 0.033616703358739265), (1996, 0.03361434606336011), (1160, 0.033581074899923596), (3418, 0.03353557123232927), (430, 0.033518053133067854), (4122, 0.03345783763487147), (1530, 0.03343191067557938), (1945, 0.03342974786054512), (2371, 0.033421667224943566), (2913, 0.0334160511538363), (3174, 0.03341058469605029), (3267, 0.033410079587229295), (2581, 0.033362523682976646), (2221, 0.03335063047266924), (1413, 0.03334895147430119), (1005, 0.033300041761718004), (261, 0.03329428638640969), (1986, 0.033276546427916324), (2188, 0.033253064303541364), (3956, 0.033212934522678116), (1702, 0.033185876840958126), (167, 0.03317977040375775), (2459, 0.033169528413574255), (593, 0.03315902846597634), (4576, 0.03315724945456519), (428, 0.03313393528219909), (4255, 0.03310800388635278), (948, 0.033095969126954665), (1311, 0.03308766757402531), (3904, 0.03304299101017497), (3447, 0.033041355831546264), (2876, 0.033023261359591057), (2363, 0.03302138166210198), (1059, 0.032969701098324755), (2778, 0.0329643999840717), (2264, 0.032957554131632746), (1634, 0.03291568422499519), (4466, 0.03286176182359637), (433, 0.03284646380249608), (1776, 0.03282733231444987), (1379, 0.032813538663459624), (2632, 0.032762062569878785), (3102, 0.03275144388515133), (2879, 0.03272166752353503), (4354, 0.032703488341289375), (1270, 0.03266153055894881), (1387, 0.032642432602678406), (2008, 0.032635339472255664), (2077, 0.03261974391195965), (1752, 0.03260591587104474), (4660, 0.03260321044015251), (2802, 0.032596021311822945), (1128, 0.032594011633162216), (3901, 0.032591177028723446), (4502, 0.032563992761870386), (2121, 0.032514116208242384), (3260, 0.032496923086545726), (3028, 0.032481104771827134), (522, 0.03243590761786606), (4232, 0.032415728324844635), (903, 0.03237463220461316), (4134, 0.03234388101249817), (1429, 0.0323356632678111), (356, 0.03227754896991511), (2687, 0.0322671664374804), (1003, 0.03219748473752544), (3751, 0.03218759677744291), (3167, 0.032184234534100305), (2065, 0.03206501820278145), (4163, 0.03203120866365481), (1442, 0.03199489313657358), (1927, 0.031992470117750055), (2920, 0.031958203039006594), (900, 0.03194487228376491), (1255, 0.03192597162382348), (851, 0.031912848692112326), (2912, 0.031886917603212286), (1770, 0.031877864088488715), (2972, 0.03185006382390771), (2635, 0.031778953454963475), (4412, 0.031722965137768), (2560, 0.031698655422647604), (2917, 0.03167448250431029), (2467, 0.03166615819636273), (2089, 0.03166431409046197), (2158, 0.031629803364887), (742, 0.03160264297998883), (1864, 0.03158399865687904), (1540, 0.03158057982264009), (2501, 0.031568855862483064), (684, 0.03156732335744608), (1817, 0.03154017414527522), (3123, 0.03151526400116538), (1443, 0.03145740167051708), (107, 0.03135614409759195), (2076, 0.03134101289919909), (2147, 0.03132990440921049), (2427, 0.03128981006645068), (4092, 0.03128908615544509), (852, 0.03124691535996025), (443, 0.031206685037112852), (1060, 0.031172192203175388), (4490, 0.031156652224777055), (1519, 0.031115525756600263), (2394, 0.031100543905321878), (1507, 0.031091403631565716), (3679, 0.031026144104140525), (3196, 0.03101263758670421), (1078, 0.030958547536315918), (3032, 0.030958303107659468), (3680, 0.03093985611145294), (1924, 0.030852731473840198), (368, 0.030829653715040317), (833, 0.030823402259252217), (2874, 0.030812522673857045), (2048, 0.030802512071697805), (1968, 0.030801158822027122), (2173, 0.030800887661636082), (1838, 0.030769747989553856), (38, 0.030704980970973496), (2761, 0.030699691268267368), (4707, 0.0306592758135415), (1971, 0.030654753243726837), (1960, 0.03063261406714704), (25, 0.030594156594066033), (963, 0.030570235473656043), (1837, 0.030568850528608603), (1763, 0.03055322110026664), (2840, 0.03053718184608967), (4494, 0.030534289296111173), (732, 0.03052869392747619), (4195, 0.03051579272766472), (4105, 0.03050302502029213), (2736, 0.03047098140255083), (1489, 0.030469676969143236), (2854, 0.03041428083459404), (1050, 0.030366197852705397), (688, 0.030340670221994322), (1260, 0.030321445238019374), (779, 0.030304194384284326), (2881, 0.030299571089348568), (436, 0.030261606441504878), (664, 0.030254167548451654), (1220, 0.030248872746434133), (3853, 0.030234270876344123), (2304, 0.030225843700875495), (1371, 0.030200090629354904), (2618, 0.030199086975327315), (139, 0.030180905077250707), (4013, 0.030136540996218392), (2517, 0.030134434320902747), (3108, 0.03010728213145758), (2803, 0.030106897226759532), (1454, 0.03009560796013953), (1567, 0.030092500413425198), (2440, 0.030074983861212764), (462, 0.030072165919128334), (296, 0.03005321807311749), (816, 0.03003026963052938), (812, 0.029991137260393822), (4699, 0.029969226649377293), (4522, 0.029959534212383072), (2484, 0.029903871655743326), (1934, 0.029902761235045268), (3960, 0.029900390471503117), (729, 0.02987493964837909), (1866, 0.029863919432353947), (4579, 0.02984444616268321), (2428, 0.029844139634559834), (1630, 0.02976610079168527), (657, 0.029754016767727216), (3771, 0.02969756073029457), (800, 0.029692707937437522), (4133, 0.02966782498670954), (350, 0.029643593150176527), (4431, 0.029617320775368904), (3192, 0.029611290248946962), (4593, 0.0295806926063787), (728, 0.029578359672794357), (1498, 0.029575474776495143), (3780, 0.029571084981827672), (3255, 0.029542458139051573), (1009, 0.029521018418104627), (885, 0.029513880341101056), (3868, 0.029500167351439146), (2100, 0.029492174900354964), (3285, 0.029478973180549033), (936, 0.029461898159958425), (2365, 0.02943376701094924), (46, 0.029423221806989093), (29, 0.02940870651886477), (3618, 0.029362634684874746), (1806, 0.029355111873413324), (4038, 0.029330247242441307), (3704, 0.029300253595438253), (2477, 0.029294446596450877), (1493, 0.029286115502358184), (4656, 0.029268070018072655), (1194, 0.02926524734690132), (1918, 0.029262696207806242), (1129, 0.02923413123143411), (65, 0.02923273543310805), (385, 0.029173904993847633), (1384, 0.029164032773400884), (269, 0.029155244543940556), (1282, 0.02911119569546211), (4757, 0.02909730091389954), (1674, 0.029093329326416187), (1188, 0.029082620172893862), (3112, 0.029076478094666094), (930, 0.029070741803871186), (4046, 0.029066333271304822), (179, 0.02906198103561843), (1484, 0.029034562567669883), (175, 0.029005838001981685), (4524, 0.028994499119557347), (824, 0.028986646717646683), (160, 0.028967602225585285), (1071, 0.028958639853332406), (10, 0.028940295904860032), (1902, 0.02893846025013839), (1868, 0.028923206430123805), (2104, 0.02888407774717475), (4089, 0.028856518077562864), (86, 0.028843244842217126), (34, 0.02883888014966885), (2014, 0.028827299861626753), (2011, 0.028826934247060527), (3905, 0.02881564200242569), (2088, 0.028769739293873373), (4430, 0.028750978914863952), (845, 0.028748759720018634), (3999, 0.028737285401950235), (4272, 0.028725904084230987), (991, 0.028707415781689127), (1795, 0.028703236086220375), (4045, 0.02870115835068373), (255, 0.028699236681169846), (3572, 0.028690036545991754), (3065, 0.028674109774089566), (2807, 0.02866630019326919), (4344, 0.02865038456168546), (3913, 0.028640017224541656), (1643, 0.028629096967307876), (1225, 0.028618500366839418), (4094, 0.028610648803784722), (4118, 0.028587333007188194), (4470, 0.028580214369471328), (3349, 0.02857771278506837), (493, 0.02856091020104962), (4289, 0.028559447902845616), (1215, 0.02855447164185907), (1750, 0.028547686491352208), (3839, 0.028541613155784754), (1537, 0.02851741703498588), (143, 0.028507863502226782), (3514, 0.02849524883670438), (180, 0.028490457350506117), (743, 0.028488412978978885), (1186, 0.02848637774537319), (3259, 0.028473692527117744), (4233, 0.02847001345560385), (716, 0.02845877117960431), (3516, 0.028410661280192873), (3778, 0.028365356236326696), (4249, 0.02835147128483565), (4624, 0.028342670107240835), (3666, 0.02833197361256533), (706, 0.028327484664847795), (474, 0.028319825760389317), (618, 0.028317866341657616), (3586, 0.028287695095505442), (1195, 0.02828697111891121), (3653, 0.028266115712843147), (4366, 0.02826449905382121), (4390, 0.02825131506223439), (2710, 0.028198514934337195), (4035, 0.028197496601302937), (3501, 0.028188399410551408), (4098, 0.028173902436969992), (1140, 0.028165170919318194), (1705, 0.02816150535693054), (1400, 0.028132723439793096), (1229, 0.028126142281444857), (980, 0.028103915070945618), (3464, 0.0281021600782983), (1174, 0.028101644216258014), (660, 0.028087870227402563), (917, 0.02801813474954442), (3420, 0.028009351687067557), (15, 0.02799839182348624), (3945, 0.027986829061714846), (1033, 0.027984877386984592), (3279, 0.0279736544512091), (580, 0.02796643032024247), (3571, 0.027959339213106157), (3129, 0.02795126968805625), (256, 0.027946105525853672), (2606, 0.0279291007836519), (3436, 0.02791619542910228), (2114, 0.027905892407395397), (42, 0.027899867571363854), (1735, 0.027877487985644874), (3125, 0.027875871132693228), (1191, 0.027848927154960526), (2519, 0.02783091752705064), (4715, 0.027812007823980217), (3665, 0.027800959921979534), (1363, 0.027792728005576174), (691, 0.027779838668920018), (1931, 0.02777476352670144), (1472, 0.027769323340066973), (4557, 0.027757462835461346), (3227, 0.027732246470200367), (869, 0.027724667447528526), (3957, 0.027682368982531517), (3233, 0.027682113628356424), (4093, 0.02766397404156143), (3857, 0.0276573854109185), (4538, 0.027650147082998743), (4016, 0.02764770975324264), (238, 0.02764294243788263), (4608, 0.027595179145312787), (1405, 0.027546998828995677), (1488, 0.027543543088115616), (3623, 0.027522971873122797), (3727, 0.027511731368444172), (3213, 0.027507568762115173), (636, 0.02750080828921521), (4517, 0.027498672199527233), (2714, 0.027495725065678052), (3435, 0.0274789340283388), (672, 0.02747774380176518), (1482, 0.027475901825268993), (2994, 0.02746903839811915), (1083, 0.027463027070239267), (3835, 0.027393718649311137), (3645, 0.02732168550680729), (1138, 0.02731921144000514), (2444, 0.027288395837912656), (2069, 0.02726854074523903), (3499, 0.027265037294721427), (4645, 0.02725627857636134), (3018, 0.027246184366293412), (4677, 0.027235770240553486), (1179, 0.027216905626839646), (509, 0.02720780207654745), (494, 0.02719375088439663), (1046, 0.027187023857907288), (3570, 0.02713346848082392), (4395, 0.02712393919810265), (3303, 0.027116456374105875), (2091, 0.02709648456737528), (3245, 0.02707463031654543), (2061, 0.027070622195654065), (719, 0.027058336740082803), (1811, 0.02704018580253165), (606, 0.027015616794323058), (4629, 0.027005694225775582), (1223, 0.027005239239424626), (1504, 0.02697957361915106), (50, 0.02697023984718448), (125, 0.026966928270733156), (4382, 0.026963122372556596), (750, 0.02695558313290903), (3195, 0.026929223161507608), (836, 0.026911160644380348), (3624, 0.026884703434221623), (511, 0.026883983288474717), (613, 0.026865480608594366), (4309, 0.026833537680073665), (1330, 0.026814531003860883), (908, 0.02681152042992898), (3492, 0.02680948937216356), (4177, 0.02680514635548594), (1536, 0.02677860916336161), (3696, 0.026776493646548737), (2825, 0.026764020172182535), (4284, 0.026763249450594773), (696, 0.02673761342054258), (641, 0.02672189728825935), (2931, 0.02669106325073467), (2198, 0.026673110283276742), (1560, 0.02665132151423831), (769, 0.026643093771715805), (4299, 0.026635176126181444), (923, 0.026596578472600864), (727, 0.02659031841884977), (503, 0.026579922118508754), (4337, 0.02653804552276297), (3629, 0.026527122006416513), (1421, 0.026517224998046915), (3185, 0.02650611523369318), (3352, 0.02647434003344154), (3035, 0.026440205627915665), (2344, 0.026435939744920874), (539, 0.02639592309638696), (81, 0.02636597864311408), (3149, 0.02636323260837517), (3487, 0.026340273373585188), (3531, 0.02630113859031933), (1397, 0.02629117983017643), (1076, 0.026285394610679223), (880, 0.026225155395232062), (2301, 0.02620922548308633), (421, 0.026166932820164298), (1653, 0.026153631979549997), (537, 0.02609010446151483), (2343, 0.0260786188937933), (4581, 0.02603378898094977), (2348, 0.026032262748759995), (1001, 0.026015362212325907), (3387, 0.026006097502975247), (762, 0.025999523752907035), (1375, 0.025970117276915575), (1231, 0.02593765917385455), (3871, 0.025925140962804585), (4670, 0.02591702583986258), (266, 0.02589433533299905), (3574, 0.025888634777740428), (2897, 0.02587754233551565), (1123, 0.02585840321957088), (1044, 0.02584729181277582), (2962, 0.025827396656051483), (1843, 0.025786122338705898), (1041, 0.02574501017296771), (1052, 0.025738331448534657), (3122, 0.025728646350650336), (1738, 0.025708294058460913), (1448, 0.025679252705914295), (2995, 0.025672888528369613), (1095, 0.025652422060399305), (2184, 0.025639248336252727), (271, 0.025635007993722207), (868, 0.02561621380501046), (2650, 0.02560486011152279), (644, 0.02558316879359373), (1555, 0.025542199333970336), (1098, 0.025540037798429574), (1799, 0.025530575676747064), (367, 0.02552245088004603), (3000, 0.0255158189850834), (3876, 0.02551393941564506), (635, 0.025497074529742095), (1462, 0.025494505475612772), (217, 0.02549137481302489), (2362, 0.025491155514939235), (4523, 0.025483243597571037), (31, 0.025478395058812203), (1407, 0.025456952532587708), (3226, 0.025451858214250823), (3254, 0.02543302997238995), (1177, 0.02543053207869321), (863, 0.025409060947662262), (204, 0.02540577316603864), (3342, 0.025403842873428367), (311, 0.025351249411847094), (1819, 0.025342922285838405), (381, 0.02533570821058878), (4156, 0.025294860027302742), (1900, 0.025292545747534638), (3927, 0.025282141672830077), (3452, 0.02527673712119155), (341, 0.025258600699955842), (4695, 0.02525604717821059), (1433, 0.02522270105864874), (1872, 0.025208373876767696), (3460, 0.02516891458876367), (4591, 0.02516341741836449), (1099, 0.025118972130371234), (459, 0.025117013193015198), (523, 0.025097399184925012), (563, 0.025072237445549095), (4081, 0.025062974787776728), (910, 0.025060850832665627), (3734, 0.025060559534498695), (581, 0.025056948534517103), (4601, 0.025047921549802604), (2496, 0.025038544327038892), (1065, 0.025021003732304797), (744, 0.02500011085834452), (2899, 0.024985984015056383), (3474, 0.02495825790227187), (1812, 0.024954432629093217), (3841, 0.024937647248175543), (2762, 0.024932540304122668), (3017, 0.024915423553484306), (1892, 0.02486945872520801), (2580, 0.024835393932640358), (809, 0.024797550478066754), (2031, 0.02479302668855909), (3705, 0.02478707415328016), (608, 0.024772489001346015), (1964, 0.024762913331529066), (1720, 0.02474649158232881), (1987, 0.024729766359728764), (3297, 0.024719791237920473), (1112, 0.024683336315790064), (2424, 0.02465344426019848), (313, 0.024603538356002302), (33, 0.02459675716595456), (1760, 0.024581245451693656), (4349, 0.024513761940598292), (996, 0.024497501460334976), (4661, 0.02449389816573342), (3111, 0.024488829487550254), (1205, 0.024461095390436387), (1761, 0.024435802721098493), (4664, 0.024428786321792257), (3910, 0.02442341671673966), (2833, 0.02442080283654105), (1816, 0.024413039681963167), (4640, 0.02440064876425932), (4282, 0.024391994103118257), (330, 0.024385105617911743), (0, 0.02437890616146278), (981, 0.024303393142576995), (3688, 0.024273161145531182), (745, 0.02423905230773515), (200, 0.024231575410740794), (1175, 0.024223059791013857), (1396, 0.024216188889853933), (4154, 0.02420013710548464), (4294, 0.024197772287434402), (4432, 0.024195640849340103), (1266, 0.02419450516381371), (3747, 0.024181926422258124), (243, 0.02416487978855617), (2724, 0.024163161348250542), (804, 0.02416092385902481), (2712, 0.024144415213257095), (1414, 0.0241434403429655), (3428, 0.02411309922293203), (1213, 0.02407650262883889), (2237, 0.024069761252777922), (2949, 0.024058034449571487), (2760, 0.024047688809246057), (642, 0.024036351330504926), (3573, 0.024030813141988367), (1608, 0.02401227433695795), (2469, 0.023990054152245588), (2767, 0.023976193448032156), (861, 0.02396424771113744), (2553, 0.023939271685278367), (862, 0.023882917529650948), (2480, 0.023825656983701107), (4666, 0.02382185056815952), (61, 0.0238002216511177), (3746, 0.023795500814594077), (1012, 0.023703128189757647), (2020, 0.02365196748244604), (1551, 0.02362862987849565), (1873, 0.023624113884898594), (794, 0.023603933816411096), (2035, 0.023599984768078244), (203, 0.023595810177266162), (322, 0.023568717530259534), (4399, 0.023568014683834876), (1773, 0.023557753378017056), (4504, 0.02355221871303182), (1365, 0.02352601275692616), (3875, 0.02350559147404483), (1797, 0.023504234199853456), (2841, 0.02348072488894807), (775, 0.0234697692604115), (2408, 0.023456971922818416), (364, 0.023443935579842975), (2759, 0.023434638968737667), (4691, 0.023421251460259876), (2421, 0.023400560728331393), (4321, 0.023398411822572584), (1759, 0.023358367183586297), (3872, 0.02330700654603948), (1852, 0.023300026510872467), (3721, 0.023296564467925503), (3036, 0.02325579825074365), (1356, 0.023255457586238544), (321, 0.023248031479993436), (1262, 0.02321221288551387), (16, 0.023208306472046934), (2157, 0.023177923871995743), (1627, 0.023124963227803226), (2149, 0.02309493565882042), (1696, 0.02308832459835365), (1420, 0.02303302985474633), (279, 0.023021821421160694), (212, 0.023014408371160915), (1245, 0.022972658953727104), (617, 0.02296468009048698), (273, 0.022955924195084573), (3658, 0.022923554563077923), (4659, 0.02291972584496831), (1981, 0.0229190611565136), (1214, 0.02287652967239014), (1254, 0.022857528293230005), (796, 0.022802825516939115), (332, 0.022802385537057823), (638, 0.022789124162290737), (2355, 0.022755411176427827), (3331, 0.02275270963573351), (1939, 0.022735015153780663), (4733, 0.022734884340625143), (1999, 0.022719643671750306), (551, 0.022656037477229073), (155, 0.022649093085470817), (3299, 0.022620512532070484), (4047, 0.022617572694547793), (1723, 0.022611189622919088), (3963, 0.022606709158323773), (2699, 0.022559817907005623), (3715, 0.02255414717890207), (3541, 0.022529495334190172), (4537, 0.022506986453223687), (2347, 0.022484713546915426), (2718, 0.022442178784971848), (844, 0.022424756230805996), (4208, 0.0223965092572455), (2062, 0.02237015354891663), (4219, 0.022328201723683546), (2950, 0.02232613846508389), (1283, 0.022326091863226812), (1216, 0.02232402121496508), (3899, 0.02232289736775515), (858, 0.022300349183538164), (2992, 0.022282002630946745), (1403, 0.022250614681255627), (3049, 0.022228063410747092), (1344, 0.022209218047997203), (4674, 0.022165945263002917), (434, 0.022148329664340955), (3426, 0.0221397759635924), (4464, 0.02210364616677282), (3975, 0.022099163362143834), (867, 0.022091140308414865), (218, 0.022075569293742624), (354, 0.022063533306748696), (1935, 0.0220009212775883), (4646, 0.02200057717251989), (2680, 0.02198784724119098), (2713, 0.021986548421283576), (953, 0.021985059913994548), (358, 0.02193050784595757), (1662, 0.021916471677717205), (1362, 0.021884025599131992), (620, 0.021870543517388798), (468, 0.021798119933243314), (343, 0.021783404351906135), (3844, 0.021738270611439858), (3588, 0.021728775427942614), (1057, 0.021718022759669064), (2328, 0.021649161391760353), (4653, 0.021627496163411596), (3891, 0.021615624886598933), (4106, 0.02160238843160232), (3773, 0.02160179819884623), (327, 0.02156474073142572), (2027, 0.021533057861046218), (571, 0.02149496140865427), (3942, 0.021382385178544547), (437, 0.02136014987563984), (4627, 0.021320222478128138), (4518, 0.021285701340041437), (3895, 0.021280498749352936), (374, 0.021257732856725813), (1492, 0.02122964788581199), (895, 0.02121963800803931), (2929, 0.02121899755358165), (2449, 0.02118398155831198), (1682, 0.021180265856540856), (4514, 0.021177096793660213), (562, 0.021155095223521107), (3448, 0.021134763636608708), (2820, 0.021131418658417854), (512, 0.021051936519763833), (979, 0.021048930023766503), (2074, 0.02104324821012009), (1941, 0.02102225619639467), (1757, 0.021009281567519838), (899, 0.020997092460589475), (4698, 0.020920823416465395), (3916, 0.02080700800675604), (398, 0.0207514714761203), (4158, 0.02074757615644145), (369, 0.020694939386578452), (4162, 0.02064014877253687), (2306, 0.020620542121052785), (3117, 0.02055939915478972), (2197, 0.02054060222926916), (3240, 0.02053350688714045), (288, 0.020460728991222477), (957, 0.02041486385037735), (3502, 0.02040939612138805), (4642, 0.020404532363936783), (4128, 0.020390682199423762), (3744, 0.020383241767220662), (2646, 0.020371866344156282), (1114, 0.020362055963844435), (1279, 0.020357148678443817), (3345, 0.020346197685146873), (970, 0.02034270695397352), (257, 0.02033570746394375), (4331, 0.020262087888844652), (2273, 0.020239600216979365), (4527, 0.020227809147540063), (3440, 0.020209005699610576), (2822, 0.020190210464201976), (1505, 0.02016855864358634), (1019, 0.02016852761705747), (3215, 0.020161077864708225), (2700, 0.02015524092861455), (4307, 0.020143402983895334), (2567, 0.020139958962546965), (855, 0.020094957986712212), (3222, 0.020091542231764452), (2576, 0.02007996268463583), (4261, 0.020067034566573806), (929, 0.020065731803382583), (1515, 0.020064819998021507), (1940, 0.020062161376986465), (4462, 0.020059084295749048), (3558, 0.02003914600182564), (3068, 0.020020219988539156), (4515, 0.019968223605655297), (317, 0.019952142859290603), (4285, 0.019882268236429804), (402, 0.019878497553281284), (3022, 0.0198724021749538), (425, 0.019859025913495466), (4746, 0.019825924816744975), (78, 0.019765021672096775), (510, 0.01975133079710117), (4119, 0.019741495136646126), (831, 0.019704280709410507), (2181, 0.019691733285088383), (1158, 0.019686268398197742), (2789, 0.019669746133513154), (1465, 0.019669252063879886), (3083, 0.019663385227890726), (763, 0.01965914303605625), (4120, 0.01964335108481009), (1962, 0.019632570616212326), (3168, 0.01960335209642299), (934, 0.0195862477470841), (1919, 0.019578252288684303), (2568, 0.019567911915983165), (4630, 0.019558207086944845), (4043, 0.01955766276372819), (595, 0.019542484792707832), (1655, 0.019540644859720402), (3319, 0.019473945187966107), (687, 0.019441504701261606), (380, 0.019418112269417222), (949, 0.019401814101979963), (2231, 0.01940042336967974), (1332, 0.0193968348622457), (2084, 0.019377251120564504), (2626, 0.01937027709853725), (550, 0.019369279444424143), (3263, 0.019365062379427537), (513, 0.019324792490980198), (1167, 0.019324460840094728), (2683, 0.01930805906426679), (252, 0.019301625394182037), (3421, 0.019286113583261724), (514, 0.019280270088209102), (1391, 0.019238329521282797), (3774, 0.01922923799504199), (3469, 0.0192108021297401), (2733, 0.019200287968637736), (2582, 0.019162778542618816), (3938, 0.019135306225709685), (1829, 0.019127137803827594), (3604, 0.019105519570609276), (3163, 0.019104294511795506), (3934, 0.019104257120347606), (4595, 0.019098604857760295), (3451, 0.019064126624514937), (3180, 0.019055696352414192), (666, 0.019049266053768384), (128, 0.019046482963718348), (4032, 0.019037537543498694), (4090, 0.019023302959190903), (1661, 0.019011541762778503), (1724, 0.01900927596110555), (3158, 0.019004382613949253), (2314, 0.01899464941676462), (3438, 0.018990859929878808), (420, 0.018985400783784835), (1381, 0.018973391543857885), (1659, 0.018962106827093615), (1701, 0.018961299400192533), (3997, 0.01893996698139225), (1952, 0.018934041694530446), (3524, 0.018925890867119276), (3710, 0.018914629221301594), (4384, 0.018846933534566464), (2769, 0.018834761758364356), (383, 0.018834117845494616), (3094, 0.01882583912982746), (3782, 0.018819213681491982), (1657, 0.01879364718946502), (102, 0.018786079908562316), (2324, 0.018709660454768687), (1554, 0.018689096181133704), (1452, 0.018678023878311682), (3423, 0.018672476669476135), (1531, 0.018671412796122777), (2403, 0.01866158049080476), (3923, 0.018657144734343527), (4091, 0.01865597281897015), (69, 0.018644390966081673), (3584, 0.018631723745362278), (1449, 0.018606918801197705), (765, 0.01860294617964601), (3787, 0.01859643300440731), (496, 0.01859428031650674), (3468, 0.018556980088765978), (1732, 0.01854748939085871), (1380, 0.018546070182394025), (3802, 0.018524673780305083), (1426, 0.01852162281798501), (239, 0.018518342064519636), (2208, 0.01851672867856615), (802, 0.018515993744343397), (4312, 0.018504707306844594), (2969, 0.018500224021701768), (4076, 0.018497435992056374), (2867, 0.01848698394681264), (2599, 0.018477374523650964), (4621, 0.0184758772032039), (2936, 0.018475344097767535), (1588, 0.018474142580671104), (685, 0.018460204891620723), (3951, 0.018455089000243702), (3897, 0.01844559976216417), (4392, 0.018445313348624516), (320, 0.018442035845646146), (992, 0.01843364107484019), (4492, 0.018429786009959155), (3903, 0.018424199093567288), (303, 0.018379291795782984), (1435, 0.018373730893323236), (2015, 0.01837303917465548), (2959, 0.01837058048770342), (4678, 0.01836839478301931), (3995, 0.018337755279730295), (847, 0.01832681237279447), (2044, 0.018325313206274223), (1881, 0.018305920484479873), (2790, 0.01830388832903736), (2051, 0.018300446865997466), (2819, 0.018294721869532876), (1859, 0.018275485078579668), (3124, 0.018273916024872234), (4275, 0.01826998594618977), (4376, 0.018263942237409212), (4240, 0.018262211532938097), (2947, 0.018258775311915356), (1575, 0.018254559631551148), (220, 0.018237046107815267), (1502, 0.018218138160033273), (4149, 0.018206965486989163), (891, 0.01817677413507344), (768, 0.01817622489836298), (3179, 0.01817025029443271), (793, 0.018169405487532393), (4639, 0.018147449838810482), (1280, 0.01814730507605244), (1791, 0.018136659284372688), (3769, 0.018134572956767677), (4586, 0.018128796219505333), (1431, 0.018122150579795136), (2136, 0.018114575987461412), (2436, 0.018111108038357283), (224, 0.018096667606494338), (1975, 0.018073280585658977), (118, 0.018071830717797662), (1614, 0.018064573457129782), (1901, 0.018051805027528994), (527, 0.01805004887081319), (3815, 0.018046931220916898), (2209, 0.018042014618145592), (1150, 0.01804056865400428), (6, 0.018002612273676326), (3833, 0.017979564710071966), (2960, 0.017969690899298035), (4251, 0.017962857521632247), (737, 0.017955066444489624), (3131, 0.01795074452104901), (4719, 0.01794691724126364), (2991, 0.017941949633163014), (3398, 0.01793830700109999), (4028, 0.017924982547540734), (4552, 0.01791617767344514), (919, 0.017908095839051043), (609, 0.017907497834314216), (3822, 0.017906878845296285), (4605, 0.017906236450213973), (27, 0.01790017766227181), (3005, 0.017898033228333523), (3144, 0.01789727971046194), (4310, 0.017846196074184095), (3520, 0.01784296875271461), (1587, 0.01783243841199248), (3134, 0.017827664442586127), (4377, 0.0178267952793133), (1386, 0.017826068138551705), (553, 0.01781730098709572), (4360, 0.017806942352553333), (3513, 0.017800254483501973), (2000, 0.017788021095130557), (30, 0.017782982461700837), (2283, 0.017777941812950396), (1904, 0.01777304039688216), (407, 0.017766612882575014), (2740, 0.017738963141324948), (2330, 0.01773584788398967), (3907, 0.017733196033486637), (1930, 0.017727674625253872), (4103, 0.017727610822628834), (4248, 0.017726480793366542), (189, 0.01770347887662173), (2506, 0.017691473624894948), (315, 0.017688610345459224), (7, 0.01767534982056678), (2505, 0.01766320618951234), (2130, 0.017644204197386076), (811, 0.017628167709252924), (305, 0.01762101817915664), (233, 0.017603609085058744), (95, 0.017598653435843575), (4665, 0.017577850801200626), (2513, 0.01756429021869185), (2368, 0.017561554765983586), (1127, 0.017556623406824772), (3908, 0.017544222791687793), (2915, 0.017543301382977217), (3602, 0.017539585953970413), (1469, 0.01753600218097451), (4383, 0.017529828705621926), (3443, 0.017495008634468484), (3576, 0.017475954086589744), (1573, 0.017465005213920987), (2278, 0.017458208182898064), (1712, 0.017455858132997795), (2964, 0.01745097769928408), (4708, 0.017447225272730793), (634, 0.01741757583177619), (389, 0.01740088964692939), (460, 0.017397554448242192), (4371, 0.017394228240668698), (4039, 0.017393458318419704), (3432, 0.01739282099401979), (1635, 0.01738959644196588), (2246, 0.017376277651278787), (1708, 0.017370304599902), (451, 0.017365905337860157), (1359, 0.017351568016822756), (927, 0.017333691692811338), (4211, 0.017329788318513298), (2565, 0.017325007112476025), (1998, 0.017323065522767574), (135, 0.017322158367470676), (3161, 0.017314490335198336), (2418, 0.017311848040822343), (2116, 0.01730004994945558), (1933, 0.01728847441038623), (2494, 0.017282573803680135), (3191, 0.017273541375137893), (715, 0.017263557480273098), (849, 0.01725419439470772), (902, 0.01725316805616155), (82, 0.017247056125665385), (1953, 0.017235377281791118), (3583, 0.01722440045826923), (39, 0.017222738667275098), (2167, 0.01722131543800573), (1658, 0.017209217387059918), (1846, 0.017204510762703858), (1619, 0.017203406184363966), (3367, 0.01718381727400602), (1566, 0.017171973629257563), (2847, 0.017156205000436277), (4052, 0.017148948770346117), (4587, 0.017146902509174614), (2474, 0.017146817607483003), (1347, 0.017137844292773756), (2245, 0.01713730094823234), (1622, 0.01713290167760057), (3555, 0.01712131207694836), (3218, 0.01709834762786047), (4438, 0.0170863696927432), (1685, 0.017083561776083098), (633, 0.017079067318327527), (3011, 0.017077119492980568), (2823, 0.017071345119413127), (347, 0.01706749549155087), (3664, 0.017058100897151544), (467, 0.01705787247458891), (3404, 0.017045279185381103), (619, 0.01703031649139799), (2545, 0.017018264206704138), (1632, 0.01701680272318562), (1857, 0.017003614890406166), (310, 0.016979950458244367), (3970, 0.016976571754155796), (1048, 0.01697488807101919), (2232, 0.016969307361105086), (1006, 0.01695640625754895), (3536, 0.016949442694818316), (1951, 0.01694765037689494), (3824, 0.01694276865183976), (3881, 0.016929085928129334), (1274, 0.016918067157554513), (375, 0.01689305977764152), (2787, 0.016891014812394793), (1075, 0.016886253063841394), (4441, 0.016865963653841378), (2633, 0.016848982284949614), (1631, 0.0168458838288406), (1428, 0.01683196558626072), (1124, 0.01682943781259598), (1082, 0.016827912454533103), (4264, 0.01682485545228933), (1798, 0.016820924193508627), (90, 0.016817943441139002), (3264, 0.016793413566756423), (3599, 0.016761265711609973), (4012, 0.01674249458360347), (1211, 0.016739734150356338), (2640, 0.016734500886966007), (2388, 0.01673082284318784), (1494, 0.01672529900306555), (974, 0.016723053177666126), (152, 0.01671327623783647), (1633, 0.016712873941965117), (3823, 0.0167004254758806), (1451, 0.016684838559464954), (1207, 0.016671163628611752), (4025, 0.01665866342650873), (452, 0.016655271623085798), (2744, 0.01664249803771311), (2049, 0.01663937923048848), (3126, 0.01662687115807531), (4585, 0.01662343360320993), (1860, 0.016620318674283), (3723, 0.016611426396807908), (1914, 0.016609844094343795), (3788, 0.016607123281035335), (3456, 0.016603644107775588), (3143, 0.01659483944747035), (1382, 0.016577777118977594), (3135, 0.016572950931725155), (2711, 0.01656188598798459), (1688, 0.016558751976729662), (426, 0.016551425299088183), (2432, 0.016547860469010394), (690, 0.016541046065517265), (4071, 0.01652970365687738), (3886, 0.016529098669226208), (1480, 0.016516897162260184), (1077, 0.016513707318086077), (3136, 0.016506446471758557), (93, 0.016505893094768267), (2601, 0.016498771201193647), (1562, 0.016461758511038507), (1182, 0.01644849392277645), (1993, 0.01644020735599567), (4328, 0.016429352503332207), (1087, 0.016421891915205232), (2798, 0.016417342779374695), (316, 0.01640716139731686), (2139, 0.016398611045928078), (1579, 0.016394941625602625), (4274, 0.016389736104340847), (3643, 0.016380434276338722), (1936, 0.016365263667630345), (260, 0.016360761276008495), (810, 0.016343164013662793), (3361, 0.016331533539516125), (2977, 0.016328969022775797), (306, 0.016315230564219355), (2144, 0.01631096825677482), (3391, 0.016301697370249914), (3338, 0.016300157325824315), (677, 0.01629990849362778), (4292, 0.016294241575442528), (897, 0.016293930626012133), (1475, 0.01628137679901293), (3919, 0.016280936085336636), (3689, 0.016267772298910868), (3098, 0.016254451835912457), (661, 0.016242983930765297), (850, 0.01624053684772925), (3133, 0.016226881452693163), (2193, 0.016222173019215774), (1623, 0.01620793612210184), (182, 0.01619142856914406), (1840, 0.016181117205125887), (3596, 0.016173401987248044), (697, 0.016146321661794315), (346, 0.01614437003517363), (104, 0.016141161052439887), (3100, 0.016135454157856798), (3966, 0.01612540635217022), (4697, 0.016123607783673662), (1612, 0.016108368776617147), (1197, 0.016100730673267828), (2984, 0.01607867416833708), (2442, 0.016071301169869486), (2463, 0.01606466847379085), (4290, 0.016055984316259396), (4339, 0.01605468037638208), (4685, 0.016045527963406837), (3528, 0.016044800017798712), (893, 0.016041807603453796), (2258, 0.016039055827929544), (409, 0.01603199716836957), (1807, 0.016030961183621167), (4044, 0.01602970111942338), (464, 0.015992981489341564), (2161, 0.015990921133858024), (803, 0.015986318805306342), (3067, 0.015984183822252543), (3237, 0.015981290735503948), (1609, 0.015977265242342952), (472, 0.015976803445918137), (3667, 0.01596461967841001), (898, 0.015952516014496), (3079, 0.015951455071792294), (446, 0.015943923616405477), (4193, 0.015924045988756932), (776, 0.0158928034300772), (94, 0.015887153288173306), (2654, 0.015885067558325448), (4582, 0.015874747217118294), (4322, 0.015868597873207674), (323, 0.01586029301784021), (2682, 0.01585767598201121), (559, 0.015856131997857438), (80, 0.015854754148006328), (2980, 0.015832392188808764), (3495, 0.015827121115656553), (397, 0.01582403531818676), (817, 0.015817637943917138), (1281, 0.01581499134427522), (3247, 0.01580125189702541), (1096, 0.015774922485361262), (2299, 0.015754523626456084), (631, 0.015750689674695628), (119, 0.01573930374400724), (997, 0.015719105609401776), (4335, 0.01570599867025991), (782, 0.01568572719098739), (3046, 0.015677578605473697), (3386, 0.015672048030891225), (79, 0.015668690837366057), (353, 0.015665781245515896), (2698, 0.015649719027303707), (4511, 0.015633996768784804), (1446, 0.015580660483975727), (3346, 0.015570517280824817), (1784, 0.015561242852078857), (164, 0.015555316179488198), (932, 0.015554908671274119), (2087, 0.015539651039678158), (2309, 0.015532081309856158), (2277, 0.015516486948418517), (2572, 0.015486097524841905), (1154, 0.01547501499381711), (1445, 0.01547489405884931), (2831, 0.015445522549407769), (3246, 0.015441974893622899), (4571, 0.01543204060427992), (2809, 0.015428403996311141), (1559, 0.015418630317756966), (1699, 0.015414043219931249), (3826, 0.01541117443738678), (3619, 0.015409407172689432), (3339, 0.01540711951689352), (2678, 0.015398238825642643), (3151, 0.015391743194145536), (4468, 0.015384998057369339), (3733, 0.015378323470685771), (3976, 0.015340193428023768), (2303, 0.015338591722165944), (461, 0.015337746106445508), (1793, 0.015323753960317724), (4257, 0.015320933511476648), (1753, 0.01531714397909928), (4426, 0.015308114249724926), (4365, 0.015303473111857969), (3954, 0.015289205433914342), (2801, 0.015287102155485842), (2103, 0.015271687916665885), (187, 0.015245031107159997), (191, 0.015243335243021128), (2473, 0.015238256410633248), (3784, 0.015237432810078423), (1910, 0.015222178485016936), (1925, 0.015217611353231257), (1523, 0.015216899349141364), (2143, 0.015211740177676793), (3806, 0.015201229918966457), (3160, 0.015197869751441825), (625, 0.015175487924374344), (962, 0.015170438892929586), (756, 0.01516890815791674), (723, 0.015161706603941907), (1710, 0.015155884743475387), (586, 0.015147704624740606), (2541, 0.015128065174550558), (2207, 0.015111237463454451), (1741, 0.015104217724040128), (3776, 0.01509964877024444), (1309, 0.01509728869914447), (1590, 0.015094974208281585), (2757, 0.015093207122125498), (2290, 0.015085570948424883), (1772, 0.015084127255656938), (1546, 0.0150806727641634), (838, 0.015069376599123975), (3829, 0.015064632264005225), (651, 0.01504415352536987), (1120, 0.015041923339737133), (1458, 0.015040455730558245), (966, 0.01503868075305263), (1906, 0.015034656700905208), (734, 0.015027931806772917), (4583, 0.014999944040418729), (3178, 0.014991465559102126), (234, 0.014970209425588975), (3399, 0.014969477285179018), (2353, 0.014955899124883232), (921, 0.014940789211995313), (1650, 0.014924272923760635), (4649, 0.014910583379450337), (4336, 0.01490770030857167), (197, 0.014904051563455586), (2885, 0.014894517085355533), (1020, 0.014890480511364483), (1045, 0.014889222103041349), (1920, 0.014882799208455436), (1206, 0.014878158370954724), (3329, 0.014876232548880635), (2376, 0.014849040971857679), (2812, 0.014845476487435658), (1538, 0.014843736554694294), (639, 0.014834249884924886), (162, 0.014810301793685924), (3405, 0.014798269552728682), (1512, 0.014792271875991338), (449, 0.014790500432875657), (2236, 0.014767812739835007), (738, 0.014763341351869021), (4513, 0.01475858305557757), (307, 0.014723579016661315), (640, 0.014714230035286905), (2639, 0.01470511835731236), (597, 0.0147013606025726), (4603, 0.014665777589449376), (3453, 0.014620093569455504), (314, 0.014610493568961899), (1361, 0.01459378096068907), (183, 0.01455944883221303), (1514, 0.01455264618758884), (3484, 0.014547306461427005), (290, 0.014520598528215387), (2298, 0.01451442430970625), (295, 0.014511964074592536), (2285, 0.014498530506328666), (1477, 0.014495965462517604), (469, 0.014491474907095429), (3580, 0.01447820791311929), (1880, 0.014472617736663147), (1762, 0.014471855907677376), (3389, 0.014457743294500454), (1875, 0.014444074983196728), (1308, 0.014441315871717942), (1553, 0.014435592073049645), (2587, 0.01440334469100375), (3253, 0.014402886807638106), (3944, 0.014392831999344179), (3375, 0.014392613594614169), (3989, 0.014384400701052713), (4482, 0.014375463148080221), (1395, 0.014372952792454369), (3925, 0.014364207104534302), (705, 0.014364029602574824), (1576, 0.014362904211894274), (1690, 0.014352843032863952), (76, 0.014349827602301045), (4205, 0.014330445421928902), (1164, 0.014303080777501483), (289, 0.014290176561637467), (4314, 0.014283630951407252), (2573, 0.014276361924292007), (2975, 0.0142567797258647), (1278, 0.014244106295184609), (3, 0.014202086211659772), (3512, 0.014188398520059181), (294, 0.01418050179608932), (4748, 0.014167615197665118), (1730, 0.014160454600513916), (2942, 0.014155508488644223), (3523, 0.014153659988724093), (2265, 0.014104652587711004), (2490, 0.014059485688898794), (1539, 0.014034811578187228), (3672, 0.014031962873923472), (2078, 0.014007188002303604), (445, 0.01400511757002124), (2326, 0.013908905630834165), (4607, 0.01390552504112848), (1152, 0.013903560934809316), (32, 0.013888833432144587), (1895, 0.013885277352153948), (3096, 0.013880825077284416), (4705, 0.013880599545967775), (4184, 0.0138687272010648), (2529, 0.013866849005972343), (2189, 0.013864596635618428), (2998, 0.01383732079872114), (1136, 0.013836682686819268), (2858, 0.013835623773669974), (2137, 0.01383488222768391), (1743, 0.013822431006026127), (3139, 0.013820700655298456), (1312, 0.013749428415035021), (1331, 0.013747334630567263), (2933, 0.01373372660620055), (924, 0.013724481820979963), (2379, 0.013722944254619925), (3821, 0.013721818696766313), (2722, 0.013708323913883382), (4555, 0.013699615435692257), (242, 0.01367820488178727), (4082, 0.013674580756576725), (60, 0.013666157174898389), (2937, 0.013640080582486171), (3040, 0.013639711444292761), (2764, 0.013629853285162792), (2644, 0.013613004998517734), (3932, 0.013578911077497676), (1833, 0.013557278880667628), (3634, 0.013549423281986401), (2989, 0.013544987724985398), (403, 0.01354032093029297), (3295, 0.013534954432038119), (3052, 0.01349695310283717), (1388, 0.013474303331421331), (1571, 0.01347418816939039), (3356, 0.01347072917569601), (3055, 0.013446870540972827), (2349, 0.013417454192549605), (4017, 0.013410570667180741), (616, 0.013408714039144072), (1764, 0.013408267168253583), (2537, 0.0134074496898384), (1145, 0.013401126974294325), (2211, 0.013400633123046969), (3561, 0.013396851479301175), (2407, 0.01339653903811065), (1401, 0.013368223624942019), (843, 0.013363761293404632), (3579, 0.013343773138350402), (2563, 0.013319313271099927), (2923, 0.013316746579862388), (3990, 0.013314217412581661), (1037, 0.013312214310552222), (2366, 0.013305407495104952), (2404, 0.013297670683198698), (3166, 0.013297326720103721), (3861, 0.01328521972640996), (1125, 0.013279588611744483), (4749, 0.01326487405972145), (77, 0.013264656500957185), (4529, 0.013252808945214469), (3042, 0.013248653666450082), (2603, 0.013247820968034209), (2310, 0.013216124844792265), (814, 0.013169768285483588), (2775, 0.013169222193476774), (3939, 0.013166088132349396), (2251, 0.013161009546555962), (156, 0.013153614749896448), (2870, 0.013151370853722248), (2673, 0.013150383035447199), (2889, 0.013147894886360461), (3030, 0.013142886650205013), (2731, 0.013129628857389549), (2883, 0.013129462268134745), (3410, 0.013119561619174866), (735, 0.013105099310358146), (2861, 0.013103720487489536), (1950, 0.01308899928851477), (2460, 0.013077241149918222), (4172, 0.01307000518846756), (422, 0.013059292122390005), (1144, 0.0130486405268752), (4484, 0.013044481483646606), (3291, 0.013042781872744737), (4221, 0.013021326640415942), (2805, 0.013018939074792376), (231, 0.01301037266380738), (441, 0.013000263199268853), (3878, 0.012994945064748834), (1210, 0.012987246604740554), (4696, 0.012953776349250587), (2628, 0.012944055894121832), (4407, 0.0129337431432018), (309, 0.012933256521952919), (113, 0.0129320005336826), (3051, 0.012925756865689876), (2844, 0.012921493071684845), (2392, 0.0129108949402891), (3292, 0.012908339908239735), (4222, 0.01288770788204505), (3762, 0.012882756017878956), (3958, 0.012845733398507286), (3479, 0.012837001934556388), (4423, 0.012823630577614325), (4019, 0.01281973067438756), (2425, 0.012816920117572938), (4611, 0.012799186919490758), (545, 0.012785610500360763), (63, 0.01278450041903502), (159, 0.012744469710476774), (4202, 0.012736991805626608), (3322, 0.012728962235056571), (889, 0.012728520009820572), (627, 0.012709870705927271), (4230, 0.012673329692141064), (3630, 0.012663043258599519), (4704, 0.012662050192842018), (1747, 0.012659415436290948), (3219, 0.012646763633803825), (2448, 0.01263875627370861), (2832, 0.012629673644635795), (2177, 0.012582348283995673), (3848, 0.01255027594779001), (4151, 0.012543811334365778), (122, 0.0125301553514597), (2199, 0.012481610274404758), (1153, 0.01247683026968554), (3128, 0.012470964841620882), (2257, 0.012469686545277914), (3892, 0.01246602339257821), (1342, 0.012456469992843527), (3354, 0.012455868723522525), (4102, 0.012442896620394509), (526, 0.01244094705433384), (2901, 0.012436969072208096), (906, 0.012397769996824194), (4418, 0.012396193372988848), (1121, 0.01239566103573231), (4652, 0.012395308511619107), (4182, 0.012378276834665544), (1239, 0.012378038248206519), (2559, 0.012375734262479468), (3687, 0.012358250080794608), (4606, 0.01235809048218523), (3282, 0.012356074272269094), (13, 0.012351548840470102), (4692, 0.012351047113034109), (4544, 0.012343346354402584), (3015, 0.012333721183869308), (3152, 0.012328300931879376), (2838, 0.012320146545316515), (1802, 0.012313330973278898), (75, 0.012308741594067356), (1208, 0.01229244787027245), (3239, 0.012283417996256), (3534, 0.012277653215181641), (2557, 0.012272515936721191), (4142, 0.012260315866151018), (3140, 0.012252889527259163), (1654, 0.012248026143098525), (3159, 0.012247346059638115), (3429, 0.012227393582108729), (4107, 0.012219404615542384), (3842, 0.012217798895873192), (3616, 0.012194601516215105), (1376, 0.01218480087114689), (3316, 0.012167554517315037), (3537, 0.012164260000571568), (4400, 0.012154543017474812), (4572, 0.012146195238549321), (3750, 0.012120502592992055), (1293, 0.0121147164190218), (2423, 0.012111911740988072), (3922, 0.012108417857197476), (2957, 0.01210814147709763), (3874, 0.01210266652848403), (3031, 0.012090124426747801), (4306, 0.012046421478091937), (1787, 0.01204313217165599), (3074, 0.012036299186533327), (3358, 0.012016694025604385), (2266, 0.011999779376214093), (1593, 0.011995563648457216), (648, 0.011994336467694494), (2834, 0.011982043894983618), (2454, 0.01195308569631567), (4147, 0.011948145341067588), (611, 0.011947672198956509), (3544, 0.011944590368637657), (2993, 0.011939686594500636), (326, 0.011937569943577265), (2857, 0.011925338508263937), (3020, 0.011913490179544768), (3832, 0.011910100861012718), (777, 0.011897946344072024), (2643, 0.011895969721003817), (1168, 0.01188759160853291), (2052, 0.011882291314954952), (3302, 0.01187927471550265), (3357, 0.011860157511350715), (1988, 0.011836328006248169), (2797, 0.011830790640443765), (3911, 0.011829784012250093), (3620, 0.011827945565150001), (3257, 0.011827370929404158), (2438, 0.011822588645741776), (2488, 0.011813688254862939), (2350, 0.011810592212200002), (3262, 0.011809727593282098), (1306, 0.011788985899451689), (2286, 0.011782690956043966), (1711, 0.011757745535356657), (2619, 0.011755192608028679), (497, 0.011743016644363368), (4280, 0.011734137911515728), (283, 0.011728446535453102), (4298, 0.01171878096565419), (3613, 0.011688237064020616), (1157, 0.011676996248551556), (489, 0.011672103406303936), (3935, 0.011667762203794922), (2613, 0.011665154521304852), (3577, 0.011655962695048207), (4416, 0.01165551095061038), (3206, 0.011647110866240972), (4584, 0.011641302375717338), (4458, 0.01163844560807149), (4694, 0.011634703594273772), (3413, 0.011622342550348608), (2848, 0.011620131408650066), (518, 0.01160885839045982), (2966, 0.01160782065506435), (4030, 0.011590608072017852), (2738, 0.011590394147228391), (2434, 0.011570850059577146), (4521, 0.011564368119250523), (4723, 0.011561560454646059), (3621, 0.011557957838388096), (4075, 0.011555114072983624), (3540, 0.011550268999663044), (2142, 0.011549716060106782), (2005, 0.011544824517819144), (4633, 0.01154374782509872), (1792, 0.011543307449410352), (2895, 0.011530775983459854), (3363, 0.011526642555363528), (4126, 0.01152383502129436), (3884, 0.01152227681202905), (4632, 0.011509962222201518), (3307, 0.011503846916529756), (1169, 0.01149733841494817), (3745, 0.011485561560864844), (1049, 0.011482061687530673), (3729, 0.011477535387131706), (3308, 0.011464803578695058), (3230, 0.011434243611170717), (2987, 0.01143397565177956), (3396, 0.011424061717568514), (431, 0.011423061786312295), (1947, 0.011406602846585446), (2570, 0.011401486715909659), (1870, 0.01139914673040045), (3754, 0.011395554428430436), (2720, 0.011383912118487438), (1187, 0.011382572900910397), (3763, 0.011376062957818338), (4267, 0.011373365161838414), (3359, 0.011367570871508621), (3072, 0.011353456309033068), (2884, 0.01134460434208825), (3337, 0.011339464169469671), (3651, 0.01133115876754155), (4650, 0.01132600600516204), (1714, 0.011321271823027921), (2707, 0.01132037105224878), (3425, 0.011319894773774337), (4596, 0.011318181006739573), (130, 0.01130521261298249), (1497, 0.01130480481294892), (2544, 0.011301670065491093), (508, 0.011301047638981945), (4753, 0.01129508513089055), (4589, 0.01129143311134052), (4507, 0.011289403657872097), (940, 0.011279064681413119), (448, 0.01127809192809961), (3506, 0.011269610030276316), (2320, 0.011269022488199974), (2696, 0.011268456632437925), (3611, 0.011255394189821693), (2924, 0.011243487351133192), (4369, 0.011242668311034806), (3186, 0.011232279383883388), (4717, 0.011226827875742203), (1887, 0.011226136149469103), (3458, 0.011221048253708836), (1090, 0.011221006202484271), (478, 0.011211508307258755), (3364, 0.011194519176388296), (3772, 0.011187801053520165), (235, 0.011181743921736348), (3866, 0.011178728077048153), (2378, 0.011169024175299443), (2872, 0.011164048746809657), (2145, 0.01115668773295582), (3355, 0.01114843444761875), (1310, 0.011146680551833085), (3419, 0.01114262720675109), (4002, 0.011140047856146418), (4243, 0.011129218456557899), (3952, 0.011124410221219514), (2914, 0.011120153196449309), (3296, 0.011119287871061345), (922, 0.011115402056140217), (3165, 0.01110484922039414), (2986, 0.011098224821573879), (985, 0.011098113143986073), (1909, 0.01109734030667968), (1862, 0.011096034737248751), (3081, 0.01109338377266824), (3414, 0.011090494629895978), (2702, 0.011088939624321156), (925, 0.011087554267517055), (308, 0.011079109541225257), (4117, 0.011075985555736209), (3148, 0.011070766125245312), (3737, 0.011063343340885365), (3962, 0.01104511455719118), (444, 0.01103976710833102), (3013, 0.01103181022346826), (2585, 0.011029951282608473), (4397, 0.011027111965426543), (2302, 0.01102352179011687), (3274, 0.011019022049822889), (2437, 0.011006906199667264), (998, 0.011003325713553462), (2223, 0.010998550388310624), (2400, 0.010996526227558822), (999, 0.010994775870078402), (1890, 0.01099460307726705), (3639, 0.010989786302349255), (813, 0.010985260598872712), (4295, 0.010983951971352834), (4713, 0.010977908703788368), (2478, 0.010953685470379825), (3101, 0.010947452958985292), (3593, 0.01094540067049373), (4042, 0.0109443328489517), (4706, 0.010928970986193656), (3003, 0.010927847692300915), (2623, 0.010915756733091416), (3804, 0.010913278883916924), (4333, 0.010912949054691909), (2411, 0.010903395189971892), (3273, 0.010892427747461401), (3877, 0.010882226798755484), (476, 0.010877892953056908), (3560, 0.010876889385092242), (1594, 0.01087412035764298), (3026, 0.01086993482269478), (2629, 0.01084819106166278), (4138, 0.010846432486638559), (2624, 0.010843662426676148), (1349, 0.010843116826626356), (739, 0.010839666879209587), (4051, 0.010837414316502337), (614, 0.010836522869794297), (3497, 0.010827863758603744), (3967, 0.010824828703089512), (4368, 0.010819778519765068), (2415, 0.010818667389865203), (2356, 0.010813863656936696), (4732, 0.01080924489771308), (2293, 0.010802519838538147), (4718, 0.010800010339358984), (2890, 0.010799457222792123), (1805, 0.010797589035735177), (1957, 0.01079290312165128), (4516, 0.010791455792089755), (4308, 0.010791273363533378), (1733, 0.010789522646966514), (596, 0.010786568497618703), (499, 0.01078531684277026), (2108, 0.010784517844193832), (3587, 0.010782695978386426), (1656, 0.010776804233671387), (2176, 0.010770166998658622), (2535, 0.010769948891986635), (41, 0.01076670598835486), (1249, 0.010765254659600482), (587, 0.010764758284290153), (253, 0.010759392069217558), (4259, 0.01075876191344911), (3116, 0.010756232889187301), (4140, 0.010752622317462272), (1748, 0.010748849388554237), (4545, 0.010725370372165902), (1109, 0.010724949642117053), (1959, 0.010721082927863175), (3269, 0.01072099455373592), (2882, 0.010695421018943075), (2507, 0.010691931332187345), (3757, 0.010691590387717798), (2190, 0.01068368108193088), (2974, 0.010676857424840461), (2410, 0.010665230008306568), (4161, 0.010663029511794469), (1479, 0.010662984685799662), (4540, 0.010650246537842334), (3813, 0.010650153104675713), (4245, 0.010649380212075753), (791, 0.010648016023354396), (3183, 0.010646867434346266), (4734, 0.01063804529612019), (1547, 0.010637286847656016), (3915, 0.010636056155840116), (8, 0.010634591946963572), (395, 0.010634536487628413), (1580, 0.010633594379626701), (4113, 0.010626192042505499), (3781, 0.010620362596366562), (2592, 0.01061798701137499), (4495, 0.010617003669319607), (4574, 0.010613171275237077), (2134, 0.010612939851009444), (1905, 0.010602246076140185), (2796, 0.010601333693683943), (4680, 0.010598187189285858), (1848, 0.01059766051676106), (4132, 0.01059667489739245), (3234, 0.010596356446344246), (192, 0.010592509443385497), (3007, 0.010589506024677594), (4130, 0.01058635364484727), (3893, 0.010580486568431264), (2748, 0.010576157220743515), (3258, 0.010575946716662562), (2390, 0.010572028527442141), (3677, 0.01057053307644994), (887, 0.010567013197443171), (4535, 0.010564692588156711), (1637, 0.010560840774230395), (4355, 0.010560326337396644), (4169, 0.010559115847671434), (3987, 0.010557711627402998), (2269, 0.010548225831706023), (4401, 0.010547731482228255), (2786, 0.010543788032858086), (318, 0.010543303210870061), (680, 0.01054212863781911), (4111, 0.01054023980466821), (2830, 0.010537823267521946), (4657, 0.01053506633244054), (2475, 0.010534204624635663), (1409, 0.010533538973217375), (2688, 0.010532009317784318), (857, 0.010516624572189505), (3449, 0.010512897678446431), (2792, 0.010502502257744881), (4528, 0.010497961230696854), (2970, 0.01049572562980571), (4446, 0.010494230056963504), (4505, 0.010493187562368196), (2953, 0.010492994713384161), (2159, 0.010492165975711914), (2288, 0.010485740732938169), (1518, 0.010479539290622376), (4318, 0.010475428573134576), (3714, 0.010469577009346682), (2725, 0.010468024700813983), (2595, 0.010466996927085935), (3271, 0.010465857433307213), (4, 0.010459997774888223), (2661, 0.010447050417658449), (3496, 0.010446139769510508), (2664, 0.010445990772844554), (3084, 0.010444903827848798), (1670, 0.010434407110709717), (2105, 0.010434146635427789), (2776, 0.010434017402527489), (246, 0.010426836169309589), (2393, 0.010425643196172368), (3434, 0.010424802513417646), (1907, 0.010420149534107975), (2419, 0.010415675241729696), (262, 0.010414971503820435), (4263, 0.010412593741459253), (3372, 0.010412086709253573), (3242, 0.010408730705901537), (623, 0.010407855446226478), (538, 0.010407484933759516), (4225, 0.010407101290233206), (612, 0.010404508302311693), (3064, 0.01039684113603135), (2391, 0.01039642725929602), (19, 0.010396291127312348), (3037, 0.010396249900102982), (1402, 0.01039611937871966), (4363, 0.010383782697352593), (3601, 0.010381838925155363), (1439, 0.010380692304829308), (4497, 0.010379835715062657), (20, 0.010370140062752192), (4575, 0.010369823102599493), (3770, 0.01036771594475748), (576, 0.010357156791340754), (4145, 0.010356547619933158), (4083, 0.01035095588663645), (3044, 0.010346670985124188), (3406, 0.010344064950689952), (717, 0.01033938100570171), (12, 0.010332793606582), (2370, 0.010329514441086346), (3184, 0.01032657540790771), (2916, 0.010325798777489665), (4361, 0.010315448226987973), (3678, 0.010313121972139332), (3654, 0.010309368409176652), (3150, 0.010306824374169419), (2772, 0.010299018268009604), (4262, 0.010293815513854625), (1660, 0.010292967652833773), (987, 0.010284193430253627), (57, 0.010283118699856337), (2561, 0.01027799185426562), (1916, 0.010277649616842835), (3235, 0.01027609010348682), (2072, 0.010274326158751653), (419, 0.010273178717237931), (4101, 0.010270271337502395), (3749, 0.010267434753434874), (3388, 0.010262069470091832), (3590, 0.010260635655715396), (3873, 0.010258737607766185), (2385, 0.010258728250707833), (3224, 0.010257238360972936), (3882, 0.010251345771277435), (2888, 0.01025055933812147), (884, 0.010250331005421524), (2610, 0.010248624965594285), (1995, 0.01023860177094307), (4489, 0.010235268972407558), (1324, 0.010230801272065307), (1893, 0.010229398416413382), (3187, 0.01022136775661541), (3636, 0.010218636802921078), (555, 0.010216403776421452), (3889, 0.010213576617863238), (4087, 0.010208941339705074), (74, 0.010207577984738488), (3417, 0.01020583187861207), (4286, 0.01020557634517303), (2911, 0.010205382181145377), (2904, 0.01019930913949631), (2405, 0.010198862649873384), (1683, 0.010197592119061067), (3493, 0.010197311560444991), (1765, 0.01019112305796153), (2319, 0.010187285672796885), (4625, 0.01018224401771052), (1294, 0.010179626580183183), (4420, 0.010179615800866989), (1474, 0.010177889240765686), (2755, 0.010175592778163977), (2148, 0.010170294077896472), (4079, 0.01016637981714638), (890, 0.010162604512438507), (2361, 0.010155091420423314), (1355, 0.01015487418971316), (3314, 0.010154249864003295), (377, 0.010153312705407137), (4566, 0.010147974540464863), (4273, 0.010147635313349111), (1851, 0.010145355717164116), (211, 0.01014221183769076), (3290, 0.010141407077085949), (2609, 0.010139261981638491), (4269, 0.010135052936643305), (2821, 0.010133742697420492), (3353, 0.010124467607038643), (1364, 0.010119918430088193), (4054, 0.010116501811367752), (4340, 0.010115783117624738), (2940, 0.010115638051523723), (2863, 0.01011345364841282), (4471, 0.010102123601615616), (3062, 0.01010076566895878), (3289, 0.010100121089004035), (456, 0.010091446791856465), (4756, 0.010088571031030601), (826, 0.010087568221939548), (1768, 0.010085527810213704), (115, 0.010077883843523039), (3016, 0.010075988222234192), (2230, 0.010074539278113668), (4422, 0.01007363647484395), (865, 0.010072762669809525), (2894, 0.010067062521866009), (933, 0.010065871413611368), (1516, 0.010059788861594107), (2705, 0.010056169678955578), (3113, 0.01005305944990837), (3809, 0.010051553508165056), (3606, 0.01004971569625612), (3283, 0.010039794621170165), (2292, 0.010039011636607992), (4024, 0.01002772390254201), (564, 0.01002047309679263), (2531, 0.010020190712131626), (3527, 0.010019861786572846), (3920, 0.010010652758225248), (1703, 0.010009476492627262), (1574, 0.010008256240609196), (3707, 0.010005720535140296), (4049, 0.010004259611851297), (4197, 0.010002785140343272), (1204, 0.010001430458969804), (872, 0.009999739730066116), (588, 0.009995180225367307), (993, 0.009990777026390693), (2783, 0.009981110724583865), (3526, 0.009980169905347716), (4686, 0.009978409971708003), (2533, 0.009975236016649503), (3739, 0.009966631047950782), (3517, 0.009959594399064424), (198, 0.009956832514586839), (1717, 0.009956832227022079), (1176, 0.009948670575493678), (4419, 0.009948379514403189), (2396, 0.009948236097015412), (2260, 0.00994638504850912), (3341, 0.00994600401868348), (783, 0.009942997026895278), (4334, 0.009939644568154288), (178, 0.009930656600785279), (2192, 0.009928589490272447), (2354, 0.009928273713516829), (4563, 0.00992519575248123), (2397, 0.009920713238394087), (3792, 0.009919964033641931), (3478, 0.009918494016030064), (2746, 0.009918251358518579), (226, 0.009917123186589506), (848, 0.009916928499168996), (3335, 0.009916431928837779), (1822, 0.009914585976502287), (3845, 0.00991179883106328), (4448, 0.009909503473401214), (4427, 0.009907435552856763), (3551, 0.009906014203815804), (4136, 0.009905374427088385), (1122, 0.00990506507918161), (2878, 0.009902835498096686), (66, 0.00989929142491005), (3182, 0.009897142552451842), (11, 0.00989123385542334), (579, 0.009889555000501114), (3902, 0.009888521556403138), (2900, 0.009887203072122704), (1007, 0.009886643211698087), (2340, 0.009884387545995568), (1476, 0.009884261419483746), (71, 0.00988025626704908), (1896, 0.009873546050279389), (3216, 0.009870507450910086), (2853, 0.009869205141862406), (1304, 0.009863666881410675), (1410, 0.009861356026536455), (4409, 0.00986030182067698), (2495, 0.00985960280525391), (1722, 0.009853272008980236), (3542, 0.009846306142649697), (4604, 0.009843333357504296), (1946, 0.009843210435871165), (2387, 0.009839447066138355), (4287, 0.009825875331677027), (1072, 0.009824593224666278), (969, 0.009824444674525614), (2492, 0.009819895697681127), (504, 0.00981787940000551), (1831, 0.009807842408952097), (1298, 0.009806926067807836), (466, 0.009806816587204949), (3381, 0.009801047559169725), (2926, 0.009797896597235019), (4330, 0.00979751647675217), (4320, 0.009793313319850984), (2195, 0.009792386574667411), (2073, 0.00978777182044737), (4501, 0.009781636842962625), (1550, 0.009781446732407809), (3225, 0.009779058807348345), (2826, 0.009778615040773559), (2416, 0.009776621107285517), (1170, 0.009771789638762443), (114, 0.009770173608664305), (3173, 0.009769134690346308), (2060, 0.009762329023364004), (3906, 0.009759900722410416), (3647, 0.00975985648334166), (3441, 0.009756670169737343), (1163, 0.00975659862076294), (1110, 0.009750654011374984), (1411, 0.009746108084007162), (4014, 0.009744262413137085), (4391, 0.00973344451560335), (1533, 0.009733233001566052), (1319, 0.009732589476489554), (490, 0.009724340268880357), (3565, 0.00972367897434688), (4643, 0.009718020614015544), (98, 0.009713828799472005), (2999, 0.009708097835511222), (26, 0.009706499805235224), (2943, 0.009703548130944071), (1100, 0.009700490519457153), (4687, 0.009700101762066364), (3673, 0.009698722785031148), (1891, 0.009691522032050199), (3069, 0.009687834026281204), (1666, 0.009685303623923926), (1617, 0.009684993159646911), (3719, 0.009682973266188834), (3477, 0.00968246236504612), (2083, 0.009677678436153485), (378, 0.009676555391144469), (3412, 0.009675389642932507), (2909, 0.009675365701972985), (2169, 0.009655670270777069), (4020, 0.009653584315509903), (23, 0.009649232762760186), (4530, 0.009647711018840531), (2569, 0.009642138721861057), (2401, 0.009641751898825948), (1026, 0.009638834660427864), (4693, 0.009636882901702315), (2554, 0.009634459177190049), (1313, 0.009624371243711011), (973, 0.009622567740573355), (749, 0.009620232142898193), (1570, 0.009616080935126548), (3491, 0.009612593658046576), (400, 0.00960807031194088), (3093, 0.009606186126508159), (3564, 0.009606102243011448), (1284, 0.009603771103019175), (4129, 0.009603017204335207), (4743, 0.009602445767730623), (4520, 0.009599957486811668), (348, 0.009599771126006322), (3198, 0.009597568823655532), (169, 0.009597023570566753), (541, 0.009596345684209662), (2386, 0.00959584561116803), (1418, 0.009588737827533415), (755, 0.009588061030838771), (3765, 0.009583758987035729), (1882, 0.00958282442041865), (2268, 0.009581854370740375), (871, 0.009577824492535398), (2466, 0.00957758604371644), (1286, 0.009576878880076172), (2313, 0.009576192090426934), (1084, 0.009572369428206717), (1422, 0.009570484953317915), (2945, 0.0095630063481686), (4394, 0.009560733879777409), (1706, 0.009556944790812706), (3445, 0.009552681880718986), (4461, 0.009551433906967662), (4266, 0.009550194912035454), (3348, 0.009548686414163919), (3220, 0.009548555514474102), (3241, 0.00954460776399927), (959, 0.009543573417717348), (3075, 0.009542624488473825), (4573, 0.009541881523960682), (2111, 0.009534435228241097), (3557, 0.009531693072281529), (4357, 0.009530809241857525), (4729, 0.009530417510775381), (4183, 0.00953018295002307), (4381, 0.009525955417339945), (1598, 0.009517244079427948), (3379, 0.009512336350069015), (3890, 0.009511187880901632), (1597, 0.009505415206531895), (1247, 0.009491557866565324), (731, 0.009491242132496814), (2422, 0.009486195592516808), (2141, 0.009483789087624518), (247, 0.009483599733809682), (4567, 0.009483048870793992), (1416, 0.009481796677411489), (1117, 0.009479902555136989), (215, 0.009479393396108144), (4155, 0.009479135585416291), (2612, 0.009467985837261786), (2430, 0.009456777154284552), (3390, 0.009453991691387633), (4550, 0.009444893970702802), (3691, 0.009441763589565166), (4135, 0.00943471605361509), (2652, 0.009432509292898452), (2765, 0.009431853422833703), (4056, 0.009422393831515654), (1877, 0.009417791432705687), (1034, 0.009413042625871356), (767, 0.009412793127338162), (1813, 0.009412701847087418), (1929, 0.009408884840152655), (349, 0.009407604097341373), (2289, 0.00940662503557279), (157, 0.00939987283891367), (3402, 0.009399727725556766), (1350, 0.009399710352056148), (1027, 0.009399420703738132), (4228, 0.009393186492829659), (4036, 0.009392829389940646), (2131, 0.009391511254319411), (2679, 0.009389796449637063), (984, 0.009388378175578263), (2651, 0.009388321745259252), (4213, 0.009385332528373164), (1742, 0.00938253576770753), (3268, 0.009382197590986652), (2226, 0.00938101756759235), (1404, 0.0093799339109873), (2997, 0.009379132713383434), (4069, 0.009378588519887862), (505, 0.009376507191960379), (4206, 0.009375575271732906), (3917, 0.009375063106711861), (1032, 0.009372455418545055), (1969, 0.00937082278577735), (2461, 0.009365440209361916), (1036, 0.009359081388252782), (1378, 0.009357619438796164), (1408, 0.009357410320477053), (3170, 0.009352584536859176), (3615, 0.009344721858920085), (2525, 0.009344265560191372), (646, 0.009341950600614228), (883, 0.009340754749378628), (4472, 0.009336136503079061), (3214, 0.009335477496309823), (2892, 0.009332501347451814), (2571, 0.009331539301011472), (3898, 0.00932984116667028), (4428, 0.009328496725239686), (4085, 0.00931833007448242), (154, 0.009314876536245515), (3057, 0.009309394362994302), (3811, 0.009306072084516009), (488, 0.009305303975433298), (698, 0.00930264909914375), (1663, 0.009299866379293163), (3827, 0.009298534542143808), (4487, 0.009297410918807536), (140, 0.009295867188128117), (3243, 0.00929455594386205), (1002, 0.009285440414041847), (388, 0.009282478384385978), (1131, 0.00928150967283397), (4059, 0.009280481051825372), (2552, 0.009278214441814182), (798, 0.009271557983403306), (507, 0.009269805145529032), (4254, 0.00926962397265903), (4634, 0.009260230392686858), (886, 0.009255593048176703), (2642, 0.009255432566092518), (2067, 0.009255311667199237), (2367, 0.009253087180074289), (229, 0.009252182854538667), (3646, 0.009249456834270708), (127, 0.009246986877012881), (941, 0.009246799435267563), (3298, 0.009245826750831286), (325, 0.0092438085622984), (2117, 0.009243577800304666), (4139, 0.00924300306500938), (2004, 0.00924273396495164), (3300, 0.009241543453279313), (4536, 0.009238237732776738), (2068, 0.009237767351561187), (3194, 0.009233464607877086), (2166, 0.009228567867597513), (487, 0.009226878994694617), (1744, 0.009223523825175033), (1456, 0.009211751408180388), (975, 0.009207095710607448), (2779, 0.00920668623691216), (1641, 0.009203203037651517), (659, 0.009197262203485657), (2129, 0.009196166105778968), (399, 0.009196151107590382), (1693, 0.00918670409225673), (2800, 0.009183526477885517), (2317, 0.009182996370310743), (4356, 0.009182879255690711), (3627, 0.009182851227176034), (1372, 0.009178642569658054), (805, 0.009177644808713355), (2446, 0.009171109459776703), (4616, 0.009168075041135008), (1463, 0.009166874221012354), (3071, 0.009165363315866655), (3503, 0.009165151128017211), (944, 0.009164205953787226), (2735, 0.009163589788653684), (3369, 0.009154755041823238), (221, 0.009150227753268977), (324, 0.009147672132807191), (1558, 0.009144054484443541), (3900, 0.00914184496230244), (1642, 0.009139270363358917), (471, 0.009138936966464147), (1814, 0.009138501896848302), (2528, 0.00913517628472964), (4348, 0.009127369968138503), (2099, 0.009126247377873027), (2907, 0.009123501409213875), (3455, 0.009113303334324273), (2201, 0.009104840893769544), (4011, 0.009103145491430941), (3706, 0.009102202615600713), (854, 0.009100691974532345), (4326, 0.009099767386371384), (2965, 0.009096243123266859), (4277, 0.00909123582329949), (1884, 0.009089866991788435), (4174, 0.009089827037203974), (1672, 0.009086161162279355), (3147, 0.009081361381779686), (3500, 0.009081345266630585), (624, 0.00907860946644354), (589, 0.00907200230944681), (4620, 0.009068870767634794), (372, 0.009062755025953882), (598, 0.009062551745971287), (1434, 0.009062092671370505), (4479, 0.009061870037546861), (4359, 0.009061822018799185), (3641, 0.009059637057604895), (3725, 0.009056944256806594), (3799, 0.00904466445276332), (2453, 0.00904338795091184), (121, 0.009043356724847084), (655, 0.009041389934671275), (1645, 0.009029705778539105), (524, 0.009026942866713005), (1543, 0.009020412196710502), (2954, 0.00901862913420382), (1273, 0.00901562972132838), (907, 0.009004300770731312), (1782, 0.00900040832460661), (373, 0.008999172764603136), (759, 0.008993240798695793), (2728, 0.00899087598555462), (2946, 0.008976890530297424), (1826, 0.008976007365400784), (2242, 0.00897498963982564), (2399, 0.008974150683585879), (410, 0.008972877018472538), (1528, 0.00897198869952931), (3050, 0.008971910895504117), (3953, 0.008968349101296564), (2323, 0.008957887738500534), (2845, 0.00895095390914611), (355, 0.008946396948965442), (473, 0.008937273841293463), (3014, 0.008934692924572657), (3986, 0.008931615118132338), (457, 0.00892940833029829), (1625, 0.008926235929874961), (3863, 0.008920184482193857), (1357, 0.008920155518153923), (1503, 0.008918015090317543), (1869, 0.008911921312767601), (3614, 0.008909413680072547), (2862, 0.008904331151527903), (1079, 0.008903318480448822), (136, 0.008898798991660318), (1004, 0.00889770798193863), (2674, 0.00889730923381243), (2338, 0.008893491652925606), (2593, 0.008877675857465227), (3336, 0.008873933859085343), (4350, 0.008872932693941725), (1921, 0.008871903174420947), (2402, 0.008871873067644314), (4712, 0.008868079685039028), (4304, 0.008867315868641859), (2634, 0.0088652974390458), (1980, 0.008861689029656093), (359, 0.008860711113098631), (1827, 0.008859173180274705), (2163, 0.00885794774616097), (2457, 0.00885561009315269), (268, 0.008854169045809771), (4074, 0.00885338668030143), (2213, 0.008852783696027565), (2976, 0.00885076701886562), (4345, 0.008844051719292825), (1719, 0.008842239507291813), (4638, 0.00883933304923431), (4080, 0.008827595262396192), (1318, 0.008812232175585721), (2741, 0.008803910648690714), (3027, 0.008800527328934634), (3278, 0.008784260576653732), (4343, 0.00878135445627594), (158, 0.008773614439941436), (2591, 0.008773431133755422), (2047, 0.00877295690140302), (416, 0.008762500185551365), (4220, 0.008758275626343086), (594, 0.008754202601466043), (722, 0.008754102484785541), (1954, 0.00875376096752938), (3327, 0.008753615412390033), (2753, 0.00874631118391032), (3380, 0.0087416859088034), (1423, 0.008739702338007933), (1808, 0.008738176932998824), (3755, 0.008733988319843585), (132, 0.008730842329076557), (1605, 0.008722757458497174), (1628, 0.008715495693611842), (647, 0.008711188885929099), (3894, 0.008707447174786918), (249, 0.008707183984927938), (3304, 0.00870165873405367), (1080, 0.00869378723096831), (2556, 0.008676593980705357), (1251, 0.008657822886236169), (4296, 0.008648477695072702), (1161, 0.008648412673165969), (1392, 0.00864517934615237), (1948, 0.00864086045626477), (605, 0.008628016574554554), (3311, 0.008624244871764648), (2482, 0.008619881040756788), (495, 0.008610999347809008), (1219, 0.008610432954501602), (1394, 0.008600428928227748), (3211, 0.008596954464421915), (4247, 0.008571042552954418), (4386, 0.008563785844531926), (1450, 0.008556908185580697), (1301, 0.008546652900522058), (2270, 0.008541558601151467), (856, 0.00853431920200674), (2502, 0.008530658010658465), (3795, 0.008521549672657), (1217, 0.008516271014732166), (703, 0.00851337191858822), (3238, 0.00850811223979532), (2721, 0.008506857796438741), (1366, 0.00850279475291681), (1199, 0.008498010848827224), (4476, 0.008497140572961677), (103, 0.008497062095294378), (3742, 0.008483113527377175), (2747, 0.008475910349523622), (815, 0.008473038558694851), (1691, 0.008473031921220188), (480, 0.008463415834667967), (4473, 0.008454211498008827), (278, 0.008450622043496957), (2146, 0.008449790267209465), (4066, 0.00844800697128528), (432, 0.00844795761448051), (4411, 0.008443060342226893), (1616, 0.008439398873597221), (97, 0.008423257288056386), (4429, 0.0084194019721868), (1943, 0.008416417544457495), (92, 0.008393833464243128), (712, 0.008391928013004363), (3855, 0.008390542356921759), (3200, 0.00837520134947646), (2611, 0.008374384849444062), (1088, 0.008373656848627389), (184, 0.00836269195583601), (3393, 0.00835921781079463), (3668, 0.008354843607805177), (2240, 0.008352528561090224), (1370, 0.008342026444603143), (196, 0.008341602818058133), (1801, 0.008340320282452468), (357, 0.008311384356049022), (1042, 0.00829465055215691), (2382, 0.008288432520296344), (4143, 0.008286956609060925), (626, 0.008276319550391117), (3252, 0.008275612124044327), (195, 0.00825307595128017), (2520, 0.008244185386899404), (286, 0.008237823477018439), (2132, 0.00823774022502807), (901, 0.008226452037897972), (2127, 0.008223763339859412), (2758, 0.008223657938188073), (3569, 0.008212537443750865), (4636, 0.008203982256899034), (165, 0.008194088715303745), (707, 0.008183588354850604), (2359, 0.008183544412816397), (1352, 0.008183195497514967), (4200, 0.008178759441514057), (3056, 0.008170026793930278), (3657, 0.008169839407557156), (3548, 0.008167928612836155), (1340, 0.008162076869076374), (1828, 0.008158334099452815), (267, 0.008153827984245268), (1305, 0.008153468163189683), (1209, 0.008143569685620855), (1565, 0.008142658114475572), (2527, 0.00813930267538585), (2039, 0.008114094688497013), (3928, 0.008113311969086398), (645, 0.008112567520640577), (2287, 0.008085966443958018), (1415, 0.008081881585412953), (3669, 0.00807799092793514), (2034, 0.008075654485924708), (2509, 0.008073996140311358), (3347, 0.008061342207930035), (1427, 0.008054516932954038), (951, 0.008053575357373275), (3024, 0.008041047880652488), (1624, 0.008028086860096616), (4744, 0.008021311467505822), (2743, 0.008006099148119202), (2526, 0.007996386060932103), (4015, 0.007988592889890211), (4311, 0.00798477994737123), (3431, 0.007977139208436778), (2441, 0.007959227447867053), (1830, 0.007940644641229752), (194, 0.007917511598191717), (3538, 0.007891553516841765), (3575, 0.007819187645478464), (4598, 0.007794357002954615), (4626, 0.007713167493994019), (1040, 0.0076839208562263055), (3301, 0.007669503979999845), (1790, 0.007625244299287238), (1677, 0.007603085005839387), (3626, 0.007551084952628706), (607, 0.007506066200298374), (351, 0.007498718964610938), (2766, 0.007497704967421912), (2010, 0.007482439266300843), (2636, 0.007460576026620186), (582, 0.007432044048657679), (453, 0.007407045202629881), (3199, 0.007378746041075503), (228, 0.007360903153387233), (2510, 0.007337049898884642), (3546, 0.0073266801896943665), (4445, 0.007311827764974805), (2902, 0.007309354581391566), (1277, 0.00727598908469481), (2339, 0.007270581687482067), (4301, 0.0072440462073345615), (2873, 0.0071526461389892744), (3039, 0.007150806827877879), (3256, 0.0071189353982644725), (293, 0.007067492649768819), (1583, 0.007016903100089014), (1014, 0.00693425233308543), (4061, 0.0069119724370874025), (3365, 0.006900178201240714), (129, 0.00688697904259572), (4226, 0.00688076159039266), (4752, 0.006877605222480642), (4171, 0.006835216627194898), (1737, 0.006834538569435177), (2244, 0.006828328352877227), (1486, 0.006750353056483049), (1069, 0.006742834538080255), (2101, 0.006731697927167478), (4077, 0.00671445952471703), (232, 0.006665641866429833), (740, 0.0066519387604163345), (4008, 0.00665178674333737), (1718, 0.0066427465211443696), (3008, 0.006626558328348253), (340, 0.006621001857726651), (3515, 0.006609024322703836), (3457, 0.006607462591155154), (3392, 0.006606373542637912), (4196, 0.006603325768651638), (748, 0.0065973640162298565), (4388, 0.006591977186539181), (2726, 0.006591204053029475), (2816, 0.006560189497066134), (3648, 0.006560073071974556), (671, 0.006547235525434075), (2843, 0.006545069859827944), (1425, 0.006521881485072895), (363, 0.006518251970223847), (413, 0.0065072743717498735), (24, 0.0064942134024123495), (202, 0.0064790260173849), (3608, 0.006476606940086688), (752, 0.0064719244358949135), (4351, 0.006456772820462107), (600, 0.006442653420217805), (3632, 0.006440043440615766), (3926, 0.006422526281389703), (1780, 0.0064218959436663885), (3265, 0.006415575323410222), (1644, 0.0064051803500126715), (301, 0.0064051195327751755), (2732, 0.006399304220117178), (758, 0.006394943079746542), (4467, 0.0063888851515660665), (778, 0.0063755196048670415), (4001, 0.006369231033738644), (4738, 0.006344496352694727), (1501, 0.006339504934252113), (1345, 0.006333659674307898), (56, 0.006329704837199853), (1692, 0.006329420558235642), (3033, 0.0063275273891459085), (1849, 0.006313792164590989), (1911, 0.0063024745303464835), (1238, 0.006300254386899665), (131, 0.006299099750086156), (1172, 0.006298425673233023), (2691, 0.006273255934259751), (1867, 0.0062709821396494825), (386, 0.006265110238341677), (2503, 0.006243643085696089), (1329, 0.006242859486021831), (1841, 0.006231701916340946), (4367, 0.006216199109463665), (1094, 0.006215849233750008), (3288, 0.00621455313121616), (1267, 0.006201199508055395), (2335, 0.0061966107703485575), (834, 0.00619453689726811), (3066, 0.0061906439344976), (22, 0.006190311678960567), (1250, 0.006188069027532377), (1374, 0.006185719286532607), (3594, 0.0061829650233005285), (1111, 0.0061754626355778695), (4210, 0.006159365042146146), (1913, 0.006152775499470607), (230, 0.006134359808921729), (1908, 0.00613420496031336), (1526, 0.006130814265906581), (4459, 0.0061205387519212), (3309, 0.006104529350110846), (2056, 0.0060977430556203565), (2708, 0.006069600570329073), (4564, 0.006067511877933203), (3864, 0.006055177485128693), (4099, 0.006035190399951731), (2239, 0.006034849424703714), (1818, 0.006034462006648818), (2202, 0.0060240062356174484), (4217, 0.005995656266927643), (3909, 0.0059872342105649805), (2160, 0.005983595220748358), (3998, 0.0059736178731521926), (1552, 0.005959131726407851), (521, 0.005955568287230683), (1746, 0.005935990789152297), (2095, 0.005930779392041798), (300, 0.005926419866634894), (835, 0.0059219391444576), (3566, 0.005912935439857246), (4303, 0.005907843141101899), (1307, 0.005882590264327619), (2203, 0.00587318356359821), (4236, 0.005866799071726428), (958, 0.005866681593610444), (1327, 0.00585550245102526), (35, 0.005853950557521999), (4342, 0.005828809724812344), (263, 0.005821350957486568), (3244, 0.00580718778982535), (248, 0.005801325813001034), (2175, 0.00579642066236731), (9, 0.00578905225349276), (2205, 0.005756487774047254), (583, 0.005752249032855361), (568, 0.005748499160589946), (1715, 0.005731659075855544), (4009, 0.005730487624240269), (475, 0.0057271915069296315), (1903, 0.005725454410990189), (3825, 0.0056740850769636956), (2156, 0.005670588033024915), (2185, 0.005662627268077337), (3114, 0.005658320677867995), (4055, 0.005650799300905016), (1664, 0.00564799683610714), (2058, 0.005621703643127541), (4057, 0.005590332494120383), (3598, 0.005590196582425913), (821, 0.0055717757355093775), (3509, 0.005571463077651159), (4385, 0.0055511121670638805), (2426, 0.005537598280396856), (3865, 0.005521062087328357), (3748, 0.0055138320522957985), (1863, 0.005509106958747277), (1684, 0.005499886071632044), (2098, 0.005493712141567323), (3164, 0.005439291246596025), (4110, 0.005386637630732318), (2935, 0.00538517047520313), (2291, 0.005381331947958876), (1316, 0.0053316789934473256), (177, 0.005296154522642342), (3752, 0.00524442666585779), (2665, 0.005204246232571471), (3940, 0.005199645868531219), (1695, 0.005157021936911473), (1453, 0.00513582774391839), (2439, 0.005095757043250282), (4726, 0.005088273327522723), (2774, 0.005071578762582557), (477, 0.00505806377329096), (2113, 0.005003411350854932), (2022, 0.004999989034036302), (168, 0.004885924559747544), (4373, 0.004753599223486513), (414, 0.004742970641961605), (2064, 0.004735842829034941), (561, 0.00466037906713981), (3205, 0.004628449089587722), (336, 0.0045466036080255585), (3563, 0.004517370963091945), (2534, 0.004404100776327797), (2660, 0.004185097177102045), (1, 0.0), (2, 0.0), (14, 0.0), (17, 0.0), (28, 0.0), (36, 0.0), (37, 0.0), (49, 0.0), (53, 0.0), (54, 0.0), (55, 0.0), (58, 0.0), (59, 0.0), (64, 0.0), (73, 0.0), (91, 0.0), (100, 0.0), (101, 0.0), (117, 0.0), (133, 0.0), (134, 0.0), (141, 0.0), (146, 0.0), (150, 0.0), (151, 0.0), (153, 0.0), (163, 0.0), (171, 0.0), (186, 0.0), (188, 0.0), (205, 0.0), (214, 0.0), (219, 0.0), (223, 0.0), (225, 0.0), (237, 0.0), (245, 0.0), (258, 0.0), (259, 0.0), (264, 0.0), (265, 0.0), (272, 0.0), (275, 0.0), (297, 0.0), (298, 0.0), (299, 0.0), (302, 0.0), (312, 0.0), (319, 0.0), (331, 0.0), (335, 0.0), (337, 0.0), (338, 0.0), (339, 0.0), (344, 0.0), (352, 0.0), (361, 0.0), (362, 0.0), (365, 0.0), (366, 0.0), (376, 0.0), (379, 0.0), (382, 0.0), (390, 0.0), (391, 0.0), (392, 0.0), (393, 0.0), (394, 0.0), (401, 0.0), (404, 0.0), (405, 0.0), (411, 0.0), (415, 0.0), (423, 0.0), (427, 0.0), (439, 0.0), (440, 0.0), (454, 0.0), (484, 0.0), (486, 0.0), (491, 0.0), (492, 0.0), (498, 0.0), (506, 0.0), (516, 0.0), (517, 0.0), (520, 0.0), (525, 0.0), (528, 0.0), (529, 0.0), (531, 0.0), (535, 0.0), (536, 0.0), (546, 0.0), (548, 0.0), (549, 0.0), (552, 0.0), (554, 0.0), (556, 0.0), (557, 0.0), (565, 0.0), (567, 0.0), (569, 0.0), (570, 0.0), (572, 0.0), (573, 0.0), (574, 0.0), (575, 0.0), (577, 0.0), (585, 0.0), (591, 0.0), (592, 0.0), (599, 0.0), (601, 0.0), (602, 0.0), (603, 0.0), (610, 0.0), (630, 0.0), (649, 0.0), (650, 0.0), (656, 0.0), (658, 0.0), (662, 0.0), (663, 0.0), (665, 0.0), (674, 0.0), (679, 0.0), (681, 0.0), (686, 0.0), (699, 0.0), (700, 0.0), (702, 0.0), (704, 0.0), (708, 0.0), (709, 0.0), (711, 0.0), (713, 0.0), (714, 0.0), (718, 0.0), (720, 0.0), (724, 0.0), (725, 0.0), (726, 0.0), (730, 0.0), (736, 0.0), (741, 0.0), (746, 0.0), (747, 0.0), (751, 0.0), (754, 0.0), (764, 0.0), (770, 0.0), (771, 0.0), (772, 0.0), (773, 0.0), (780, 0.0), (781, 0.0), (784, 0.0), (785, 0.0), (786, 0.0), (789, 0.0), (797, 0.0), (807, 0.0), (819, 0.0), (820, 0.0), (822, 0.0), (837, 0.0), (839, 0.0), (840, 0.0), (841, 0.0), (846, 0.0), (859, 0.0), (881, 0.0), (882, 0.0), (892, 0.0), (909, 0.0), (912, 0.0), (913, 0.0), (914, 0.0), (920, 0.0), (926, 0.0), (938, 0.0), (943, 0.0), (945, 0.0), (946, 0.0), (950, 0.0), (954, 0.0), (955, 0.0), (956, 0.0), (960, 0.0), (961, 0.0), (964, 0.0), (965, 0.0), (971, 0.0), (972, 0.0), (977, 0.0), (978, 0.0), (982, 0.0), (983, 0.0), (990, 0.0), (995, 0.0), (1008, 0.0), (1010, 0.0), (1011, 0.0), (1013, 0.0), (1016, 0.0), (1022, 0.0), (1025, 0.0), (1028, 0.0), (1029, 0.0), (1031, 0.0), (1038, 0.0), (1039, 0.0), (1051, 0.0), (1055, 0.0), (1056, 0.0), (1062, 0.0), (1066, 0.0), (1067, 0.0), (1073, 0.0), (1081, 0.0), (1086, 0.0), (1089, 0.0), (1091, 0.0), (1093, 0.0), (1097, 0.0), (1101, 0.0), (1103, 0.0), (1105, 0.0), (1106, 0.0), (1108, 0.0), (1113, 0.0), (1126, 0.0), (1130, 0.0), (1133, 0.0), (1135, 0.0), (1139, 0.0), (1142, 0.0), (1143, 0.0), (1147, 0.0), (1149, 0.0), (1151, 0.0), (1155, 0.0), (1156, 0.0), (1159, 0.0), (1165, 0.0), (1166, 0.0), (1171, 0.0), (1178, 0.0), (1180, 0.0), (1189, 0.0), (1190, 0.0), (1193, 0.0), (1196, 0.0), (1198, 0.0), (1200, 0.0), (1201, 0.0), (1212, 0.0), (1218, 0.0), (1221, 0.0), (1222, 0.0), (1227, 0.0), (1228, 0.0), (1233, 0.0), (1235, 0.0), (1240, 0.0), (1242, 0.0), (1244, 0.0), (1246, 0.0), (1253, 0.0), (1256, 0.0), (1258, 0.0), (1263, 0.0), (1265, 0.0), (1268, 0.0), (1269, 0.0), (1271, 0.0), (1285, 0.0), (1287, 0.0), (1288, 0.0), (1289, 0.0), (1291, 0.0), (1295, 0.0), (1296, 0.0), (1297, 0.0), (1299, 0.0), (1315, 0.0), (1321, 0.0), (1322, 0.0), (1323, 0.0), (1326, 0.0), (1328, 0.0), (1333, 0.0), (1336, 0.0), (1346, 0.0), (1353, 0.0), (1354, 0.0), (1368, 0.0), (1373, 0.0), (1390, 0.0), (1399, 0.0), (1424, 0.0), (1437, 0.0), (1441, 0.0), (1444, 0.0), (1447, 0.0), (1457, 0.0), (1459, 0.0), (1460, 0.0), (1466, 0.0), (1467, 0.0), (1468, 0.0), (1470, 0.0), (1473, 0.0), (1485, 0.0), (1487, 0.0), (1490, 0.0), (1491, 0.0), (1495, 0.0), (1496, 0.0), (1508, 0.0), (1511, 0.0), (1517, 0.0), (1520, 0.0), (1521, 0.0), (1522, 0.0), (1524, 0.0), (1525, 0.0), (1529, 0.0), (1532, 0.0), (1534, 0.0), (1535, 0.0), (1541, 0.0), (1545, 0.0), (1548, 0.0), (1549, 0.0), (1556, 0.0), (1557, 0.0), (1561, 0.0), (1563, 0.0), (1564, 0.0), (1569, 0.0), (1577, 0.0), (1578, 0.0), (1581, 0.0), (1584, 0.0), (1586, 0.0), (1589, 0.0), (1592, 0.0), (1596, 0.0), (1599, 0.0), (1600, 0.0), (1601, 0.0), (1602, 0.0), (1603, 0.0), (1604, 0.0), (1606, 0.0), (1607, 0.0), (1610, 0.0), (1611, 0.0), (1613, 0.0), (1615, 0.0), (1618, 0.0), (1626, 0.0), (1636, 0.0), (1638, 0.0), (1639, 0.0), (1640, 0.0), (1646, 0.0), (1649, 0.0), (1651, 0.0), (1668, 0.0), (1669, 0.0), (1673, 0.0), (1679, 0.0), (1686, 0.0), (1689, 0.0), (1697, 0.0), (1698, 0.0), (1700, 0.0), (1704, 0.0), (1709, 0.0), (1725, 0.0), (1726, 0.0), (1728, 0.0), (1729, 0.0), (1731, 0.0), (1734, 0.0), (1745, 0.0), (1751, 0.0), (1755, 0.0), (1756, 0.0), (1758, 0.0), (1766, 0.0), (1767, 0.0), (1769, 0.0), (1771, 0.0), (1775, 0.0), (1777, 0.0), (1778, 0.0), (1783, 0.0), (1785, 0.0), (1786, 0.0), (1794, 0.0), (1800, 0.0), (1803, 0.0), (1804, 0.0), (1810, 0.0), (1820, 0.0), (1823, 0.0), (1824, 0.0), (1825, 0.0), (1834, 0.0), (1835, 0.0), (1836, 0.0), (1839, 0.0), (1842, 0.0), (1844, 0.0), (1855, 0.0), (1856, 0.0), (1879, 0.0), (1883, 0.0), (1888, 0.0), (1889, 0.0), (1894, 0.0), (1898, 0.0), (1899, 0.0), (1912, 0.0), (1915, 0.0), (1917, 0.0), (1926, 0.0), (1928, 0.0), (1932, 0.0), (1938, 0.0), (1944, 0.0), (1955, 0.0), (1956, 0.0), (1961, 0.0), (1963, 0.0), (1965, 0.0), (1966, 0.0), (1972, 0.0), (1974, 0.0), (1978, 0.0), (1979, 0.0), (1984, 0.0), (2001, 0.0), (2002, 0.0), (2003, 0.0), (2006, 0.0), (2007, 0.0), (2009, 0.0), (2017, 0.0), (2019, 0.0), (2021, 0.0), (2025, 0.0), (2028, 0.0), (2030, 0.0), (2032, 0.0), (2033, 0.0), (2036, 0.0), (2038, 0.0), (2041, 0.0), (2042, 0.0), (2043, 0.0), (2046, 0.0), (2050, 0.0), (2054, 0.0), (2059, 0.0), (2063, 0.0), (2071, 0.0), (2079, 0.0), (2081, 0.0), (2085, 0.0), (2086, 0.0), (2090, 0.0), (2092, 0.0), (2106, 0.0), (2107, 0.0), (2115, 0.0), (2118, 0.0), (2120, 0.0), (2124, 0.0), (2125, 0.0), (2128, 0.0), (2135, 0.0), (2138, 0.0), (2140, 0.0), (2150, 0.0), (2152, 0.0), (2153, 0.0), (2164, 0.0), (2165, 0.0), (2168, 0.0), (2170, 0.0), (2171, 0.0), (2172, 0.0), (2179, 0.0), (2180, 0.0), (2182, 0.0), (2183, 0.0), (2186, 0.0), (2194, 0.0), (2200, 0.0), (2204, 0.0), (2215, 0.0), (2217, 0.0), (2218, 0.0), (2219, 0.0), (2220, 0.0), (2222, 0.0), (2225, 0.0), (2227, 0.0), (2233, 0.0), (2234, 0.0), (2238, 0.0), (2241, 0.0), (2243, 0.0), (2247, 0.0), (2249, 0.0), (2253, 0.0), (2256, 0.0), (2259, 0.0), (2261, 0.0), (2262, 0.0), (2263, 0.0), (2267, 0.0), (2271, 0.0), (2272, 0.0), (2274, 0.0), (2281, 0.0), (2282, 0.0), (2296, 0.0), (2297, 0.0), (2300, 0.0), (2305, 0.0), (2307, 0.0), (2311, 0.0), (2312, 0.0), (2315, 0.0), (2322, 0.0), (2325, 0.0), (2327, 0.0), (2329, 0.0), (2331, 0.0), (2332, 0.0), (2333, 0.0), (2337, 0.0), (2341, 0.0), (2342, 0.0), (2345, 0.0), (2351, 0.0), (2352, 0.0), (2357, 0.0), (2360, 0.0), (2364, 0.0), (2369, 0.0), (2372, 0.0), (2373, 0.0), (2377, 0.0), (2380, 0.0), (2381, 0.0), (2384, 0.0), (2389, 0.0), (2395, 0.0), (2398, 0.0), (2409, 0.0), (2414, 0.0), (2420, 0.0), (2431, 0.0), (2433, 0.0), (2435, 0.0), (2445, 0.0), (2450, 0.0), (2451, 0.0), (2452, 0.0), (2455, 0.0), (2456, 0.0), (2458, 0.0), (2462, 0.0), (2465, 0.0), (2470, 0.0), (2471, 0.0), (2472, 0.0), (2479, 0.0), (2483, 0.0), (2485, 0.0), (2491, 0.0), (2493, 0.0), (2497, 0.0), (2498, 0.0), (2499, 0.0), (2500, 0.0), (2504, 0.0), (2508, 0.0), (2511, 0.0), (2514, 0.0), (2515, 0.0), (2516, 0.0), (2518, 0.0), (2521, 0.0), (2523, 0.0), (2532, 0.0), (2536, 0.0), (2539, 0.0), (2542, 0.0), (2543, 0.0), (2547, 0.0), (2548, 0.0), (2549, 0.0), (2551, 0.0), (2562, 0.0), (2564, 0.0), (2566, 0.0), (2574, 0.0), (2575, 0.0), (2577, 0.0), (2578, 0.0), (2583, 0.0), (2584, 0.0), (2586, 0.0), (2588, 0.0), (2589, 0.0), (2590, 0.0), (2594, 0.0), (2596, 0.0), (2597, 0.0), (2604, 0.0), (2605, 0.0), (2608, 0.0), (2615, 0.0), (2616, 0.0), (2620, 0.0), (2627, 0.0), (2631, 0.0), (2637, 0.0), (2641, 0.0), (2648, 0.0), (2656, 0.0), (2657, 0.0), (2658, 0.0), (2659, 0.0), (2662, 0.0), (2663, 0.0), (2666, 0.0), (2667, 0.0), (2669, 0.0), (2670, 0.0), (2671, 0.0), (2672, 0.0), (2675, 0.0), (2676, 0.0), (2677, 0.0), (2681, 0.0), (2684, 0.0), (2685, 0.0), (2686, 0.0), (2690, 0.0), (2693, 0.0), (2701, 0.0), (2703, 0.0), (2704, 0.0), (2709, 0.0), (2715, 0.0), (2717, 0.0), (2719, 0.0), (2729, 0.0), (2730, 0.0), (2734, 0.0), (2737, 0.0), (2749, 0.0), (2750, 0.0), (2754, 0.0), (2756, 0.0), (2763, 0.0), (2770, 0.0), (2773, 0.0), (2781, 0.0), (2785, 0.0), (2793, 0.0), (2794, 0.0), (2799, 0.0), (2804, 0.0), (2806, 0.0), (2810, 0.0), (2811, 0.0), (2813, 0.0), (2814, 0.0), (2817, 0.0), (2818, 0.0), (2824, 0.0), (2827, 0.0), (2828, 0.0), (2829, 0.0), (2835, 0.0), (2836, 0.0), (2837, 0.0), (2839, 0.0), (2842, 0.0), (2850, 0.0), (2851, 0.0), (2852, 0.0), (2855, 0.0), (2856, 0.0), (2860, 0.0), (2864, 0.0), (2865, 0.0), (2866, 0.0), (2875, 0.0), (2877, 0.0), (2880, 0.0), (2891, 0.0), (2896, 0.0), (2898, 0.0), (2905, 0.0), (2906, 0.0), (2921, 0.0), (2922, 0.0), (2927, 0.0), (2928, 0.0), (2930, 0.0), (2938, 0.0), (2941, 0.0), (2951, 0.0), (2952, 0.0), (2955, 0.0), (2956, 0.0), (2958, 0.0), (2967, 0.0), (2968, 0.0), (2973, 0.0), (2979, 0.0), (2982, 0.0), (2983, 0.0), (2990, 0.0), (3001, 0.0), (3002, 0.0), (3006, 0.0), (3009, 0.0), (3021, 0.0), (3025, 0.0), (3029, 0.0), (3034, 0.0), (3038, 0.0), (3041, 0.0), (3047, 0.0), (3048, 0.0), (3054, 0.0), (3058, 0.0), (3059, 0.0), (3060, 0.0), (3061, 0.0), (3063, 0.0), (3073, 0.0), (3077, 0.0), (3078, 0.0), (3080, 0.0), (3082, 0.0), (3087, 0.0), (3088, 0.0), (3089, 0.0), (3090, 0.0), (3092, 0.0), (3103, 0.0), (3104, 0.0), (3105, 0.0), (3106, 0.0), (3107, 0.0), (3109, 0.0), (3115, 0.0), (3121, 0.0), (3130, 0.0), (3132, 0.0), (3138, 0.0), (3141, 0.0), (3145, 0.0), (3162, 0.0), (3169, 0.0), (3172, 0.0), (3175, 0.0), (3176, 0.0), (3177, 0.0), (3181, 0.0), (3188, 0.0), (3189, 0.0), (3190, 0.0), (3193, 0.0), (3197, 0.0), (3201, 0.0), (3202, 0.0), (3204, 0.0), (3207, 0.0), (3208, 0.0), (3212, 0.0), (3217, 0.0), (3221, 0.0), (3223, 0.0), (3229, 0.0), (3231, 0.0), (3236, 0.0), (3250, 0.0), (3251, 0.0), (3261, 0.0), (3266, 0.0), (3270, 0.0), (3272, 0.0), (3277, 0.0), (3281, 0.0), (3286, 0.0), (3287, 0.0), (3305, 0.0), (3310, 0.0), (3320, 0.0), (3321, 0.0), (3323, 0.0), (3324, 0.0), (3332, 0.0), (3333, 0.0), (3340, 0.0), (3343, 0.0), (3350, 0.0), (3366, 0.0), (3368, 0.0), (3371, 0.0), (3378, 0.0), (3383, 0.0), (3394, 0.0), (3397, 0.0), (3400, 0.0), (3401, 0.0), (3411, 0.0), (3415, 0.0), (3422, 0.0), (3424, 0.0), (3439, 0.0), (3442, 0.0), (3444, 0.0), (3454, 0.0), (3459, 0.0), (3461, 0.0), (3467, 0.0), (3472, 0.0), (3473, 0.0), (3475, 0.0), (3476, 0.0), (3481, 0.0), (3482, 0.0), (3485, 0.0), (3489, 0.0), (3490, 0.0), (3494, 0.0), (3505, 0.0), (3510, 0.0), (3519, 0.0), (3522, 0.0), (3525, 0.0), (3529, 0.0), (3530, 0.0), (3532, 0.0), (3533, 0.0), (3539, 0.0), (3543, 0.0), (3545, 0.0), (3547, 0.0), (3549, 0.0), (3550, 0.0), (3554, 0.0), (3562, 0.0), (3567, 0.0), (3568, 0.0), (3578, 0.0), (3581, 0.0), (3585, 0.0), (3589, 0.0), (3591, 0.0), (3592, 0.0), (3595, 0.0), (3600, 0.0), (3603, 0.0), (3607, 0.0), (3609, 0.0), (3610, 0.0), (3617, 0.0), (3622, 0.0), (3625, 0.0), (3628, 0.0), (3631, 0.0), (3633, 0.0), (3644, 0.0), (3649, 0.0), (3650, 0.0), (3662, 0.0), (3663, 0.0), (3671, 0.0), (3676, 0.0), (3681, 0.0), (3682, 0.0), (3683, 0.0), (3685, 0.0), (3686, 0.0), (3690, 0.0), (3693, 0.0), (3695, 0.0), (3697, 0.0), (3698, 0.0), (3700, 0.0), (3702, 0.0), (3703, 0.0), (3709, 0.0), (3712, 0.0), (3716, 0.0), (3717, 0.0), (3718, 0.0), (3722, 0.0), (3724, 0.0), (3726, 0.0), (3730, 0.0), (3732, 0.0), (3735, 0.0), (3736, 0.0), (3738, 0.0), (3740, 0.0), (3743, 0.0), (3758, 0.0), (3759, 0.0), (3760, 0.0), (3761, 0.0), (3764, 0.0), (3783, 0.0), (3785, 0.0), (3786, 0.0), (3789, 0.0), (3790, 0.0), (3791, 0.0), (3796, 0.0), (3798, 0.0), (3800, 0.0), (3803, 0.0), (3805, 0.0), (3808, 0.0), (3812, 0.0), (3816, 0.0), (3817, 0.0), (3818, 0.0), (3820, 0.0), (3830, 0.0), (3831, 0.0), (3834, 0.0), (3836, 0.0), (3837, 0.0), (3838, 0.0), (3840, 0.0), (3843, 0.0), (3846, 0.0), (3847, 0.0), (3851, 0.0), (3856, 0.0), (3858, 0.0), (3859, 0.0), (3869, 0.0), (3870, 0.0), (3879, 0.0), (3885, 0.0), (3887, 0.0), (3896, 0.0), (3912, 0.0), (3914, 0.0), (3918, 0.0), (3921, 0.0), (3929, 0.0), (3930, 0.0), (3931, 0.0), (3933, 0.0), (3936, 0.0), (3937, 0.0), (3943, 0.0), (3948, 0.0), (3950, 0.0), (3964, 0.0), (3965, 0.0), (3968, 0.0), (3969, 0.0), (3971, 0.0), (3972, 0.0), (3977, 0.0), (3979, 0.0), (3980, 0.0), (3981, 0.0), (3982, 0.0), (3985, 0.0), (3988, 0.0), (3991, 0.0), (3994, 0.0), (3996, 0.0), (4003, 0.0), (4006, 0.0), (4010, 0.0), (4018, 0.0), (4021, 0.0), (4022, 0.0), (4026, 0.0), (4027, 0.0), (4029, 0.0), (4031, 0.0), (4034, 0.0), (4037, 0.0), (4040, 0.0), (4041, 0.0), (4058, 0.0), (4063, 0.0), (4065, 0.0), (4067, 0.0), (4070, 0.0), (4072, 0.0), (4073, 0.0), (4078, 0.0), (4084, 0.0), (4086, 0.0), (4097, 0.0), (4100, 0.0), (4108, 0.0), (4109, 0.0), (4112, 0.0), (4114, 0.0), (4115, 0.0), (4125, 0.0), (4127, 0.0), (4131, 0.0), (4144, 0.0), (4146, 0.0), (4150, 0.0), (4153, 0.0), (4157, 0.0), (4159, 0.0), (4166, 0.0), (4167, 0.0), (4168, 0.0), (4170, 0.0), (4173, 0.0), (4179, 0.0), (4180, 0.0), (4181, 0.0), (4185, 0.0), (4186, 0.0), (4188, 0.0), (4190, 0.0), (4191, 0.0), (4194, 0.0), (4198, 0.0), (4199, 0.0), (4201, 0.0), (4204, 0.0), (4207, 0.0), (4212, 0.0), (4214, 0.0), (4215, 0.0), (4218, 0.0), (4223, 0.0), (4224, 0.0), (4229, 0.0), (4234, 0.0), (4237, 0.0), (4238, 0.0), (4239, 0.0), (4241, 0.0), (4250, 0.0), (4253, 0.0), (4256, 0.0), (4258, 0.0), (4260, 0.0), (4270, 0.0), (4271, 0.0), (4276, 0.0), (4278, 0.0), (4279, 0.0), (4291, 0.0), (4297, 0.0), (4300, 0.0), (4302, 0.0), (4305, 0.0), (4313, 0.0), (4315, 0.0), (4316, 0.0), (4317, 0.0), (4319, 0.0), (4323, 0.0), (4324, 0.0), (4327, 0.0), (4329, 0.0), (4332, 0.0), (4338, 0.0), (4341, 0.0), (4346, 0.0), (4347, 0.0), (4352, 0.0), (4353, 0.0), (4358, 0.0), (4364, 0.0), (4370, 0.0), (4372, 0.0), (4393, 0.0), (4404, 0.0), (4405, 0.0), (4406, 0.0), (4408, 0.0), (4410, 0.0), (4413, 0.0), (4414, 0.0), (4415, 0.0), (4417, 0.0), (4421, 0.0), (4424, 0.0), (4425, 0.0), (4433, 0.0), (4434, 0.0), (4437, 0.0), (4439, 0.0), (4447, 0.0), (4449, 0.0), (4451, 0.0), (4453, 0.0), (4454, 0.0), (4455, 0.0), (4457, 0.0), (4460, 0.0), (4463, 0.0), (4478, 0.0), (4480, 0.0), (4483, 0.0), (4485, 0.0), (4491, 0.0), (4493, 0.0), (4496, 0.0), (4498, 0.0), (4499, 0.0), (4500, 0.0), (4506, 0.0), (4508, 0.0), (4509, 0.0), (4519, 0.0), (4525, 0.0), (4526, 0.0), (4532, 0.0), (4539, 0.0), (4541, 0.0), (4542, 0.0), (4547, 0.0), (4549, 0.0), (4556, 0.0), (4558, 0.0), (4559, 0.0), (4560, 0.0), (4561, 0.0), (4562, 0.0), (4565, 0.0), (4568, 0.0), (4569, 0.0), (4570, 0.0), (4577, 0.0), (4578, 0.0), (4580, 0.0), (4592, 0.0), (4597, 0.0), (4599, 0.0), (4600, 0.0), (4609, 0.0), (4613, 0.0), (4615, 0.0), (4618, 0.0), (4622, 0.0), (4628, 0.0), (4631, 0.0), (4635, 0.0), (4644, 0.0), (4647, 0.0), (4648, 0.0), (4651, 0.0), (4654, 0.0), (4655, 0.0), (4662, 0.0), (4667, 0.0), (4671, 0.0), (4672, 0.0), (4675, 0.0), (4676, 0.0), (4681, 0.0), (4683, 0.0), (4688, 0.0), (4690, 0.0), (4700, 0.0), (4702, 0.0), (4711, 0.0), (4714, 0.0), (4716, 0.0), (4720, 0.0), (4725, 0.0), (4728, 0.0), (4730, 0.0), (4736, 0.0), (4737, 0.0), (4740, 0.0), (4741, 0.0), (4742, 0.0), (4745, 0.0), (4750, 0.0), (4751, 0.0), (4754, 0.0), (4755, 0.0), (4758, 0.0), (4759, 0.0)]\n"
          ]
        }
      ]
    },
    {
      "cell_type": "code",
      "source": [
        "#print the name of similar movies based on the index\n",
        "\n",
        "print('Top 30 movies suggested for you :  \\n')\n",
        "\n",
        "i=1\n",
        "\n",
        "for movie in Sorted_Similar_Movies:\n",
        "  index=movie[0]\n",
        "  title_from_index = df[df.index==index]['Movie_Title'].values[0]\n",
        "  if(i<31):\n",
        "    print(i, ' - ' , title_from_index)\n",
        "    i+=1"
      ],
      "metadata": {
        "colab": {
          "base_uri": "https://localhost:8080/"
        },
        "id": "B9Uq9-m82QS5",
        "outputId": "d8a3e30a-9166-4a33-98cb-1162bdd20aab"
      },
      "execution_count": null,
      "outputs": [
        {
          "output_type": "stream",
          "name": "stdout",
          "text": [
            "Top 30 movies suggested for you :  \n",
            "\n",
            "1  -  Niagara\n",
            "2  -  Harry Brown\n",
            "3  -  Caravans\n",
            "4  -  Sabotage\n",
            "5  -  The Dark Knight Rises\n",
            "6  -  My Week with Marilyn\n",
            "7  -  The Curse of Downers Grove\n",
            "8  -  Brokeback Mountain\n",
            "9  -  The Juror\n",
            "10  -  Out of Time\n",
            "11  -  Premium Rush\n",
            "12  -  The Boy Next Door\n",
            "13  -  Edge of Darkness\n",
            "14  -  Enough\n",
            "15  -  Eye for an Eye\n",
            "16  -  The Raid\n",
            "17  -  Savages\n",
            "18  -  Dutch Kills\n",
            "19  -  The Bank Job\n",
            "20  -  Prisoners\n",
            "21  -  To Kill a Mockingbird\n",
            "22  -  Night of the Living Dead\n",
            "23  -  Butterfly on a Wheel\n",
            "24  -  I Spit on Your Grave\n",
            "25  -  Sicario\n",
            "26  -  Man on Wire\n",
            "27  -  Ocean's Thirteen\n",
            "28  -  Kill the Messenger\n",
            "29  -  Payback\n",
            "30  -  Back to the Future\n"
          ]
        }
      ]
    },
    {
      "cell_type": "markdown",
      "source": [
        "***Top 10 Movie Reccomendation System ***"
      ],
      "metadata": {
        "id": "-LXOYdRP4WAm"
      }
    },
    {
      "cell_type": "code",
      "source": [
        "Movie_Name = input('Enter your favourite Movie Name : ')\n",
        "\n",
        "list_of_all_titles = df['Movie_Title'].tolist()\n",
        "\n",
        "Find_close_match = difflib.get_close_matches(Movie_Name , list_of_all_titles)\n",
        "\n",
        "Close_Match = Find_close_match[0]\n",
        "\n",
        "Index_of_Movie = df[df.Movie_Title == Close_Match]['Movie_ID'].values[0]\n",
        "\n",
        "Recommendation_Score = list(enumerate(Similarity_Score[Index_of_Movie]))\n",
        "\n",
        "Sorted_Similar_Movies = sorted(Recommendation_Score , key=lambda x:x[1] , reverse=True )\n",
        "\n",
        "print('Top 10 Movies Suggested for you : \\n')\n",
        "\n",
        "i=1\n",
        "\n",
        "for movie in Sorted_Similar_Movies:\n",
        "  index=movie[0]\n",
        "  title_from_index = df[df.Movie_ID==index]['Movie_Title'].values\n",
        "  if(i<11):\n",
        "    print(i, ' - ' , title_from_index)\n",
        "    i+=1"
      ],
      "metadata": {
        "colab": {
          "base_uri": "https://localhost:8080/"
        },
        "id": "fvJ9ckh04Z8o",
        "outputId": "929ae216-98c2-43fb-c55b-e71dc313391c"
      },
      "execution_count": null,
      "outputs": [
        {
          "output_type": "stream",
          "name": "stdout",
          "text": [
            "Enter your favourite Movie Name : avtaar\n",
            "Top 10 Movies Suggested for you : \n",
            "\n",
            "1  -  ['Avatar']\n",
            "2  -  ['Precious']\n",
            "3  -  ['The Girl on the Train']\n",
            "4  -  ['Supporting Characters']\n",
            "5  -  ['Submarine']\n",
            "6  -  ['Act of Valor']\n",
            "7  -  ['The Opposite Sex']\n",
            "8  -  ['Donnie Darko']\n",
            "9  -  ['Elizabethtown']\n",
            "10  -  ['Final Fantasy: The Spirits Within']\n"
          ]
        }
      ]
    }
  ]
}